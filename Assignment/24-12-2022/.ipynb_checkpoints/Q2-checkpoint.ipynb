{
 "cells": [
  {
   "cell_type": "markdown",
   "id": "390f965d",
   "metadata": {},
   "source": [
    "### Write programs with the following Files Opening Modes:\n",
    "\n",
    "### r, w, a, r+, w+, a+, rb, wb, ab, rb+, wb+, ab+"
   ]
  },
  {
   "cell_type": "markdown",
   "id": "c205fe8d",
   "metadata": {},
   "source": [
    "# Writing in a file"
   ]
  },
  {
   "cell_type": "code",
   "execution_count": 114,
   "id": "46cea8e0",
   "metadata": {},
   "outputs": [],
   "source": [
    "with open('data.txt', 'w') as f:\n",
    "    f.write('This is a data written using python program in a text file.\\n')"
   ]
  },
  {
   "cell_type": "code",
   "execution_count": null,
   "id": "3d45e03a",
   "metadata": {},
   "outputs": [],
   "source": []
  },
  {
   "cell_type": "markdown",
   "id": "18373527",
   "metadata": {},
   "source": [
    "# Reading the file"
   ]
  },
  {
   "cell_type": "code",
   "execution_count": 115,
   "id": "1d728b31",
   "metadata": {},
   "outputs": [
    {
     "name": "stdout",
     "output_type": "stream",
     "text": [
      "This is a data written using python program in a text file.\n",
      "\n"
     ]
    }
   ],
   "source": [
    "with open('data.txt', 'r') as f:\n",
    "    print(f.read())"
   ]
  },
  {
   "cell_type": "code",
   "execution_count": null,
   "id": "1fab4b22",
   "metadata": {},
   "outputs": [],
   "source": []
  },
  {
   "cell_type": "markdown",
   "id": "b69d5bf2",
   "metadata": {},
   "source": [
    "# Append content in a file"
   ]
  },
  {
   "cell_type": "code",
   "execution_count": null,
   "id": "ea7f04e0",
   "metadata": {},
   "outputs": [],
   "source": []
  },
  {
   "cell_type": "code",
   "execution_count": 116,
   "id": "760cebc0",
   "metadata": {},
   "outputs": [],
   "source": [
    "data_to_append = \"She had been told time and time again that the most important steps were the first and the last. It was something that she carried within her in everything she did, but then he showed up and disrupted everything. He told her that she had it wrong. The first step wasn't the most important. The last step wasn't the most important. It was the next step that was the most important.\".split('. ')"
   ]
  },
  {
   "cell_type": "code",
   "execution_count": 117,
   "id": "365c9013",
   "metadata": {},
   "outputs": [],
   "source": [
    "data_to_append = list(map(lambda text: text+'\\n',data_to_append))"
   ]
  },
  {
   "cell_type": "code",
   "execution_count": 118,
   "id": "a328b5ec",
   "metadata": {},
   "outputs": [
    {
     "data": {
      "text/plain": [
       "['She had been told time and time again that the most important steps were the first and the last\\n',\n",
       " 'It was something that she carried within her in everything she did, but then he showed up and disrupted everything\\n',\n",
       " 'He told her that she had it wrong\\n',\n",
       " \"The first step wasn't the most important\\n\",\n",
       " \"The last step wasn't the most important\\n\",\n",
       " 'It was the next step that was the most important.\\n']"
      ]
     },
     "execution_count": 118,
     "metadata": {},
     "output_type": "execute_result"
    }
   ],
   "source": [
    "data_to_append"
   ]
  },
  {
   "cell_type": "code",
   "execution_count": 119,
   "id": "1d16bc12",
   "metadata": {},
   "outputs": [],
   "source": [
    "with open('data.txt', 'a') as f:\n",
    "    f.writelines(data_to_append)"
   ]
  },
  {
   "cell_type": "code",
   "execution_count": null,
   "id": "be74cf3a",
   "metadata": {},
   "outputs": [],
   "source": []
  },
  {
   "cell_type": "code",
   "execution_count": 120,
   "id": "7e06584e",
   "metadata": {},
   "outputs": [
    {
     "name": "stdout",
     "output_type": "stream",
     "text": [
      "This is a data written using python program in a text file.\n",
      "She had been told time and time again that the most important steps were the first and the last\n",
      "It was something that she carried within her in everything she did, but then he showed up and disrupted everything\n",
      "He told her that she had it wrong\n",
      "The first step wasn't the most important\n",
      "The last step wasn't the most important\n",
      "It was the next step that was the most important.\n",
      "\n"
     ]
    }
   ],
   "source": [
    "with open('data.txt', 'r') as f:\n",
    "    print(f.read())"
   ]
  },
  {
   "cell_type": "code",
   "execution_count": null,
   "id": "c6afb6b2",
   "metadata": {},
   "outputs": [],
   "source": []
  },
  {
   "cell_type": "markdown",
   "id": "e200cf73",
   "metadata": {},
   "source": [
    "# r+ mode"
   ]
  },
  {
   "cell_type": "code",
   "execution_count": 121,
   "id": "f08b5aaa",
   "metadata": {},
   "outputs": [
    {
     "name": "stdout",
     "output_type": "stream",
     "text": [
      "This is a data written using python program in a text file.\n",
      "\n",
      "This is a data written using python program in a text file.\n",
      "She had been told time and time again that the most important steps were the first and the last\n",
      "It was something that she carried within her in everything she did, but then he showed up and disrupted everything\n",
      "He told her that she had it wrong\n",
      "The first step wasn't the most important\n",
      "The last step wasn't the most important\n",
      "It was the next step that was the most important.\n",
      "Content added with r+ mode in between the file\n",
      "\n"
     ]
    }
   ],
   "source": [
    "with open('data.txt', 'r+') as f:  #Perform read and write operation on the file\n",
    "    print(f.readline())\n",
    "    f.write('Content added with r+ mode in between the file\\n')\n",
    "    f.seek(0)\n",
    "    print(f.read())\n",
    "    "
   ]
  },
  {
   "cell_type": "code",
   "execution_count": null,
   "id": "db04a362",
   "metadata": {},
   "outputs": [],
   "source": []
  },
  {
   "cell_type": "markdown",
   "id": "14925d45",
   "metadata": {},
   "source": [
    "# w+ mode"
   ]
  },
  {
   "cell_type": "code",
   "execution_count": 122,
   "id": "737b15e8",
   "metadata": {},
   "outputs": [
    {
     "name": "stdout",
     "output_type": "stream",
     "text": [
      "She had been told time and time again that the most important steps were the first and the last\n",
      "It was something that she carried within her in everything she did, but then he showed up and disrupted everything\n",
      "He told her that she had it wrong\n",
      "The first step wasn't the most important\n",
      "The last step wasn't the most important\n",
      "It was the next step that was the most important.\n",
      "\n"
     ]
    }
   ],
   "source": [
    "with open('+data.txt', 'w+') as f: #First truncates the file and we can perform read and write perform on the file\n",
    "    f.writelines(data_to_append)\n",
    "    f.seek(0)\n",
    "    print(f.read())"
   ]
  },
  {
   "cell_type": "code",
   "execution_count": null,
   "id": "1ddccb07",
   "metadata": {},
   "outputs": [],
   "source": []
  },
  {
   "cell_type": "markdown",
   "id": "4dfd5699",
   "metadata": {},
   "source": [
    "# a+ mode"
   ]
  },
  {
   "cell_type": "code",
   "execution_count": 123,
   "id": "507fc747",
   "metadata": {},
   "outputs": [
    {
     "name": "stdout",
     "output_type": "stream",
     "text": [
      "She had been told time and time again that the most important steps were the first and the last\n",
      "It was something that she carried within her in everything she did, but then he showed up and disrupted everything\n",
      "He told her that she had it wrong\n",
      "The first step wasn't the most important\n",
      "The last step wasn't the most important\n",
      "It was the next step that was the most important.\n",
      "She had been told time and time again that the most important steps were the first and the last\n",
      "It was something that she carried within her in everything she did, but then he showed up and disrupted everything\n",
      "He told her that she had it wrong\n",
      "The first step wasn't the most important\n",
      "The last step wasn't the most important\n",
      "It was the next step that was the most important.\n",
      "\n"
     ]
    }
   ],
   "source": [
    "with open('+data.txt', 'a+') as f:\n",
    "    f.writelines(data_to_append) #Pointer starts at the end of the file\n",
    "    f.seek(0)\n",
    "    print(f.read())"
   ]
  },
  {
   "cell_type": "code",
   "execution_count": 124,
   "id": "e3c607ab",
   "metadata": {},
   "outputs": [],
   "source": [
    "import pickle"
   ]
  },
  {
   "cell_type": "code",
   "execution_count": 125,
   "id": "ecf34dcc",
   "metadata": {},
   "outputs": [],
   "source": [
    "data_for_binary = 'This is a data written using python program in a text file.\\n'"
   ]
  },
  {
   "cell_type": "code",
   "execution_count": 126,
   "id": "38804188",
   "metadata": {},
   "outputs": [],
   "source": [
    "data_for_binary = {\n",
    "    'name': 'Amit',\n",
    "    'age': 23,\n",
    "    'location': 'Mumbai',\n",
    "}"
   ]
  },
  {
   "cell_type": "markdown",
   "id": "fede456c",
   "metadata": {},
   "source": [
    "# wb mode"
   ]
  },
  {
   "cell_type": "code",
   "execution_count": 144,
   "id": "473e2197",
   "metadata": {},
   "outputs": [],
   "source": [
    "with open('data_binary.txt', 'wb') as f:\n",
    "    pickle.dump(data_for_binary, f)\n",
    "    "
   ]
  },
  {
   "cell_type": "code",
   "execution_count": null,
   "id": "296a5c22",
   "metadata": {},
   "outputs": [],
   "source": []
  },
  {
   "cell_type": "markdown",
   "id": "891506e3",
   "metadata": {},
   "source": [
    "# rb mode"
   ]
  },
  {
   "cell_type": "code",
   "execution_count": 145,
   "id": "f7aaaa64",
   "metadata": {},
   "outputs": [
    {
     "name": "stdout",
     "output_type": "stream",
     "text": [
      "b'\\x80\\x04\\x95/\\x00\\x00\\x00\\x00\\x00\\x00\\x00}\\x94(\\x8c\\x04name\\x94\\x8c\\x04Amit\\x94\\x8c\\x03age\\x94K\\x17\\x8c\\x08location\\x94\\x8c\\x06Mumbai\\x94u.'\n"
     ]
    }
   ],
   "source": [
    "with open('data_binary.txt', 'rb') as f:\n",
    "    print(f.read())"
   ]
  },
  {
   "cell_type": "markdown",
   "id": "bea830b3",
   "metadata": {},
   "source": [
    "# Above content is in binary format which is in machine readable format we can perform operation using pickle module to read the file"
   ]
  },
  {
   "cell_type": "code",
   "execution_count": 146,
   "id": "01e42c66",
   "metadata": {},
   "outputs": [
    {
     "name": "stdout",
     "output_type": "stream",
     "text": [
      "{'name': 'Amit', 'age': 23, 'location': 'Mumbai'}\n"
     ]
    }
   ],
   "source": [
    "with open('data_binary.txt', 'rb') as f:\n",
    "    f_read = pickle.load(f)\n",
    "    \n",
    "    print(f_read)"
   ]
  },
  {
   "cell_type": "code",
   "execution_count": null,
   "id": "12243b16",
   "metadata": {},
   "outputs": [],
   "source": []
  },
  {
   "cell_type": "markdown",
   "id": "da51dff7",
   "metadata": {},
   "source": [
    "# ab mode"
   ]
  },
  {
   "cell_type": "code",
   "execution_count": 147,
   "id": "f7d150d9",
   "metadata": {},
   "outputs": [],
   "source": [
    "with open('data_binary.txt', 'ab') as f:\n",
    "    f.seek(0)\n",
    "    pickle.dump(data_to_append,f)"
   ]
  },
  {
   "cell_type": "code",
   "execution_count": null,
   "id": "d66fffad",
   "metadata": {},
   "outputs": [],
   "source": []
  },
  {
   "cell_type": "code",
   "execution_count": 148,
   "id": "3ba7b0f5",
   "metadata": {},
   "outputs": [
    {
     "name": "stdout",
     "output_type": "stream",
     "text": [
      "Key: name, Value: Amit\n",
      "Key: age, Value: 23\n",
      "Key: location, Value: Mumbai\n",
      "She had been told time and time again that the most important steps were the first and the last\n",
      "\n",
      "It was something that she carried within her in everything she did, but then he showed up and disrupted everything\n",
      "\n",
      "He told her that she had it wrong\n",
      "\n",
      "The first step wasn't the most important\n",
      "\n",
      "The last step wasn't the most important\n",
      "\n",
      "It was the next step that was the most important.\n",
      "\n"
     ]
    }
   ],
   "source": [
    "with open('data_binary.txt', 'rb') as f:\n",
    "#     f_read = pickle.load(f)\n",
    "    lst = []\n",
    "    while True:\n",
    "        try:\n",
    "            f_read = pickle.load(f)\n",
    "            lst.append(f_read)\n",
    "        except Exception:\n",
    "            break\n",
    "    \n",
    "    for data in lst:\n",
    "        if type(data) == dict:\n",
    "            for k,v in data.items():\n",
    "                print(f\"Key: {k}, Value: {v}\")\n",
    "        \n",
    "        if type(data) == list:\n",
    "            for item in data:\n",
    "                print(item)"
   ]
  },
  {
   "cell_type": "code",
   "execution_count": null,
   "id": "53973247",
   "metadata": {},
   "outputs": [],
   "source": []
  },
  {
   "cell_type": "markdown",
   "id": "2c6d2ae5",
   "metadata": {},
   "source": [
    "# rb+ mode"
   ]
  },
  {
   "cell_type": "code",
   "execution_count": 149,
   "id": "a755abe2",
   "metadata": {},
   "outputs": [
    {
     "name": "stdout",
     "output_type": "stream",
     "text": [
      "{'name': 'Amit', 'age': 23, 'location': 'Mumbai'}\n",
      "Key: name, Value: Amit\n",
      "Key: age, Value: 23\n",
      "Key: location, Value: Mumbai\n",
      "She had been told time and time again that the most important steps were the first and the last\n",
      "\n",
      "It was something that she carried within her in everything she did, but then he showed up and disrupted everything\n",
      "\n",
      "He told her that she had it wrong\n",
      "\n",
      "The first step wasn't the most important\n",
      "\n",
      "The last step wasn't the most important\n",
      "\n",
      "It was the next step that was the most important.\n",
      "\n"
     ]
    }
   ],
   "source": [
    "with open('data_binary.txt', 'rb+') as f:  #Perform read and write operation on the file\n",
    "    f_read = pickle.load(f)\n",
    "    print(f_read)\n",
    "#     pickle.dump('Content added with r+ mode in between the file\\n',f)\n",
    "    f.seek(0)\n",
    "    lst = []\n",
    "    while True:\n",
    "        try:\n",
    "            f_read = pickle.load(f)\n",
    "            lst.append(f_read)\n",
    "        except Exception:\n",
    "            break\n",
    "    \n",
    "    for data in lst:\n",
    "        if type(data) == dict:\n",
    "            for k,v in data.items():\n",
    "                print(f\"Key: {k}, Value: {v}\")\n",
    "        \n",
    "        elif type(data) == list:\n",
    "            for item in data:\n",
    "                print(item)\n",
    "                \n",
    "        else:\n",
    "            print(data)"
   ]
  },
  {
   "cell_type": "code",
   "execution_count": null,
   "id": "d94be2a1",
   "metadata": {},
   "outputs": [],
   "source": []
  },
  {
   "cell_type": "markdown",
   "id": "848cf110",
   "metadata": {},
   "source": [
    "# wb+ mode"
   ]
  },
  {
   "cell_type": "code",
   "execution_count": 150,
   "id": "d61b5c6b",
   "metadata": {},
   "outputs": [
    {
     "name": "stdout",
     "output_type": "stream",
     "text": [
      "She had been told time and time again that the most important steps were the first and the last\n",
      "\n",
      "It was something that she carried within her in everything she did, but then he showed up and disrupted everything\n",
      "\n",
      "He told her that she had it wrong\n",
      "\n",
      "The first step wasn't the most important\n",
      "\n",
      "The last step wasn't the most important\n",
      "\n",
      "It was the next step that was the most important.\n",
      "\n"
     ]
    }
   ],
   "source": [
    "with open('data_binary.txt.txt', 'wb+') as f: #First truncates the file and we can perform read and write perform on the file\n",
    "    pickle.dump(data_to_append,f)\n",
    "    f.seek(0)\n",
    "    f_read = pickle.load(f)\n",
    "    for data in f_read:\n",
    "        print(data)"
   ]
  },
  {
   "cell_type": "code",
   "execution_count": null,
   "id": "23a47c87",
   "metadata": {},
   "outputs": [],
   "source": []
  },
  {
   "cell_type": "markdown",
   "id": "70453105",
   "metadata": {},
   "source": [
    "# ab+ mode"
   ]
  },
  {
   "cell_type": "code",
   "execution_count": 151,
   "id": "c0c2556c",
   "metadata": {},
   "outputs": [
    {
     "name": "stdout",
     "output_type": "stream",
     "text": [
      "Key: name, Value: Amit\n",
      "Key: age, Value: 23\n",
      "Key: location, Value: Mumbai\n",
      "She had been told time and time again that the most important steps were the first and the last\n",
      "\n",
      "It was something that she carried within her in everything she did, but then he showed up and disrupted everything\n",
      "\n",
      "He told her that she had it wrong\n",
      "\n",
      "The first step wasn't the most important\n",
      "\n",
      "The last step wasn't the most important\n",
      "\n",
      "It was the next step that was the most important.\n",
      "\n",
      "She had been told time and time again that the most important steps were the first and the last\n",
      "\n",
      "It was something that she carried within her in everything she did, but then he showed up and disrupted everything\n",
      "\n",
      "He told her that she had it wrong\n",
      "\n",
      "The first step wasn't the most important\n",
      "\n",
      "The last step wasn't the most important\n",
      "\n",
      "It was the next step that was the most important.\n",
      "\n"
     ]
    }
   ],
   "source": [
    "with open('data_binary.txt', 'ab+') as f:\n",
    "    pickle.dump(data_to_append, f) #Pointer starts at the end of the file\n",
    "    f.seek(0)\n",
    "    lst = []\n",
    "    while True:\n",
    "        try:\n",
    "            f_read = pickle.load(f)\n",
    "            lst.append(f_read)\n",
    "        except Exception:\n",
    "            break\n",
    "    \n",
    "    for data in lst:\n",
    "        if type(data) == dict:\n",
    "            for k,v in data.items():\n",
    "                print(f\"Key: {k}, Value: {v}\")\n",
    "        \n",
    "        elif type(data) == list or type(data) == tuple:\n",
    "            for item in data:\n",
    "                print(item)\n",
    "                \n",
    "        else:\n",
    "            print(data)\n",
    "                "
   ]
  },
  {
   "cell_type": "code",
   "execution_count": null,
   "id": "3f28c26a",
   "metadata": {},
   "outputs": [],
   "source": []
  }
 ],
 "metadata": {
  "kernelspec": {
   "display_name": "archive",
   "language": "python",
   "name": "archive"
  },
  "language_info": {
   "codemirror_mode": {
    "name": "ipython",
    "version": 3
   },
   "file_extension": ".py",
   "mimetype": "text/x-python",
   "name": "python",
   "nbconvert_exporter": "python",
   "pygments_lexer": "ipython3",
   "version": "3.11.1"
  }
 },
 "nbformat": 4,
 "nbformat_minor": 5
}
