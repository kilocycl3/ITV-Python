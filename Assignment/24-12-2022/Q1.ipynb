{
 "cells": [
  {
   "cell_type": "markdown",
   "id": "390f965d",
   "metadata": {},
   "source": [
    "### Create a Text file and add contents in that file ..Perform read,write,append mode in that file"
   ]
  },
  {
   "cell_type": "markdown",
   "id": "c205fe8d",
   "metadata": {},
   "source": [
    "# Writing in a file"
   ]
  },
  {
   "cell_type": "code",
   "execution_count": 40,
   "id": "46cea8e0",
   "metadata": {},
   "outputs": [],
   "source": [
    "with open('data.txt', 'w') as f:\n",
    "    f.write('This is a data written using python program in a text file.\\n')"
   ]
  },
  {
   "cell_type": "code",
   "execution_count": null,
   "id": "3d45e03a",
   "metadata": {},
   "outputs": [],
   "source": []
  },
  {
   "cell_type": "markdown",
   "id": "18373527",
   "metadata": {},
   "source": [
    "# Reading the file"
   ]
  },
  {
   "cell_type": "code",
   "execution_count": 41,
   "id": "1d728b31",
   "metadata": {},
   "outputs": [
    {
     "name": "stdout",
     "output_type": "stream",
     "text": [
      "This is a data written using python program in a text file.\n",
      "\n"
     ]
    }
   ],
   "source": [
    "with open('data.txt', 'r') as f:\n",
    "    print(f.read())"
   ]
  },
  {
   "cell_type": "code",
   "execution_count": null,
   "id": "1fab4b22",
   "metadata": {},
   "outputs": [],
   "source": []
  },
  {
   "cell_type": "markdown",
   "id": "b69d5bf2",
   "metadata": {},
   "source": [
    "# Append content in a file"
   ]
  },
  {
   "cell_type": "code",
   "execution_count": null,
   "id": "ea7f04e0",
   "metadata": {},
   "outputs": [],
   "source": []
  },
  {
   "cell_type": "code",
   "execution_count": 42,
   "id": "760cebc0",
   "metadata": {},
   "outputs": [],
   "source": [
    "data_to_append = \"She had been told time and time again that the most important steps were the first and the last. It was something that she carried within her in everything she did, but then he showed up and disrupted everything. He told her that she had it wrong. The first step wasn't the most important. The last step wasn't the most important. It was the next step that was the most important.\".split('. ')"
   ]
  },
  {
   "cell_type": "code",
   "execution_count": 43,
   "id": "365c9013",
   "metadata": {},
   "outputs": [],
   "source": [
    "data_to_append = list(map(lambda text: text+'\\n',data_to_append))"
   ]
  },
  {
   "cell_type": "code",
   "execution_count": 44,
   "id": "a328b5ec",
   "metadata": {},
   "outputs": [
    {
     "data": {
      "text/plain": [
       "['She had been told time and time again that the most important steps were the first and the last\\n',\n",
       " 'It was something that she carried within her in everything she did, but then he showed up and disrupted everything\\n',\n",
       " 'He told her that she had it wrong\\n',\n",
       " \"The first step wasn't the most important\\n\",\n",
       " \"The last step wasn't the most important\\n\",\n",
       " 'It was the next step that was the most important.\\n']"
      ]
     },
     "execution_count": 44,
     "metadata": {},
     "output_type": "execute_result"
    }
   ],
   "source": [
    "data_to_append"
   ]
  },
  {
   "cell_type": "code",
   "execution_count": 45,
   "id": "1d16bc12",
   "metadata": {},
   "outputs": [],
   "source": [
    "with open('data.txt', 'a') as f:\n",
    "    f.writelines(data_to_append)"
   ]
  },
  {
   "cell_type": "code",
   "execution_count": null,
   "id": "be74cf3a",
   "metadata": {},
   "outputs": [],
   "source": []
  },
  {
   "cell_type": "code",
   "execution_count": 46,
   "id": "7e06584e",
   "metadata": {},
   "outputs": [
    {
     "name": "stdout",
     "output_type": "stream",
     "text": [
      "This is a data written using python program in a text file.\n",
      "She had been told time and time again that the most important steps were the first and the last\n",
      "It was something that she carried within her in everything she did, but then he showed up and disrupted everything\n",
      "He told her that she had it wrong\n",
      "The first step wasn't the most important\n",
      "The last step wasn't the most important\n",
      "It was the next step that was the most important.\n",
      "\n"
     ]
    }
   ],
   "source": [
    "with open('data.txt', 'r') as f:\n",
    "    print(f.read())"
   ]
  },
  {
   "cell_type": "code",
   "execution_count": null,
   "id": "c6afb6b2",
   "metadata": {},
   "outputs": [],
   "source": []
  }
 ],
 "metadata": {
  "kernelspec": {
   "display_name": "archive",
   "language": "python",
   "name": "archive"
  },
  "language_info": {
   "codemirror_mode": {
    "name": "ipython",
    "version": 3
   },
   "file_extension": ".py",
   "mimetype": "text/x-python",
   "name": "python",
   "nbconvert_exporter": "python",
   "pygments_lexer": "ipython3",
   "version": "3.11.1"
  }
 },
 "nbformat": 4,
 "nbformat_minor": 5
}
