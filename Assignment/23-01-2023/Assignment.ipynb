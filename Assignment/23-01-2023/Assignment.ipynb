{
 "cells": [
  {
   "cell_type": "markdown",
   "id": "fd03e829",
   "metadata": {},
   "source": [
    "# Question 1"
   ]
  },
  {
   "cell_type": "raw",
   "id": "9cef96df",
   "metadata": {},
   "source": [
    "Q1) Create a function that takes a dictionary of objects like { \"name\": \"John\", \"notes\":\n",
    "[3, 5, 4] } and returns a dictionary of objects like { \"name\": \"John\", \"top_note\": \n",
    "5 }.\n",
    "\n",
    "Examples\n",
    "top_note({ \"name\": \"John\", \"notes\": [3, 5, 4] }) ➞ { \"name\": \"John\", \n",
    "\"top_note\": 5 }\n",
    "top_note({ \"name\": \"Max\", \"notes\": [1, 4, 6] }) ➞ { \"name\": \"Max\", \n",
    "\"top_note\": 6 }\n",
    "top_note({ \"name\": \"Zygmund\", \"notes\": [1, 2, 3] }) ➞ { \"name\": \n",
    "\"Zygmund\", \"top_note\": 3 }"
   ]
  },
  {
   "cell_type": "code",
   "execution_count": 2,
   "id": "3e3ca4b7",
   "metadata": {},
   "outputs": [],
   "source": [
    "def top_note(data):\n",
    "    \n",
    "    d = {}\n",
    "    \n",
    "    d['name'] = data['name']\n",
    "    d['top_note'] = max(data['notes'])\n",
    "    \n",
    "    return d"
   ]
  },
  {
   "cell_type": "code",
   "execution_count": 3,
   "id": "f2de4235",
   "metadata": {},
   "outputs": [
    {
     "name": "stdout",
     "output_type": "stream",
     "text": [
      "{'name': 'John', 'top_note': 5}\n",
      "{'name': 'Max', 'top_note': 6}\n",
      "{'name': 'Zygmund', 'top_note': 3}\n"
     ]
    }
   ],
   "source": [
    "print(top_note({ \"name\": \"John\", \"notes\": [3, 5, 4] }))\n",
    "print(top_note({ \"name\": \"Max\", \"notes\": [1, 4, 6] }))\n",
    "print(top_note({ \"name\": \"Zygmund\", \"notes\": [1, 2, 3,-7] }))"
   ]
  },
  {
   "cell_type": "code",
   "execution_count": null,
   "id": "8db64f85",
   "metadata": {},
   "outputs": [],
   "source": []
  },
  {
   "cell_type": "markdown",
   "id": "0a78dcc9",
   "metadata": {},
   "source": [
    "# Question 2"
   ]
  },
  {
   "cell_type": "raw",
   "id": "6b7df795",
   "metadata": {},
   "source": [
    "Q2) Hamming distance is the number of characters that differ between two strings.\n",
    "To illustrate:\n",
    "String1: \"abcbba\"\n",
    "String2: \"abcbda\"\n",
    "Hamming Distance: 1 - \"b\" vs. \"d\" is the only difference.\n",
    "\n",
    "Create a function that computes the hamming distance between two strings.\n",
    "Examples\n",
    "hamming_distance(\"abcde\", \"bcdef\") ➞ 5\n",
    "hamming_distance(\"abcde\", \"abcde\") ➞ 0\n",
    "hamming_distance(\"strong\", \"strung\") ➞ 1\n",
    "\n",
    "Notes\n",
    "Both strings will have the same length."
   ]
  },
  {
   "cell_type": "code",
   "execution_count": 6,
   "id": "40040d18",
   "metadata": {},
   "outputs": [],
   "source": [
    "def hamming_distance(s1, s2):\n",
    "    \n",
    "    count = 0\n",
    "    for i in range(len(s1)):\n",
    "        \n",
    "        if s1[i]!=s2[i]:\n",
    "            count+=1\n",
    "    \n",
    "    return count"
   ]
  },
  {
   "cell_type": "code",
   "execution_count": 8,
   "id": "04296970",
   "metadata": {},
   "outputs": [
    {
     "name": "stdout",
     "output_type": "stream",
     "text": [
      "Hamming distance between abcde and bcdef: 5\n",
      "Hamming distance between abcde and abcde: 0\n",
      "Hamming distance between strong and strung: 1\n"
     ]
    }
   ],
   "source": [
    "print(f'Hamming distance between abcde and bcdef: {hamming_distance(\"abcde\",\"bcdef\")}')\n",
    "print(f'Hamming distance between abcde and abcde: {hamming_distance(\"abcde\",\"abcde\")}')\n",
    "print(f'Hamming distance between strong and strung: {hamming_distance(\"strong\",\"strung\")}')"
   ]
  },
  {
   "cell_type": "code",
   "execution_count": null,
   "id": "aa098dc7",
   "metadata": {},
   "outputs": [],
   "source": []
  },
  {
   "cell_type": "markdown",
   "id": "d632a1ae",
   "metadata": {},
   "source": [
    "# Question 3"
   ]
  },
  {
   "cell_type": "raw",
   "id": "97dda778",
   "metadata": {},
   "source": [
    "Q3) An isogram is a word that has no duplicate letters. Create a function that takes a string and \n",
    "returns either True or False depending on whether or not it's an \"isogram\".\n",
    "Examples\n",
    "is_isogram(\"Algorism\") ➞ True\n",
    "is_isogram(\"PasSword\") ➞ False\n",
    "# Not case sensitive.\n",
    "is_isogram(\"Consecutive\") ➞ False\n",
    "Notes\n",
    "•Ignore letter case (should not be case sensitive).\n",
    "•All test cases contain valid one word strings."
   ]
  },
  {
   "cell_type": "code",
   "execution_count": 13,
   "id": "568c9829",
   "metadata": {},
   "outputs": [],
   "source": [
    "def is_isogram(s):\n",
    "    \n",
    "    s = s.lower()\n",
    "    \n",
    "    for i in range(len(s)):\n",
    "        for j in range(i+1,len(s)):\n",
    "            if s[i] == s[j]:\n",
    "                return False\n",
    "        \n",
    "    return True"
   ]
  },
  {
   "cell_type": "code",
   "execution_count": 15,
   "id": "c4631ed0",
   "metadata": {},
   "outputs": [
    {
     "name": "stdout",
     "output_type": "stream",
     "text": [
      "True\n",
      "False\n",
      "False\n"
     ]
    }
   ],
   "source": [
    "print(is_isogram(\"Algorism\"))\n",
    "print(is_isogram(\"PasSword\"))\n",
    "print(is_isogram(\"Consecutive\"))"
   ]
  },
  {
   "cell_type": "code",
   "execution_count": null,
   "id": "9a1447e6",
   "metadata": {},
   "outputs": [],
   "source": []
  },
  {
   "cell_type": "markdown",
   "id": "e8af4efa",
   "metadata": {},
   "source": [
    "# Question 4"
   ]
  },
  {
   "cell_type": "raw",
   "id": "cb28bea5",
   "metadata": {},
   "source": [
    "Q4) Create a function that takes a dictionary of student names and returns a list of student \n",
    "names in alphabetical order.\n",
    "Examples\n",
    "get_student_names({\n",
    " \"Student 1\" : \"Steve\",\n",
    " \"Student 2\" : \"Becky\",\n",
    " \"Student 3\" : \"John\"\n",
    "}) ➞ [\"Becky\", \"John\", \"Steve\"]\n",
    "Notes\n",
    "•Don't forget to return your result."
   ]
  },
  {
   "cell_type": "code",
   "execution_count": 16,
   "id": "17090159",
   "metadata": {},
   "outputs": [],
   "source": [
    "def get_student_names(d):\n",
    "    \n",
    "    return list(d.values())"
   ]
  },
  {
   "cell_type": "code",
   "execution_count": 18,
   "id": "f4a57bfe",
   "metadata": {},
   "outputs": [
    {
     "data": {
      "text/plain": [
       "['Steve', 'Becky', 'John']"
      ]
     },
     "execution_count": 18,
     "metadata": {},
     "output_type": "execute_result"
    }
   ],
   "source": [
    "get_student_names({\n",
    "    \"Student 1\" : \"Steve\",\n",
    "     \"Student 2\" : \"Becky\",\n",
    "     \"Student 3\" : \"John\"\n",
    "})"
   ]
  },
  {
   "cell_type": "code",
   "execution_count": null,
   "id": "b66e3c27",
   "metadata": {},
   "outputs": [],
   "source": []
  },
  {
   "cell_type": "markdown",
   "id": "918430ae",
   "metadata": {},
   "source": [
    "# Question 5"
   ]
  },
  {
   "cell_type": "raw",
   "id": "c4034caf",
   "metadata": {},
   "source": [
    "Q5) Create a function that returns the mean of all digits.\n",
    "Examples\n",
    "mean(42) ➞ 3\n",
    "mean(12345) ➞ 3\n",
    "mean(666) ➞ 6\n",
    "Notes\n",
    "•The mean of all digits is the sum of digits / how many digits there are (e.g. mean of digits \n",
    "in 512 is (5+1+2)/3(number of digits) = 8/3=2).\n",
    "•The mean will always be an integer"
   ]
  },
  {
   "cell_type": "code",
   "execution_count": 1,
   "id": "7d420ca4",
   "metadata": {},
   "outputs": [],
   "source": [
    "def mean(n):\n",
    "    \n",
    "    total = 0\n",
    "    count = 0\n",
    "    \n",
    "    while n:\n",
    "        \n",
    "        total += n%10\n",
    "        count+=1\n",
    "        \n",
    "        n = n//10\n",
    "        \n",
    "    return int(total/count)"
   ]
  },
  {
   "cell_type": "code",
   "execution_count": 2,
   "id": "c53acd3a",
   "metadata": {},
   "outputs": [
    {
     "name": "stdout",
     "output_type": "stream",
     "text": [
      "3\n",
      "3\n",
      "6\n"
     ]
    }
   ],
   "source": [
    "print(mean(42))\n",
    "print(mean(12345))\n",
    "print(mean(666))"
   ]
  },
  {
   "cell_type": "code",
   "execution_count": null,
   "id": "7265e8bf",
   "metadata": {},
   "outputs": [],
   "source": []
  },
  {
   "cell_type": "markdown",
   "id": "685991a6",
   "metadata": {},
   "source": [
    "# Question 6"
   ]
  },
  {
   "cell_type": "raw",
   "id": "3b99c58e",
   "metadata": {},
   "source": [
    "Q6) You are given a list of dates in the format Dec 11 and a month in the format Dec as \n",
    "arguments. Each date represents a video that was uploaded on that day. Return the number of \n",
    "uploads for a given month.\n",
    "Examples\n",
    "upload_count([\"Sept 22\", \"Sept 21\", \"Oct 15\"], \"Sept\") ➞ 2\n",
    "upload_count([\"Sept 22\", \"Sept 21\", \"Oct 15\"], \"Oct\") ➞ 1\n",
    "Notes\n",
    "If you only pay attention to the month and ignore the day, the challenge will become easier"
   ]
  },
  {
   "cell_type": "code",
   "execution_count": 24,
   "id": "ba3ac7ed",
   "metadata": {},
   "outputs": [],
   "source": [
    "def upload_count(lst, s):\n",
    "    \n",
    "    count = 0\n",
    "    \n",
    "    for i in lst:\n",
    "        \n",
    "        if s in i:\n",
    "            count+=1\n",
    "            \n",
    "    return count"
   ]
  },
  {
   "cell_type": "code",
   "execution_count": 26,
   "id": "59b5eeca",
   "metadata": {},
   "outputs": [
    {
     "name": "stdout",
     "output_type": "stream",
     "text": [
      "2\n",
      "1\n"
     ]
    }
   ],
   "source": [
    "print(upload_count([\"Sept 22\", \"Sept 21\", \"Oct 15\"], \"Sept\"))\n",
    "print(upload_count([\"Sept 22\", \"Sept 21\", \"Oct 15\"], \"Oct\"))"
   ]
  },
  {
   "cell_type": "code",
   "execution_count": null,
   "id": "22b4cc4c",
   "metadata": {},
   "outputs": [],
   "source": []
  },
  {
   "cell_type": "markdown",
   "id": "3d579a32",
   "metadata": {},
   "source": [
    "# Question 7"
   ]
  },
  {
   "cell_type": "raw",
   "id": "c92d78a7",
   "metadata": {},
   "source": [
    "Q7) Create a function which adds spaces before every capital in a word. Uncapitalize the whole \n",
    "string afterwards.\n",
    "Examples\n",
    "cap_space(\"helloWorld\") ➞ \"hello world\"\n",
    "cap_space(\"iLoveMyTeapot\") ➞ \"i love my teapot\"\n",
    "cap_space(\"stayIndoors\") ➞ \"stay indoors\"\n",
    "Notes\n",
    "The first letter will stay uncapitalized.\n"
   ]
  },
  {
   "cell_type": "code",
   "execution_count": 34,
   "id": "cf1c6fdd",
   "metadata": {},
   "outputs": [],
   "source": [
    "import string\n",
    "\n",
    "def cap_space(s):\n",
    "    \n",
    "    capital = string.ascii_uppercase\n",
    "    s1 = ''\n",
    "    \n",
    "    for i in s:\n",
    "        if i in capital:\n",
    "            s1+=' '\n",
    "            \n",
    "        s1+=i\n",
    "        \n",
    "    return s1.lower()"
   ]
  },
  {
   "cell_type": "code",
   "execution_count": 37,
   "id": "fb604fcd",
   "metadata": {},
   "outputs": [
    {
     "name": "stdout",
     "output_type": "stream",
     "text": [
      "hello world\n",
      "i love my teapot\n",
      "stay indoors\n"
     ]
    }
   ],
   "source": [
    "print(cap_space(\"helloWorld\"))\n",
    "print(cap_space(\"iLoveMyTeapot\"))\n",
    "print(cap_space(\"stayIndoors\"))"
   ]
  },
  {
   "cell_type": "code",
   "execution_count": null,
   "id": "4c964632",
   "metadata": {},
   "outputs": [],
   "source": []
  },
  {
   "cell_type": "markdown",
   "id": "9b772873",
   "metadata": {},
   "source": [
    "# Question 8"
   ]
  },
  {
   "cell_type": "raw",
   "id": "67cba30b",
   "metadata": {},
   "source": [
    "Q8) Create a function that, given a number, returns the corresponding value of that index in the \n",
    "Fibonacci series.\n",
    "The Fibonacci Sequence is the series of numbers:\n",
    "1, 1, 2, 3, 5, 8, 13, 21, 34, ...\n",
    "The next number is found by adding the two numbers before it:\n",
    "•The 2 is found by adding the two numbers before it (1+1).\n",
    "•The 3 is found by adding the two numbers before it (1+2).\n",
    "•The 5 is (2+3), and so on!\n",
    "Examples\n",
    "fibonacci(3) ➞ 3\n",
    "fibonacci(7) ➞ 21\n",
    "fibonacci(12) ➞ 233\n",
    "Notes\n",
    "The first number in the sequence starts at 1 (not 0)"
   ]
  },
  {
   "cell_type": "code",
   "execution_count": 69,
   "id": "ce3e5f12",
   "metadata": {},
   "outputs": [],
   "source": [
    "def fib(n):\n",
    "    \n",
    "    if n == 1:\n",
    "        return 1\n",
    "    elif n == 2:\n",
    "        return 2\n",
    "    \n",
    "    return fib(n-1)+fib(n-2)"
   ]
  },
  {
   "cell_type": "code",
   "execution_count": 72,
   "id": "fa3b9433",
   "metadata": {},
   "outputs": [
    {
     "name": "stdout",
     "output_type": "stream",
     "text": [
      "3\n",
      "21\n",
      "233\n"
     ]
    }
   ],
   "source": [
    "print(fib(3))\n",
    "print(fib(7))\n",
    "print(fib(12))"
   ]
  },
  {
   "cell_type": "code",
   "execution_count": null,
   "id": "5da8ef12",
   "metadata": {},
   "outputs": [],
   "source": []
  },
  {
   "cell_type": "markdown",
   "id": "9504b2fd",
   "metadata": {},
   "source": [
    "# Question 9"
   ]
  },
  {
   "cell_type": "raw",
   "id": "9287d6be",
   "metadata": {},
   "source": [
    "Q9) Given a list and chunk size \"n\", create a function such that it divides the list into many \n",
    "sublists where each sublist is of length size \"n\".\n",
    "Examples\n",
    "chunk([1, 2, 3, 4], 2) ➞ [\n",
    " [1, 2], [3, 4]\n",
    "]\n",
    "chunk([1, 2, 3, 4, 5, 6, 7], 3) ➞ [\n",
    " [1, 2, 3], [4, 5, 6], [7]\n",
    "]\n",
    "chunk([1, 2, 3, 4 ,5], 10) ➞ [\n",
    " [1, 2, 3, 4, 5]\n",
    "]\n",
    "Notes\n",
    "Remember that number of sublists may not be equal to chunk size"
   ]
  },
  {
   "cell_type": "code",
   "execution_count": 47,
   "id": "bcb8e14f",
   "metadata": {},
   "outputs": [],
   "source": [
    "def chunk(lst, count):\n",
    "    \n",
    "    l = []\n",
    "    \n",
    "    for i in range(0, len(lst), count):\n",
    "        l.append(lst[i:i+count])\n",
    "    \n",
    "    return l"
   ]
  },
  {
   "cell_type": "code",
   "execution_count": 49,
   "id": "ed6cf3b6",
   "metadata": {},
   "outputs": [
    {
     "name": "stdout",
     "output_type": "stream",
     "text": [
      "[[1, 2], [3, 4]]\n",
      "[[1, 2, 3], [4, 5, 6], [7]]\n",
      "[[1, 2, 3, 4, 5]]\n"
     ]
    }
   ],
   "source": [
    "print(chunk([1, 2, 3, 4], 2))\n",
    "print(chunk([1, 2, 3, 4, 5, 6, 7], 3))\n",
    "print(chunk([1, 2, 3, 4 ,5], 10))"
   ]
  },
  {
   "cell_type": "code",
   "execution_count": null,
   "id": "fa741836",
   "metadata": {},
   "outputs": [],
   "source": []
  },
  {
   "cell_type": "markdown",
   "id": "2fd42e6c",
   "metadata": {},
   "source": [
    "# Question 10 "
   ]
  },
  {
   "cell_type": "raw",
   "id": "dc217c00",
   "metadata": {},
   "source": [
    "Q10) You call your spouse to inform his/her most precious item is gone! Given a dictionary of \n",
    "stolen items, return the most expensive item on the items.\n",
    "Examples\n",
    "most_expensive_item({\n",
    " \"piano\": 2000,\n",
    "}) ➞ \"piano\"\n",
    "most_expensive_item({\n",
    " \"tv\": 30,\n",
    " \"skate\": 20,\n",
    "}) ➞ \"tv\"\n",
    "most_expensive_item({\n",
    " \"tv\": 30,\n",
    " \"skate\": 20,\n",
    " \"stereo\": 50,\n",
    "}) ➞ \"stereo\"\n",
    "Notes\n",
    "•There will only be one most valuable item (no ties).\n",
    "•The dictionary will always contain at least one item (no empty dictionary)"
   ]
  },
  {
   "cell_type": "code",
   "execution_count": 59,
   "id": "1383e05a",
   "metadata": {},
   "outputs": [],
   "source": [
    "def most_expensive_item(d):\n",
    "    \n",
    "    item = ''\n",
    "    value = 0\n",
    "    \n",
    "    \n",
    "    for i,j in d.items():\n",
    "        if j > value:\n",
    "            item = i\n",
    "            value = j\n",
    "            \n",
    "    return item"
   ]
  },
  {
   "cell_type": "code",
   "execution_count": 66,
   "id": "29053184",
   "metadata": {},
   "outputs": [
    {
     "name": "stdout",
     "output_type": "stream",
     "text": [
      "piano\n",
      "tv\n",
      "stereo\n"
     ]
    }
   ],
   "source": [
    "print(most_expensive_item({\n",
    " \"piano\": 2000,\n",
    "}))\n",
    "print(most_expensive_item({\n",
    " \"tv\": 30,\n",
    " \"skate\": 20,\n",
    "}))\n",
    "print(most_expensive_item({\n",
    " \"tv\": 30,\n",
    " \"skate\": 20,\n",
    " \"stereo\": 50,\n",
    "}))"
   ]
  },
  {
   "cell_type": "code",
   "execution_count": null,
   "id": "a7418efd",
   "metadata": {},
   "outputs": [],
   "source": []
  }
 ],
 "metadata": {
  "kernelspec": {
   "display_name": "Python 3 (ipykernel)",
   "language": "python",
   "name": "python3"
  },
  "language_info": {
   "codemirror_mode": {
    "name": "ipython",
    "version": 3
   },
   "file_extension": ".py",
   "mimetype": "text/x-python",
   "name": "python",
   "nbconvert_exporter": "python",
   "pygments_lexer": "ipython3",
   "version": "3.11.1"
  }
 },
 "nbformat": 4,
 "nbformat_minor": 5
}
