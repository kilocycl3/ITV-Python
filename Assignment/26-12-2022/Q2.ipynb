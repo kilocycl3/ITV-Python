{
 "cells": [
  {
   "cell_type": "markdown",
   "id": "643ba121",
   "metadata": {},
   "source": [
    "# Write a program to demonstrate use of try, except and finally keywords."
   ]
  },
  {
   "cell_type": "code",
   "execution_count": 2,
   "id": "201a5c7b",
   "metadata": {},
   "outputs": [
    {
     "name": "stdout",
     "output_type": "stream",
     "text": [
      "Enter a numberdain\n",
      "Execoption occured:  invalid literal for int() with base 10: 'dain'\n",
      "This will always be executed\n"
     ]
    }
   ],
   "source": [
    "try:\n",
    "    n = int(input(\"Enter a number\")) # if we input anything except for number program will throw an exception\n",
    "    \n",
    "    if n == 10:\n",
    "        n = n / 0    # Here ZeroDivisionError occurs since numbers are not divisible to 0\n",
    "        print(n)\n",
    "    else:\n",
    "        print(\"Number is not equal to 10\")\n",
    "except Exception as e:\n",
    "    print(\"Execoption occured: \",e)\n",
    "finally:\n",
    "    print(\"This will always be executed\")   # Finally block will always be executed irrespective of the try or except block"
   ]
  },
  {
   "cell_type": "code",
   "execution_count": 4,
   "id": "3c0c35e4",
   "metadata": {},
   "outputs": [
    {
     "name": "stdout",
     "output_type": "stream",
     "text": [
      "Enter a number10\n",
      "Execoption occured:  division by zero\n",
      "This will always be executed\n"
     ]
    }
   ],
   "source": [
    "try:\n",
    "    n = int(input(\"Enter a number\")) # if we input anything except for number program will throw an exception\n",
    "    \n",
    "    if n == 10:\n",
    "        n = n / 0    # Here ZeroDivisionError occurs since numbers are not divisible to 0\n",
    "        print(n)\n",
    "    else:\n",
    "        print(\"Number is not equal to 10\")\n",
    "except Exception as e:\n",
    "    print(\"Execoption occured: \",e)\n",
    "finally:\n",
    "    print(\"This will always be executed\")   # Finally block will always be executed irrespective of the try or except block"
   ]
  },
  {
   "cell_type": "code",
   "execution_count": null,
   "id": "d5da99b8",
   "metadata": {},
   "outputs": [],
   "source": []
  },
  {
   "cell_type": "code",
   "execution_count": null,
   "id": "266afa6b",
   "metadata": {},
   "outputs": [],
   "source": []
  },
  {
   "cell_type": "markdown",
   "id": "fec2196e",
   "metadata": {},
   "source": [
    "# Write   a program to design custom exceptions."
   ]
  },
  {
   "cell_type": "code",
   "execution_count": 12,
   "id": "5c777e7b",
   "metadata": {},
   "outputs": [
    {
     "name": "stdout",
     "output_type": "stream",
     "text": [
      "Enter a number: 10\n",
      "Given number is 10\n"
     ]
    }
   ],
   "source": [
    "class CustomException(Exception):\n",
    "\n",
    "    pass\n",
    "  \n",
    "    def __str__(self):\n",
    "        return \"Custom Exception: Given number is not 10\"\n",
    "\n",
    "\n",
    "try:\n",
    "    n = int(input(\"Enter a number: \"))\n",
    "    if n/10 != 1:\n",
    "        raise CustomException\n",
    "    else:\n",
    "        print(\"Given number is\",n)\n",
    "\n",
    "except CustomException as ce:\n",
    "    print(\"Execetion occured: \", ce)"
   ]
  },
  {
   "cell_type": "code",
   "execution_count": 14,
   "id": "93eacc4f",
   "metadata": {},
   "outputs": [
    {
     "name": "stdout",
     "output_type": "stream",
     "text": [
      "Enter a number: 20\n",
      "Exeception occured:  Custom Exception: Given number is not 10\n"
     ]
    }
   ],
   "source": [
    "class CustomException(Exception):\n",
    "\n",
    "    pass\n",
    "  \n",
    "    def __str__(self):\n",
    "        return \"Custom Exception: Given number is not 10\"\n",
    "\n",
    "\n",
    "try:\n",
    "    n = int(input(\"Enter a number: \"))\n",
    "    if n/10 != 1:\n",
    "        raise CustomException\n",
    "    else:\n",
    "        print(\"Given number is\",n)\n",
    "\n",
    "except CustomException as ce:\n",
    "    print(\"Exeception occured: \", ce)"
   ]
  },
  {
   "cell_type": "code",
   "execution_count": null,
   "id": "591011a8",
   "metadata": {},
   "outputs": [],
   "source": []
  }
 ],
 "metadata": {
  "kernelspec": {
   "display_name": "archive",
   "language": "python",
   "name": "archive"
  },
  "language_info": {
   "codemirror_mode": {
    "name": "ipython",
    "version": 3
   },
   "file_extension": ".py",
   "mimetype": "text/x-python",
   "name": "python",
   "nbconvert_exporter": "python",
   "pygments_lexer": "ipython3",
   "version": "3.11.1"
  }
 },
 "nbformat": 4,
 "nbformat_minor": 5
}
