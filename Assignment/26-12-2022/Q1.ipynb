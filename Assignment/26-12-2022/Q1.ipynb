{
 "cells": [
  {
   "cell_type": "markdown",
   "id": "cfc18b32",
   "metadata": {},
   "source": [
    "### What is difference between errors and Exception in Python?\n"
   ]
  },
  {
   "cell_type": "raw",
   "id": "a8326561",
   "metadata": {},
   "source": [
    "Errors are the event that occurs during the execution of the program that disrupts the flow of the program"
   ]
  },
  {
   "cell_type": "raw",
   "id": "0b983cc7",
   "metadata": {},
   "source": [
    "There are two types of errors:\n",
    "    1. Syntax error\n",
    "    2. Logical error/Exception"
   ]
  },
  {
   "cell_type": "markdown",
   "id": "b67748db",
   "metadata": {},
   "source": [
    "# Syntax error"
   ]
  },
  {
   "cell_type": "raw",
   "id": "5551dfbf",
   "metadata": {},
   "source": [
    "These errors occurs when the progammer/developer write the syntax code of the programming language\n",
    "Below is the example of syntax error"
   ]
  },
  {
   "cell_type": "code",
   "execution_count": 2,
   "id": "f8dfea78",
   "metadata": {},
   "outputs": [
    {
     "ename": "SyntaxError",
     "evalue": "expected ':' (2963816493.py, line 3)",
     "output_type": "error",
     "traceback": [
      "\u001b[1;36m  Cell \u001b[1;32mIn[2], line 3\u001b[1;36m\u001b[0m\n\u001b[1;33m    if num > 2000\u001b[0m\n\u001b[1;37m                 ^\u001b[0m\n\u001b[1;31mSyntaxError\u001b[0m\u001b[1;31m:\u001b[0m expected ':'\n"
     ]
    }
   ],
   "source": [
    "num = 1000\n",
    "\n",
    "if num > 2000\n",
    "    print(\"Number is greater than 2000\")\n",
    "else:\n",
    "    print(\"Number is less than equal to 2000\")"
   ]
  },
  {
   "cell_type": "raw",
   "id": "35998765",
   "metadata": {},
   "source": [
    "In the above example we can see that since we haven't inserted `:` in our code and hence the interpreter has thrown a syntax error and pointing it out where the occured."
   ]
  },
  {
   "cell_type": "markdown",
   "id": "d74a7b3e",
   "metadata": {},
   "source": [
    "# Logical errors/Exception"
   ]
  },
  {
   "cell_type": "raw",
   "id": "1dc906ae",
   "metadata": {},
   "source": [
    "These errors occurs during the runtime of the program even though it is syntactically correct\n",
    "There are various logical errors such as:\n",
    "1. NameError\n",
    "2. ValueError\n",
    "3. EOFError\n",
    "4. ZeroDivisionError\n",
    "and many more"
   ]
  },
  {
   "cell_type": "markdown",
   "id": "1a02dc73",
   "metadata": {},
   "source": [
    "# NameError"
   ]
  },
  {
   "cell_type": "code",
   "execution_count": 7,
   "id": "38e88e0b",
   "metadata": {},
   "outputs": [
    {
     "ename": "NameError",
     "evalue": "name 'n' is not defined",
     "output_type": "error",
     "traceback": [
      "\u001b[1;31m---------------------------------------------------------------------------\u001b[0m",
      "\u001b[1;31mNameError\u001b[0m                                 Traceback (most recent call last)",
      "Cell \u001b[1;32mIn[7], line 1\u001b[0m\n\u001b[1;32m----> 1\u001b[0m \u001b[38;5;28;01mif\u001b[39;00m \u001b[43mn\u001b[49m \u001b[38;5;241m==\u001b[39m \u001b[38;5;241m1\u001b[39m:\n\u001b[0;32m      2\u001b[0m     \u001b[38;5;28mprint\u001b[39m(\u001b[38;5;124m\"\u001b[39m\u001b[38;5;124mTrue\u001b[39m\u001b[38;5;124m\"\u001b[39m)\n\u001b[0;32m      3\u001b[0m \u001b[38;5;28;01melse\u001b[39;00m:\n",
      "\u001b[1;31mNameError\u001b[0m: name 'n' is not defined"
     ]
    }
   ],
   "source": [
    "if n == 1:\n",
    "    print(\"True\")\n",
    "else:\n",
    "    print(\"False\")"
   ]
  },
  {
   "cell_type": "markdown",
   "id": "bae08463",
   "metadata": {},
   "source": [
    "# ValueError"
   ]
  },
  {
   "cell_type": "code",
   "execution_count": 10,
   "id": "0b3bcd56",
   "metadata": {},
   "outputs": [
    {
     "name": "stdout",
     "output_type": "stream",
     "text": [
      "Enter a number: one\n"
     ]
    },
    {
     "ename": "ValueError",
     "evalue": "invalid literal for int() with base 10: 'one'",
     "output_type": "error",
     "traceback": [
      "\u001b[1;31m---------------------------------------------------------------------------\u001b[0m",
      "\u001b[1;31mValueError\u001b[0m                                Traceback (most recent call last)",
      "Cell \u001b[1;32mIn[10], line 1\u001b[0m\n\u001b[1;32m----> 1\u001b[0m n \u001b[38;5;241m=\u001b[39m \u001b[38;5;28;43mint\u001b[39;49m\u001b[43m(\u001b[49m\u001b[38;5;28;43minput\u001b[39;49m\u001b[43m(\u001b[49m\u001b[38;5;124;43m\"\u001b[39;49m\u001b[38;5;124;43mEnter a number: \u001b[39;49m\u001b[38;5;124;43m\"\u001b[39;49m\u001b[43m)\u001b[49m\u001b[43m)\u001b[49m\n",
      "\u001b[1;31mValueError\u001b[0m: invalid literal for int() with base 10: 'one'"
     ]
    }
   ],
   "source": [
    "n = int(input(\"Enter a number: \"))"
   ]
  },
  {
   "cell_type": "markdown",
   "id": "8d9b9233",
   "metadata": {},
   "source": [
    "# ZeroDivisionError"
   ]
  },
  {
   "cell_type": "code",
   "execution_count": 11,
   "id": "bda26f0d",
   "metadata": {},
   "outputs": [
    {
     "ename": "ZeroDivisionError",
     "evalue": "division by zero",
     "output_type": "error",
     "traceback": [
      "\u001b[1;31m---------------------------------------------------------------------------\u001b[0m",
      "\u001b[1;31mZeroDivisionError\u001b[0m                         Traceback (most recent call last)",
      "Cell \u001b[1;32mIn[11], line 3\u001b[0m\n\u001b[0;32m      1\u001b[0m n \u001b[38;5;241m=\u001b[39m \u001b[38;5;241m100\u001b[39m\n\u001b[1;32m----> 3\u001b[0m number \u001b[38;5;241m=\u001b[39m \u001b[43mn\u001b[49m\u001b[43m \u001b[49m\u001b[38;5;241;43m/\u001b[39;49m\u001b[43m \u001b[49m\u001b[38;5;241;43m0\u001b[39;49m\n\u001b[0;32m      5\u001b[0m \u001b[38;5;28mprint\u001b[39m(n)\n",
      "\u001b[1;31mZeroDivisionError\u001b[0m: division by zero"
     ]
    }
   ],
   "source": [
    "n = 100\n",
    "\n",
    "number = n / 0\n",
    "\n",
    "print(n)"
   ]
  },
  {
   "cell_type": "raw",
   "id": "53268413",
   "metadata": {},
   "source": [
    "As we can see in the above example that since error occured our rest part of the program isn't executed since our program was interrupted because of error. To handle these error we use exceptions."
   ]
  },
  {
   "cell_type": "code",
   "execution_count": null,
   "id": "7614e437",
   "metadata": {},
   "outputs": [],
   "source": []
  }
 ],
 "metadata": {
  "kernelspec": {
   "display_name": "Python 3 (ipykernel)",
   "language": "python",
   "name": "python3"
  },
  "language_info": {
   "codemirror_mode": {
    "name": "ipython",
    "version": 3
   },
   "file_extension": ".py",
   "mimetype": "text/x-python",
   "name": "python",
   "nbconvert_exporter": "python",
   "pygments_lexer": "ipython3",
   "version": "3.11.1"
  }
 },
 "nbformat": 4,
 "nbformat_minor": 5
}
