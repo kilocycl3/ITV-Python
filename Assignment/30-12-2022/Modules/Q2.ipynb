{
 "cells": [
  {
   "attachments": {},
   "cell_type": "markdown",
   "id": "2b3863ca",
   "metadata": {},
   "source": [
    "# Modules in python"
   ]
  },
  {
   "cell_type": "code",
   "execution_count": 18,
   "metadata": {},
   "outputs": [
    {
     "name": "stdout",
     "output_type": "stream",
     "text": [
      "This is a function called from another module and the argument passed to it is 10\n"
     ]
    }
   ],
   "source": [
    "from module import module_func\n",
    "\n",
    "\n",
    "module_func(10)"
   ]
  }
 ],
 "metadata": {
  "kernelspec": {
   "display_name": "archive",
   "language": "python",
   "name": "python3"
  },
  "language_info": {
   "codemirror_mode": {
    "name": "ipython",
    "version": 3
   },
   "file_extension": ".py",
   "mimetype": "text/x-python",
   "name": "python",
   "nbconvert_exporter": "python",
   "pygments_lexer": "ipython3",
   "version": "3.11.1"
  },
  "vscode": {
   "interpreter": {
    "hash": "c97bc8af44475743fc480231b72fafaae844fb979c0e3a8b281ef3c212824532"
   }
  }
 },
 "nbformat": 4,
 "nbformat_minor": 5
}
