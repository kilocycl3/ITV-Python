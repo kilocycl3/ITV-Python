{
 "cells": [
  {
   "cell_type": "code",
   "execution_count": 1,
   "id": "c4482b14",
   "metadata": {},
   "outputs": [],
   "source": [
    "import math"
   ]
  },
  {
   "cell_type": "markdown",
   "id": "3969b738",
   "metadata": {},
   "source": [
    "# math.sqrt() -> This method returns the square root of a given number"
   ]
  },
  {
   "cell_type": "code",
   "execution_count": 4,
   "id": "20ce9071",
   "metadata": {},
   "outputs": [
    {
     "name": "stdout",
     "output_type": "stream",
     "text": [
      "Square root of 4: 2.0\n",
      "Square root of 2: 1.4142135623730951\n",
      "Square root of 25: 5.0\n"
     ]
    }
   ],
   "source": [
    "print(f'Square root of 4: {math.sqrt(4)}')\n",
    "print(f'Square root of 2: {math.sqrt(2)}')\n",
    "print(f'Square root of 25: {math.sqrt(25)}')"
   ]
  },
  {
   "cell_type": "markdown",
   "id": "a2b14d72",
   "metadata": {},
   "source": [
    "# math.pow() -> This method returns the values by calculating the number with the given exponent"
   ]
  },
  {
   "cell_type": "code",
   "execution_count": 6,
   "id": "9061caa7",
   "metadata": {},
   "outputs": [
    {
     "name": "stdout",
     "output_type": "stream",
     "text": [
      "Square of 2: 4.0\n",
      "Cube of 2: 8.0\n",
      "Fourth power of 3: 81.0\n"
     ]
    }
   ],
   "source": [
    "print(f'Square of 2: {math.pow(2,2)}')\n",
    "print(f'Cube of 2: {math.pow(2,3)}')\n",
    "print(f'Fourth power of 3: {math.pow(3,4)}')"
   ]
  },
  {
   "cell_type": "markdown",
   "id": "89b95245",
   "metadata": {},
   "source": [
    "# math.factorial() -> This returns the factorial of a given number"
   ]
  },
  {
   "cell_type": "code",
   "execution_count": 8,
   "id": "fcda8793",
   "metadata": {},
   "outputs": [
    {
     "name": "stdout",
     "output_type": "stream",
     "text": [
      "Factorial of 10: 3628800\n",
      "Factorial of 6: 720\n"
     ]
    }
   ],
   "source": [
    "print(f'Factorial of 10: {math.factorial(10)}')\n",
    "print(f'Factorial of 6: {math.factorial(6)}')"
   ]
  },
  {
   "cell_type": "markdown",
   "id": "ae8e60d1",
   "metadata": {},
   "source": [
    "# math.floor() -> This returns the nearest small integer of the given number"
   ]
  },
  {
   "cell_type": "code",
   "execution_count": 13,
   "id": "9385db3e",
   "metadata": {},
   "outputs": [
    {
     "name": "stdout",
     "output_type": "stream",
     "text": [
      "3\n",
      "4\n",
      "5\n"
     ]
    }
   ],
   "source": [
    "print(math.floor(3.14))\n",
    "print(math.floor(4.65))\n",
    "print(math.floor(5.32))"
   ]
  },
  {
   "cell_type": "markdown",
   "id": "f2444a05",
   "metadata": {},
   "source": [
    "# math.ceil() -> This returns the nearest big integer of the given number"
   ]
  },
  {
   "cell_type": "code",
   "execution_count": 14,
   "id": "6be3f14a",
   "metadata": {},
   "outputs": [
    {
     "name": "stdout",
     "output_type": "stream",
     "text": [
      "4\n",
      "5\n",
      "6\n"
     ]
    }
   ],
   "source": [
    "print(math.ceil(3.14))\n",
    "print(math.ceil(4.65))\n",
    "print(math.ceil(5.32))"
   ]
  },
  {
   "cell_type": "markdown",
   "id": "d63cd0d6",
   "metadata": {},
   "source": [
    "# math.pi -> This is a constant defined in math module which gives us the value of pi for calculation"
   ]
  },
  {
   "cell_type": "code",
   "execution_count": 22,
   "id": "af54f54b",
   "metadata": {},
   "outputs": [
    {
     "name": "stdout",
     "output_type": "stream",
     "text": [
      "Value of pi: 3.141592653589793\n",
      "Area of circle with radius = 7 is 153.94\n"
     ]
    }
   ],
   "source": [
    "print(f'Value of pi: {math.pi}')\n",
    "print(f'Area of circle with radius = 7 is {math.pi*7**2:.2f}')"
   ]
  },
  {
   "cell_type": "code",
   "execution_count": null,
   "id": "c127da17",
   "metadata": {},
   "outputs": [],
   "source": []
  }
 ],
 "metadata": {
  "kernelspec": {
   "display_name": "archive",
   "language": "python",
   "name": "archive"
  },
  "language_info": {
   "codemirror_mode": {
    "name": "ipython",
    "version": 3
   },
   "file_extension": ".py",
   "mimetype": "text/x-python",
   "name": "python",
   "nbconvert_exporter": "python",
   "pygments_lexer": "ipython3",
   "version": "3.11.1"
  }
 },
 "nbformat": 4,
 "nbformat_minor": 5
}
