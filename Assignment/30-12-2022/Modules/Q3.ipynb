{
 "cells": [
  {
   "cell_type": "markdown",
   "metadata": {},
   "source": [
    "# Performing simple calculation using modules"
   ]
  },
  {
   "cell_type": "code",
   "execution_count": 1,
   "metadata": {},
   "outputs": [],
   "source": [
    "from calculation import *"
   ]
  },
  {
   "cell_type": "code",
   "execution_count": 3,
   "metadata": {},
   "outputs": [
    {
     "name": "stdout",
     "output_type": "stream",
     "text": [
      "Enter first number: 6\n",
      "Enter second number: 4\n",
      "===================\n",
      "Addition of the numbers: 10\n",
      "Difference between the numbers: 2\n",
      "Multiplication of the numbers: 24\n",
      "Divison of the numbers: 1.5\n"
     ]
    }
   ],
   "source": [
    "n1 = int(input(\"Enter first number: \"))\n",
    "n2 = int(input(\"Enter second number: \"))\n",
    "print('===================')\n",
    "print(f'Addition of the numbers: {addition(n1,n2)}')\n",
    "print(f'Difference between the numbers: {substraction(n1,n2)}')\n",
    "print(f'Multiplication of the numbers: {multiplication(n1,n2)}')\n",
    "print(f'Divison of the numbers: {division(n1,n2)}')\n",
    "\n"
   ]
  },
  {
   "cell_type": "code",
   "execution_count": null,
   "metadata": {},
   "outputs": [],
   "source": []
  }
 ],
 "metadata": {
  "kernelspec": {
   "display_name": "Python 3 (ipykernel)",
   "language": "python",
   "name": "python3"
  },
  "language_info": {
   "codemirror_mode": {
    "name": "ipython",
    "version": 3
   },
   "file_extension": ".py",
   "mimetype": "text/x-python",
   "name": "python",
   "nbconvert_exporter": "python",
   "pygments_lexer": "ipython3",
   "version": "3.11.1"
  },
  "vscode": {
   "interpreter": {
    "hash": "c97bc8af44475743fc480231b72fafaae844fb979c0e3a8b281ef3c212824532"
   }
  }
 },
 "nbformat": 4,
 "nbformat_minor": 2
}
