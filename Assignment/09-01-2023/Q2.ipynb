{
 "cells": [
  {
   "cell_type": "markdown",
   "id": "99dd8b4b",
   "metadata": {},
   "source": [
    "# Create a class name arithmatic with add(), sub(), div(), mul() functions. pass the values as aruments and perform the required operations."
   ]
  },
  {
   "cell_type": "code",
   "execution_count": 7,
   "id": "50075fa8",
   "metadata": {},
   "outputs": [],
   "source": [
    "class Arithmetic:\n",
    "    \n",
    "    def __init__(self,num1,num2):\n",
    "        self.num1 = num1\n",
    "        self.num2 = num2\n",
    "        \n",
    "    def add(self):\n",
    "        return self.num1+self.num2\n",
    "    \n",
    "    def sub(self):\n",
    "        return self.num1-self.num2\n",
    "    \n",
    "    def div(self):\n",
    "        return self.num1/self.num2\n",
    "    \n",
    "    def mul(self):\n",
    "        return self.num1*self.num2\n",
    "    "
   ]
  },
  {
   "cell_type": "code",
   "execution_count": 8,
   "id": "a7903afb",
   "metadata": {},
   "outputs": [
    {
     "name": "stdout",
     "output_type": "stream",
     "text": [
      "Sum of numbers: 7\n",
      "Difference between numbers: -1\n",
      "Division of numbers: 0.75\n",
      "Product of numbers: 12\n"
     ]
    }
   ],
   "source": [
    "a1 = Arithmetic(3,4)\n",
    "print(f'Sum of numbers: {a1.add()}')\n",
    "print(f'Difference between numbers: {a1.sub()}')\n",
    "print(f'Division of numbers: {a1.div()}')\n",
    "print(f'Product of numbers: {a1.mul()}')"
   ]
  },
  {
   "cell_type": "code",
   "execution_count": 9,
   "id": "b5781765",
   "metadata": {},
   "outputs": [
    {
     "name": "stdout",
     "output_type": "stream",
     "text": [
      "Enter first number: 8\n",
      "Enter second number: 5\n",
      "Sum of numbers: 13\n",
      "Difference between numbers: 3\n",
      "Division of numbers: 1.6\n",
      "Product of numbers: 40\n"
     ]
    }
   ],
   "source": [
    "inp_n1 = int(input(\"Enter first number: \"))\n",
    "inp_n2 = int(input(\"Enter second number: \"))\n",
    "\n",
    "a2 = Arithmetic(inp_n1,inp_n2)\n",
    "\n",
    "print(f'Sum of numbers: {a2.add()}')\n",
    "print(f'Difference between numbers: {a2.sub()}')\n",
    "print(f'Division of numbers: {a2.div()}')\n",
    "print(f'Product of numbers: {a2.mul()}')"
   ]
  },
  {
   "cell_type": "code",
   "execution_count": null,
   "id": "ad0105f9",
   "metadata": {},
   "outputs": [],
   "source": []
  },
  {
   "cell_type": "markdown",
   "id": "0e6ccddb",
   "metadata": {},
   "source": [
    "# Pass the argument directly to the methods of the class"
   ]
  },
  {
   "cell_type": "code",
   "execution_count": 10,
   "id": "56b20649",
   "metadata": {},
   "outputs": [],
   "source": [
    "class Arithmetic:\n",
    "    \n",
    "    def add(self,num1,num2):\n",
    "        return num1+num2\n",
    "    \n",
    "    def sub(self,num1,num2):\n",
    "        return num1-num2\n",
    "    \n",
    "    def div(self,num1,num2):\n",
    "        return num1/num2\n",
    "    \n",
    "    def mul(self,num1,num2):\n",
    "        return num1*num2"
   ]
  },
  {
   "cell_type": "code",
   "execution_count": 14,
   "id": "18443e0b",
   "metadata": {},
   "outputs": [
    {
     "name": "stdout",
     "output_type": "stream",
     "text": [
      "Sum of numbers: 7\n",
      "Difference between numbers: 2\n",
      "Division of numbers: 4.0\n",
      "Product of numbers: 16\n"
     ]
    }
   ],
   "source": [
    "a1 = Arithmetic()\n",
    "\n",
    "print(f'Sum of numbers: {a1.add(3,4)}')\n",
    "print(f'Difference between numbers: {a1.sub(6,4)}')\n",
    "print(f'Division of numbers: {a1.div(8,2)}')\n",
    "print(f'Product of numbers: {a1.mul(2,8)}')"
   ]
  },
  {
   "cell_type": "code",
   "execution_count": null,
   "id": "f76338ff",
   "metadata": {},
   "outputs": [],
   "source": []
  }
 ],
 "metadata": {
  "kernelspec": {
   "display_name": "archive",
   "language": "python",
   "name": "archive"
  },
  "language_info": {
   "codemirror_mode": {
    "name": "ipython",
    "version": 3
   },
   "file_extension": ".py",
   "mimetype": "text/x-python",
   "name": "python",
   "nbconvert_exporter": "python",
   "pygments_lexer": "ipython3",
   "version": "3.11.1"
  }
 },
 "nbformat": 4,
 "nbformat_minor": 5
}
