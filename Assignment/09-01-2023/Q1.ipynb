{
 "cells": [
  {
   "cell_type": "markdown",
   "id": "84ea721e",
   "metadata": {},
   "source": [
    "# Create a class Emp.Accept name,salary as attributes . and display information by using method."
   ]
  },
  {
   "cell_type": "code",
   "execution_count": 1,
   "id": "ecc32d34",
   "metadata": {},
   "outputs": [],
   "source": [
    "class Emp:\n",
    "    \n",
    "    def __init__(self,name,salary):\n",
    "        self.name = name\n",
    "        self.salary = salary\n",
    "        \n",
    "    def disp_info(self):\n",
    "        print(f'Employee Name: {self.name}\\nEmployee Salary: {self.salary}')"
   ]
  },
  {
   "cell_type": "code",
   "execution_count": 2,
   "id": "64d63335",
   "metadata": {},
   "outputs": [],
   "source": [
    "e1 = Emp('Amit',50000)"
   ]
  },
  {
   "cell_type": "code",
   "execution_count": 4,
   "id": "ec984672",
   "metadata": {},
   "outputs": [
    {
     "name": "stdout",
     "output_type": "stream",
     "text": [
      "Employee Name: Amit\n",
      "Employee Salary: 50000\n"
     ]
    }
   ],
   "source": [
    "e1.disp_info()"
   ]
  },
  {
   "cell_type": "code",
   "execution_count": 5,
   "id": "6845af02",
   "metadata": {},
   "outputs": [
    {
     "name": "stdout",
     "output_type": "stream",
     "text": [
      "Enter employee name: Arnav\n",
      "Enter employee salary: 55000\n",
      "Employee Name: Arnav\n",
      "Employee Salary: 55000\n"
     ]
    }
   ],
   "source": [
    "inp_name = input(\"Enter employee name: \")\n",
    "inp_salary = input(\"Enter employee salary: \")\n",
    "\n",
    "e2 = Emp(inp_name,inp_salary)\n",
    "\n",
    "e2.disp_info()"
   ]
  },
  {
   "cell_type": "code",
   "execution_count": null,
   "id": "a18bdf96",
   "metadata": {},
   "outputs": [],
   "source": []
  }
 ],
 "metadata": {
  "kernelspec": {
   "display_name": "archive",
   "language": "python",
   "name": "archive"
  },
  "language_info": {
   "codemirror_mode": {
    "name": "ipython",
    "version": 3
   },
   "file_extension": ".py",
   "mimetype": "text/x-python",
   "name": "python",
   "nbconvert_exporter": "python",
   "pygments_lexer": "ipython3",
   "version": "3.11.1"
  }
 },
 "nbformat": 4,
 "nbformat_minor": 5
}
