{
 "cells": [
  {
   "cell_type": "markdown",
   "id": "98795461",
   "metadata": {},
   "source": [
    "# Question 1"
   ]
  },
  {
   "cell_type": "raw",
   "id": "1dee7a7f",
   "metadata": {},
   "source": [
    "1) A number is said to be Harshad if it's exactly divisible by the sum of its digits. Create a\n",
    "function that determines whether a number is a Harshad or not.\n",
    "Examples\n",
    "is_harshad(75) ➞ False\n",
    "7 + 5 = 12\n",
    "75 is not exactly divisible by 12\n",
    "is_harshad(171) ➞ True\n",
    "1 + 7 + 1 = 9\n",
    "9 exactly divides 171\n",
    "is_harshad(481) ➞ True\n",
    "is_harshad(89) ➞ False\n",
    "is_harshad(516) ➞ True\n",
    "is_harshad(200) ➞ True"
   ]
  },
  {
   "cell_type": "code",
   "execution_count": 32,
   "id": "942caebf",
   "metadata": {},
   "outputs": [
    {
     "data": {
      "text/plain": [
       "17"
      ]
     },
     "execution_count": 32,
     "metadata": {},
     "output_type": "execute_result"
    }
   ],
   "source": [
    "171//10"
   ]
  },
  {
   "cell_type": "code",
   "execution_count": 1,
   "id": "e2a296f5",
   "metadata": {},
   "outputs": [],
   "source": [
    "def is_harshad(n):\n",
    "    \n",
    "    num = 0\n",
    "    n1 = n\n",
    "    while n1!=0:\n",
    "        temp = n1%10\n",
    "        num+=temp\n",
    "        \n",
    "        n1  = n1//10\n",
    "    if(n%num==0):\n",
    "        return True\n",
    "    return False"
   ]
  },
  {
   "cell_type": "code",
   "execution_count": 3,
   "id": "68d31f2e",
   "metadata": {},
   "outputs": [
    {
     "name": "stdout",
     "output_type": "stream",
     "text": [
      "Enter a number: 999\n",
      "999 is a harshad number\n"
     ]
    }
   ],
   "source": [
    "n = int(input(\"Enter a number: \"))\n",
    "if(is_harshad(n)):\n",
    "    print(f\"{n} is a harshad number\")\n",
    "else:\n",
    "    print(f\"{n} is not a harshad number\")"
   ]
  },
  {
   "cell_type": "code",
   "execution_count": null,
   "id": "0adcf56d",
   "metadata": {},
   "outputs": [],
   "source": []
  },
  {
   "cell_type": "markdown",
   "id": "ec075f1f",
   "metadata": {},
   "source": [
    "# Question 2"
   ]
  },
  {
   "cell_type": "raw",
   "id": "2874cd8c",
   "metadata": {},
   "source": [
    "2) A fruit juice company tags their fruit juices by concatenating the first three letters of the\n",
    "words in a flavor's name, with its capacity.\n",
    "Create a function that creates product IDs for different fruit juices.\n",
    "Examples\n",
    "get_drink_ID(\"apple\", \"500ml\") ➞ \"APP500\"\n",
    "get_drink_ID(\"pineapple\", \"45ml\") ➞ \"PIN45\"\n",
    "get_drink_ID(\"passion fruit\", \"750ml\") ➞ \"PASFRU750\""
   ]
  },
  {
   "cell_type": "code",
   "execution_count": 118,
   "id": "f6c3b2ed",
   "metadata": {},
   "outputs": [],
   "source": [
    "def get_drink_ID(fruit,quantity):\n",
    "    \n",
    "    data = fruit.split(' ')\n",
    "#     print(data)\n",
    "    title = ''\n",
    "    for fruit in data:\n",
    "        title = title + fruit[:3].upper()\n",
    "#     print(title)\n",
    "    \n",
    "    quantity = quantity[:-2]\n",
    "\n",
    "    \n",
    "    return title+quantity"
   ]
  },
  {
   "cell_type": "code",
   "execution_count": 120,
   "id": "8b7f01de",
   "metadata": {},
   "outputs": [
    {
     "name": "stdout",
     "output_type": "stream",
     "text": [
      "APP500\n",
      "PIN45\n",
      "PASFRU750\n"
     ]
    }
   ],
   "source": [
    "print(get_drink_ID(\"apple\", \"500ml\"))\n",
    "print(get_drink_ID(\"pineapple\", \"45ml\"))\n",
    "print(get_drink_ID(\"passion fruit\", \"750ml\"))"
   ]
  },
  {
   "cell_type": "code",
   "execution_count": null,
   "id": "f47822ea",
   "metadata": {},
   "outputs": [],
   "source": []
  },
  {
   "cell_type": "markdown",
   "id": "3a9428cb",
   "metadata": {},
   "source": [
    "# Question 3"
   ]
  },
  {
   "cell_type": "raw",
   "id": "7f9cdd05",
   "metadata": {},
   "source": [
    "3) Write a function that takes a list of numbers and returns a list with two\n",
    "elements:\n",
    "1. The first element should be the sum of all even numbers in the list.\n",
    "2. The second element should be the sum of all odd numbers in the\n",
    "list.\n",
    "Example\n",
    "sum_odd_and_even([1, 2, 3, 4, 5, 6]) ➞ [12, 9]\n",
    "# 2 + 4 + 6 = 12 and 1 + 3 + 5 = 9\n",
    "sum_odd_and_even([-1, -2, -3, -4, -5, -6]) ➞ [-12, -9])\n",
    "sum_odd_and_even([0, 0]) ➞ [0, 0]"
   ]
  },
  {
   "cell_type": "code",
   "execution_count": 6,
   "id": "23bde087",
   "metadata": {},
   "outputs": [],
   "source": [
    "def sum_odd_and_even(data):\n",
    "    \n",
    "    even = 0\n",
    "    odd = 0\n",
    "    for i in data:\n",
    "        \n",
    "        if i%2==0:\n",
    "            even+=i\n",
    "        else:\n",
    "            odd+=i\n",
    "            \n",
    "    return [even, odd]"
   ]
  },
  {
   "cell_type": "code",
   "execution_count": 7,
   "id": "b6b2877b",
   "metadata": {},
   "outputs": [
    {
     "name": "stdout",
     "output_type": "stream",
     "text": [
      "[12, 9]\n",
      "[-12, -9]\n",
      "[0, 0]\n",
      "[220, 200]\n",
      "[180, 165]\n"
     ]
    }
   ],
   "source": [
    "print(sum_odd_and_even([1, 2, 3, 4, 5, 6]))\n",
    "print(sum_odd_and_even([-1, -2, -3, -4, -5, -6]))\n",
    "print(sum_odd_and_even([0, 0]))\n",
    "print(sum_odd_and_even([i for i in range(10,31)]))\n",
    "print(sum_odd_and_even([i for i in range(20,51) if i%3==0]))"
   ]
  },
  {
   "cell_type": "code",
   "execution_count": 53,
   "id": "edd2e4a9",
   "metadata": {},
   "outputs": [
    {
     "name": "stdout",
     "output_type": "stream",
     "text": [
      "[12, 9]\n"
     ]
    }
   ],
   "source": [
    "data = [1,2,3,4,5,6]\n",
    "\n",
    "even_total = 0\n",
    "odd_total = 0\n",
    "\n",
    "for i in data:\n",
    "    \n",
    "    if i%2==0:\n",
    "        even_total = even_total + i\n",
    "    else:\n",
    "        odd_total = odd_total + i\n",
    "    \n",
    "l = [even_total, odd_total]\n",
    "\n",
    "print(l)"
   ]
  },
  {
   "cell_type": "code",
   "execution_count": 52,
   "id": "490bc738",
   "metadata": {},
   "outputs": [
    {
     "data": {
      "text/plain": [
       "9"
      ]
     },
     "execution_count": 52,
     "metadata": {},
     "output_type": "execute_result"
    }
   ],
   "source": [
    "1+3+5"
   ]
  },
  {
   "cell_type": "markdown",
   "id": "0404325f",
   "metadata": {},
   "source": [
    "# Question 4"
   ]
  },
  {
   "cell_type": "raw",
   "id": "c1c4f3fd",
   "metadata": {},
   "source": [
    "Q4) Create a function that takes a list of positive and negative numbers. Return a list where the\n",
    "first element is the count of positive numbers and the second element is the sum of negative\n",
    "numbers.\n",
    "Examples\n",
    "sum_neg([1, 2, 3, 4, 5, 6, 7, 8, 9, 10, -11, -12, -13, -14, -15]) ➞ [10,\n",
    "-65]\n",
    "# There are a total of 10 positive numbers.\n",
    "# The sum of all negative numbers equals -65.\n",
    "sum_neg([92, 6, 73, -77, 81, -90, 99, 8, -85, 34]) ➞ [7, -252]\n",
    "sum_neg([91, -4, 80, -73, -28]) ➞ [2, -105]\n"
   ]
  },
  {
   "cell_type": "code",
   "execution_count": 54,
   "id": "6bbde2f0",
   "metadata": {},
   "outputs": [
    {
     "name": "stdout",
     "output_type": "stream",
     "text": [
      "[10, -65]\n"
     ]
    }
   ],
   "source": [
    "data = [1, 2, 3, 4, 5, 6, 7, 8, 9, 10, -11, -12, -13, -14, -15]\n",
    "count = 0 \n",
    "total = 0\n",
    "\n",
    "for i in data:\n",
    "\n",
    "    if(i>0):\n",
    "        count+=1\n",
    "    else:\n",
    "        total+=i\n",
    "\n",
    "print([count,total])"
   ]
  },
  {
   "cell_type": "code",
   "execution_count": 9,
   "id": "0cff4c91",
   "metadata": {
    "scrolled": true
   },
   "outputs": [
    {
     "name": "stdout",
     "output_type": "stream",
     "text": [
      "[10, -65]\n",
      "[7, -252]\n",
      "[2, -105]\n",
      "[0, 0]\n",
      "[10, -55]\n"
     ]
    }
   ],
   "source": [
    "print(sum_neg([1, 2, 3, 4, 5, 6, 7, 8, 9, 10, -11, -12, -13, -14, -15]) )\n",
    "print(sum_neg([92, 6, 73, -77, 81, -90, 99, 8, -85, 34]))\n",
    "print(sum_neg([91, -4, 80, -73, -28]))\n",
    "print(sum_neg([]))\n",
    "print(sum_neg([i for i in range(-10,11)]))"
   ]
  },
  {
   "cell_type": "code",
   "execution_count": null,
   "id": "4d13d1c9",
   "metadata": {},
   "outputs": [],
   "source": [
    "def sum_neg(data):\n",
    "    "
   ]
  },
  {
   "cell_type": "markdown",
   "id": "b530fc4b",
   "metadata": {},
   "source": [
    "# Question 5"
   ]
  },
  {
   "cell_type": "raw",
   "id": "9ac24430",
   "metadata": {},
   "source": [
    "Q5) Create a function that returns the frequency distribution of a list. This function should return\n",
    "an object, where the keys are the unique elements and the values are the frequency in which\n",
    "those elements occur.\n",
    "Examples\n",
    "get_frequencies([\"A\", \"B\", \"A\", \"A\", \"A\"]) ➞ { \"A\" : 4, \"B\" : 1 }\n",
    "get_frequencies([1, 2, 3, 3, 2]) ➞ { 1: 1, 2: 2, 3: 2 }\n",
    "get_frequencies([True, False, True, False, False]) ➞ { True: 2, False:\n",
    "3 }\n",
    "get_frequencies([]) ➞ {}"
   ]
  },
  {
   "cell_type": "code",
   "execution_count": 10,
   "id": "22299def",
   "metadata": {},
   "outputs": [],
   "source": [
    "def get_frequencies(data):\n",
    "    \n",
    "    d = {}\n",
    "    \n",
    "    for i in data:\n",
    "        \n",
    "        if i in d.keys():     #Method 1\n",
    "            \n",
    "            d[i]+=1\n",
    "        else:\n",
    "            d[i]=1\n",
    "            \n",
    "#         d[i] = data.count(i)  #Method 2\n",
    "        \n",
    "    return d"
   ]
  },
  {
   "cell_type": "code",
   "execution_count": 11,
   "id": "7afe08ac",
   "metadata": {},
   "outputs": [
    {
     "name": "stdout",
     "output_type": "stream",
     "text": [
      "{'A': 4, 'B': 1}\n",
      "{1: 1, 2: 2, 3: 2}\n",
      "{True: 2, False: 3}\n",
      "{}\n"
     ]
    }
   ],
   "source": [
    "print(get_frequencies([\"A\", \"B\", \"A\", \"A\", \"A\"]))\n",
    "print(get_frequencies([1, 2, 3, 3, 2]))\n",
    "print(get_frequencies([True, False, True, False, False]))\n",
    "print(get_frequencies([]))"
   ]
  },
  {
   "cell_type": "code",
   "execution_count": null,
   "id": "070e3bd7",
   "metadata": {},
   "outputs": [],
   "source": []
  },
  {
   "cell_type": "markdown",
   "id": "19366316",
   "metadata": {},
   "source": [
    "# Question 6"
   ]
  },
  {
   "cell_type": "raw",
   "id": "25cb17f8",
   "metadata": {},
   "source": [
    "Q6) Create a function that takes a dictionary representing student information and calculates\n",
    "the Grade Point Average using the formula explained below, and returns the following string:\n",
    "sol_format = a\n",
    "a = \"{student_name from dict} GPA for {student_semester from dict} is\n",
    "calculated_gpa\"\n",
    "# Formula Grade Point Average\n",
    "# Quality Points : A -> 4 B -> 3 C -> 2 D -> 1 F -> 0\n",
    "# Example : grades =[\"A\",\"A\"] credit_hrs = [3,3]\n",
    "# gpa = totalpoints / totalcredithrs = (4 * 3 + 4 * 3) / (3 + 3) -> 4.00\n",
    "# Rounded to 2 Decimal Places\n",
    "Examples\n",
    "gpa_calculator({\"name\": \"Ansha Mandal\", \"courses\": [{\"name\": \"cal1\",\n",
    "\"credit_hours\": 5, \"grade\": \"A\"}, {\"name\": \"kin1\", \"credit_hours\": 3,\n",
    "\"grade\": \"A\"}], \"semester\": \"Spring 2018\"}) ➞ \"Ansha Mandal GPA for\n",
    "Spring 2018 is 4.00\"\n",
    "Notes\n",
    "GPA is rounded to two decimal places"
   ]
  },
  {
   "cell_type": "code",
   "execution_count": 12,
   "id": "33879d25",
   "metadata": {},
   "outputs": [],
   "source": [
    "\n",
    "def gpa_calculator(data):\n",
    "    \n",
    "    quality_points = {\n",
    "        \"A\": 4,\n",
    "        \"B\": 3,\n",
    "        \"C\": 2,\n",
    "        \"D\": 1,\n",
    "        \"F\": 0\n",
    "    }\n",
    "    \n",
    "    calculated_gpa = 0\n",
    "    totalpoints = 0\n",
    "    \n",
    "    grades = []\n",
    "    credit_hrs = []\n",
    "    courses = data['courses']\n",
    "    \n",
    "    for i in courses:\n",
    "        \n",
    "        grades.append(i['grade'])\n",
    "        credit_hrs.append(i['credit_hours'])\n",
    "        \n",
    "    for i,j in zip(grades,credit_hrs):\n",
    "        \n",
    "        totalpoints += quality_points[i]*j\n",
    "    totalcredithrs = sum(credit_hrs)   \n",
    "    calculated_gpa = totalpoints / totalcredithrs\n",
    "    \n",
    "    print(f\"{data['name']} GPA for {data['semester']} is {calculated_gpa:0.2f}\")\n",
    "        \n"
   ]
  },
  {
   "cell_type": "code",
   "execution_count": 13,
   "id": "9404b1df",
   "metadata": {},
   "outputs": [
    {
     "name": "stdout",
     "output_type": "stream",
     "text": [
      "Ansha Mandal GPA for Spring 2018 is 4.00\n"
     ]
    }
   ],
   "source": [
    "gpa_calculator({\"name\": \"Ansha Mandal\", \"courses\": [{\"name\": \"cal1\",\n",
    "\"credit_hours\": 5, \"grade\": \"A\"}, {\"name\": \"kin1\", \"credit_hours\": 3,\n",
    "\"grade\": \"A\"}], \"semester\": \"Spring 2018\"})"
   ]
  },
  {
   "cell_type": "code",
   "execution_count": null,
   "id": "535af024",
   "metadata": {},
   "outputs": [],
   "source": []
  },
  {
   "cell_type": "markdown",
   "id": "5d0e6fc1",
   "metadata": {},
   "source": [
    "# Question 7"
   ]
  },
  {
   "cell_type": "raw",
   "id": "030c758b",
   "metadata": {},
   "source": [
    "Q7) Create a function that takes a dictionary of objects like { \"name\": \"John\", \"notes\":\n",
    "[3, 5, 4] } and returns a dictionary of objects like { \"name\": \"John\", \"top_note\":\n",
    "5 }.\n",
    "Examples\n",
    "top_note({ \"name\": \"John\", \"notes\": [3, 5, 4] }) ➞ { \"name\": \"John\",\n",
    "\"top_note\": 5 }\n",
    "top_note({ \"name\": \"Max\", \"notes\": [1, 4, 6] }) ➞ { \"name\": \"Max\",\n",
    "\"top_note\": 6 }\n",
    "top_note({ \"name\": \"Zygmund\", \"notes\": [1, 2, 3] }) ➞ { \"name\":\n",
    "\"Zygmund\", \"top_note\": 3 }"
   ]
  },
  {
   "cell_type": "code",
   "execution_count": 56,
   "id": "99adc3de",
   "metadata": {},
   "outputs": [],
   "source": [
    "def top_note(data):\n",
    "    \n",
    "    d = {}\n",
    "    \n",
    "    d['name'] = data['name']\n",
    "    d['top_note'] = max(data['notes'])\n",
    "    \n",
    "    return d"
   ]
  },
  {
   "cell_type": "code",
   "execution_count": 58,
   "id": "f8cb2573",
   "metadata": {},
   "outputs": [
    {
     "name": "stdout",
     "output_type": "stream",
     "text": [
      "{'name': 'John', 'top_note': 5}\n",
      "{'name': 'Max', 'top_note': 6}\n",
      "{'name': 'Zygmund', 'top_note': 3}\n"
     ]
    }
   ],
   "source": [
    "print(top_note({ \"name\": \"John\", \"notes\": [3, 5, 4] }))\n",
    "print(top_note({ \"name\": \"Max\", \"notes\": [1, 4, 6] }))\n",
    "print(top_note({ \"name\": \"Zygmund\", \"notes\": [1, 2, 3,-7] }))"
   ]
  },
  {
   "cell_type": "code",
   "execution_count": null,
   "id": "64c341e1",
   "metadata": {},
   "outputs": [],
   "source": []
  },
  {
   "cell_type": "markdown",
   "id": "6224aa7b",
   "metadata": {},
   "source": [
    "# Question 8"
   ]
  },
  {
   "cell_type": "raw",
   "id": "222fc184",
   "metadata": {},
   "source": [
    "Q8) Create a function that converts a date formatted as MM/DD/YYYY to YYYYDDMM.\n",
    "Examples\n",
    "format_date(\"11/12/2019\") ➞ \"20191211\"\n",
    "format_date(\"12/31/2019\") ➞ \"20193112\"\n",
    "format_date(\"01/15/2019\") ➞ \"20191501\"\n",
    "Notes\n",
    "Return value should be a string."
   ]
  },
  {
   "cell_type": "code",
   "execution_count": 1,
   "id": "df44b52b",
   "metadata": {},
   "outputs": [],
   "source": [
    "def format_date(date):\n",
    "    \n",
    "    date_lst = date.split('/')\n",
    "    \n",
    "    fdate = ''\n",
    "    \n",
    "    for i in date_lst[::-1]:\n",
    "        \n",
    "        fdate+=i\n",
    "    \n",
    "    return fdate"
   ]
  },
  {
   "cell_type": "code",
   "execution_count": 4,
   "id": "fa9d086a",
   "metadata": {},
   "outputs": [
    {
     "name": "stdout",
     "output_type": "stream",
     "text": [
      "20191211\n",
      "20193112\n",
      "20191501\n",
      "20221217\n"
     ]
    }
   ],
   "source": [
    "print(format_date(\"11/12/2019\"))\n",
    "print(format_date(\"12/31/2019\"))\n",
    "print(format_date(\"01/15/2019\"))\n",
    "print(format_date(\"17/12/2022\"))"
   ]
  },
  {
   "cell_type": "code",
   "execution_count": null,
   "id": "972957a7",
   "metadata": {},
   "outputs": [],
   "source": []
  },
  {
   "cell_type": "markdown",
   "id": "1c201b61",
   "metadata": {},
   "source": [
    "# Question 9"
   ]
  },
  {
   "cell_type": "raw",
   "id": "8e5f8ec6",
   "metadata": {},
   "source": [
    "Q9) The median of a group of numbers is the middle number when the group is sorted. If the size\n",
    "of the group is even, the median is the average of the middle two numbers. Given a sorted list of\n",
    "numbers, return the median (rounded to one decimal place if the median isn't an integer).\n",
    "Examples\n",
    "median([1, 2, 4, 5, 6, 8, 8, 8, 10]) ➞ 6\n",
    "median([2, 2, 6, 8, 8, 10, 10]) ➞ 8\n",
    "median([1, 2, 2, 4, 7, 8, 9, 10]) ➞ 5.5"
   ]
  },
  {
   "cell_type": "code",
   "execution_count": 18,
   "id": "37d07395",
   "metadata": {},
   "outputs": [],
   "source": [
    "def median(data):\n",
    "    \n",
    "    data.sort()\n",
    "    \n",
    "    if(len(data)%2==0):\n",
    "        return (data[len(data)//2]+data[(len(data)//2)-1])/2\n",
    "    else:\n",
    "        return data[len(data)//2]\n",
    "    "
   ]
  },
  {
   "cell_type": "code",
   "execution_count": 19,
   "id": "79d4cba1",
   "metadata": {},
   "outputs": [
    {
     "name": "stdout",
     "output_type": "stream",
     "text": [
      "6\n",
      "8\n",
      "5.5\n"
     ]
    }
   ],
   "source": [
    "print(median([1, 2, 4, 5, 6, 8, 8, 8, 10]))\n",
    "print(median([2, 2, 6, 8, 8, 10, 10]))\n",
    "print(median([1, 2, 2, 4, 7, 8, 9, 10]))"
   ]
  },
  {
   "cell_type": "code",
   "execution_count": null,
   "id": "5b04051d",
   "metadata": {},
   "outputs": [],
   "source": []
  },
  {
   "cell_type": "markdown",
   "id": "efbf577a",
   "metadata": {},
   "source": [
    "# Question 10"
   ]
  },
  {
   "cell_type": "raw",
   "id": "d5587396",
   "metadata": {},
   "source": [
    "Q10) Create a function that returns the number of times a character appears in each word in a\n",
    "sentence. Treat upper and lower case characters of the same letter as being identical\n",
    "(e.g. a exists in Anna twice, not once).\n",
    "Examples\n",
    "char_appears(\"She sells sea shells by the seashore.\", \"s\")\n",
    "➞ [1, 2, 1, 2, 0, 0, 2]\n",
    "# \"s\" shows up once in \"She\", twice in \"sells\", once in \"sea\", twice in\n",
    "\"shells\", etc.\n",
    "char_appears(\"Peter Piper picked a peck of pickled peppers.\", \"P\")\n",
    "➞ [1, 2, 1, 0, 1, 0, 1, 3]\n",
    "# \"p\" shows up once in \"Peter\", ... 3 times in \"peppers\".\n",
    "char_appears(\"She hiked in the morning, then swam in the river.\", \"t\")\n",
    "➞ [0, 0, 0, 1, 0, 1, 0, 0, 1, 0]"
   ]
  },
  {
   "cell_type": "code",
   "execution_count": 20,
   "id": "bce1088d",
   "metadata": {},
   "outputs": [],
   "source": [
    "def char_appears(data,char):\n",
    "    \n",
    "    char = char.lower()\n",
    "    data_lst = data.lower().split(' ')\n",
    "    \n",
    "    count_lst = []\n",
    "    \n",
    "    for i in data_lst:\n",
    "        \n",
    "        count_lst.append(i.count(char))\n",
    "        \n",
    "    return count_lst"
   ]
  },
  {
   "cell_type": "code",
   "execution_count": 21,
   "id": "dbfa801d",
   "metadata": {},
   "outputs": [
    {
     "name": "stdout",
     "output_type": "stream",
     "text": [
      "[1, 2, 1, 2, 0, 0, 2]\n",
      "[1, 2, 1, 0, 1, 0, 1, 3]\n",
      "[0, 0, 0, 1, 0, 1, 0, 0, 1, 0]\n"
     ]
    }
   ],
   "source": [
    "print(char_appears(\"She sells sea shells by the seashore.\", \"s\"))\n",
    "print(char_appears(\"Peter Piper picked a peck of pickled peppers.\", \"P\"))\n",
    "print(char_appears(\"She hiked in the morning, then swam in the river.\", \"t\"))"
   ]
  },
  {
   "cell_type": "code",
   "execution_count": null,
   "id": "d82dd1c7",
   "metadata": {},
   "outputs": [],
   "source": []
  },
  {
   "cell_type": "markdown",
   "id": "12764397",
   "metadata": {},
   "source": [
    "# Question 11"
   ]
  },
  {
   "cell_type": "raw",
   "id": "a805f3d5",
   "metadata": {},
   "source": [
    "Q11) Create a function that takes a number as an argument and\n",
    "returns True or False depending on whether the number is symmetrical or\n",
    "not. A number is symmetrical when it is the same as its reverse.\n",
    "Examples\n",
    "is_symmetrical(7227) ➞ True\n",
    "is_symmetrical(12567) ➞ False\n",
    "is_symmetrical(44444444) ➞ True\n",
    "is_symmetrical(9939) ➞ False\n",
    "is_symmetrical(1112111) ➞ True"
   ]
  },
  {
   "cell_type": "code",
   "execution_count": 94,
   "id": "446f02e8",
   "metadata": {},
   "outputs": [],
   "source": [
    "def is_symmetrical(num):\n",
    "    \n",
    "    str_num = str(num)\n",
    "    \n",
    "    if(str_num == str_num[::-1]):\n",
    "        return True\n",
    "    return False"
   ]
  },
  {
   "cell_type": "code",
   "execution_count": null,
   "id": "33ffaf6b",
   "metadata": {},
   "outputs": [],
   "source": [
    "def is_symmetrical(num):\n",
    "    \n",
    "    reverse_num = 0\n",
    "    \n",
    "    dummy_num = num\n",
    "    \n",
    "    while dummy_num!=0:\n",
    "        temp = dummy_num%10\n",
    "        \n",
    "        reverse_num = reverse_num*10+temp\n",
    "        \n",
    "        dummy_num = dummy_num//10\n",
    "        \n",
    "\n",
    "    if reverse_num == num:\n",
    "        return True\n",
    "    else:\n",
    "        return False"
   ]
  },
  {
   "cell_type": "code",
   "execution_count": 95,
   "id": "3fe114d1",
   "metadata": {},
   "outputs": [
    {
     "name": "stdout",
     "output_type": "stream",
     "text": [
      "True\n",
      "False\n",
      "True\n",
      "False\n",
      "True\n"
     ]
    }
   ],
   "source": [
    "print(is_symmetrical(7227))\n",
    "print(is_symmetrical(12567))\n",
    "print(is_symmetrical(44444444))\n",
    "print(is_symmetrical(9939))\n",
    "print(is_symmetrical(1112111))"
   ]
  },
  {
   "cell_type": "code",
   "execution_count": null,
   "id": "5a138de2",
   "metadata": {},
   "outputs": [],
   "source": []
  },
  {
   "cell_type": "code",
   "execution_count": null,
   "id": "89cf3363",
   "metadata": {},
   "outputs": [],
   "source": []
  },
  {
   "cell_type": "markdown",
   "id": "3f68eba4",
   "metadata": {},
   "source": [
    "# Question 12"
   ]
  },
  {
   "cell_type": "raw",
   "id": "f5bdab6e",
   "metadata": {},
   "source": [
    "Q12) Create a function that takes three parameters where:\n",
    "• x is the start of the range (inclusive).\n",
    "• y is the end of the range (inclusive).\n",
    "• n is the divisor to be checked against.Return an ordered list with numbers in the range that\n",
    "are divisible by the\n",
    "third parameter n . Return an empty list if there are no numbers that are\n",
    "divisible by n .\n",
    "Examples\n",
    "list_operation(1, 10, 3) ➞ [3, 6, 9]\n",
    "list_operation(7, 9, 2) ➞ [8]\n",
    "list_operation(15, 20, 7) ➞ []"
   ]
  },
  {
   "cell_type": "code",
   "execution_count": 24,
   "id": "58db6904",
   "metadata": {},
   "outputs": [],
   "source": [
    "def list_operation(start,end,divisor):\n",
    "    \n",
    "    l = []\n",
    "    \n",
    "    for i in range(start,end+1):\n",
    "        \n",
    "        if(i%divisor==0):\n",
    "            l.append(i)\n",
    "            \n",
    "    return l"
   ]
  },
  {
   "cell_type": "code",
   "execution_count": 25,
   "id": "890f4200",
   "metadata": {},
   "outputs": [
    {
     "name": "stdout",
     "output_type": "stream",
     "text": [
      "[3, 6, 9]\n",
      "[8]\n",
      "[]\n"
     ]
    }
   ],
   "source": [
    "print(list_operation(1, 10, 3))\n",
    "print(list_operation(7, 9, 2))\n",
    "print(list_operation(15, 20, 7))"
   ]
  },
  {
   "cell_type": "code",
   "execution_count": null,
   "id": "32bc0d12",
   "metadata": {},
   "outputs": [],
   "source": []
  },
  {
   "cell_type": "markdown",
   "id": "cd417bb2",
   "metadata": {},
   "source": [
    "# Question 13"
   ]
  },
  {
   "cell_type": "raw",
   "id": "ce4d0081",
   "metadata": {},
   "source": [
    "Q13) write a program which count and print the numbers of each character in a\n",
    "string input by console.\n",
    "Example: If the following string is given as input to the program:\n",
    "abcdefgabc\n",
    "Then, the output of the program should be:\n",
    "{‘a’:2 ‘c’:2 ,’b’:2 ‘e’:1 ‘d’:1, ‘g’:1 ‘f’:1}"
   ]
  },
  {
   "cell_type": "code",
   "execution_count": 26,
   "id": "f6b428d5",
   "metadata": {},
   "outputs": [],
   "source": [
    "def string_count(data):\n",
    "    \n",
    "    d = {}\n",
    "    \n",
    "    for i in data:\n",
    "        \n",
    "        d[i] = data.count(i)\n",
    "        \n",
    "    return d"
   ]
  },
  {
   "cell_type": "code",
   "execution_count": 27,
   "id": "8fd927e4",
   "metadata": {},
   "outputs": [
    {
     "name": "stdout",
     "output_type": "stream",
     "text": [
      "Enter anything: adinafisnfgwoo\n"
     ]
    },
    {
     "data": {
      "text/plain": [
       "{'a': 2, 'd': 1, 'i': 2, 'n': 2, 'f': 2, 's': 1, 'g': 1, 'w': 1, 'o': 2}"
      ]
     },
     "execution_count": 27,
     "metadata": {},
     "output_type": "execute_result"
    }
   ],
   "source": [
    "string_count(input(\"Enter anything: \"))"
   ]
  },
  {
   "cell_type": "code",
   "execution_count": null,
   "id": "5cd096c9",
   "metadata": {},
   "outputs": [],
   "source": []
  },
  {
   "cell_type": "markdown",
   "id": "785a1484",
   "metadata": {},
   "source": [
    "# Question 14"
   ]
  },
  {
   "cell_type": "raw",
   "id": "79ea59b6",
   "metadata": {},
   "source": [
    "Q14) With a given list [12,24,35,24,88,120,155,88,120,155], write a program to\n",
    "print this list after removing all duplicate values with original order reserved."
   ]
  },
  {
   "cell_type": "code",
   "execution_count": 61,
   "id": "6bbfb7d1",
   "metadata": {},
   "outputs": [],
   "source": [
    "def remove_duplicates(data):\n",
    "    \n",
    "#     for i in range(len(data)):\n",
    "        \n",
    "#         for j in range(i+1,len(data)):\n",
    "            \n",
    "#             if data[i]==data[j]:\n",
    "#                 data.remove(data[j])\n",
    "                \n",
    "    print(data)        \n",
    "    s = set(data)\n",
    "    print(s)\n",
    "    data = list(s)\n",
    "    print(data)\n",
    "    data.sort()\n",
    "    print(data)\n",
    "    \n",
    "    print(data[::-1])\n",
    "#     return data[::-1]"
   ]
  },
  {
   "cell_type": "code",
   "execution_count": 62,
   "id": "f55e4195",
   "metadata": {},
   "outputs": [
    {
     "name": "stdout",
     "output_type": "stream",
     "text": [
      "[12, 24, 35, 24, 88, 120, 155, 88, 120, 155]\n",
      "{35, 12, 155, 24, 88, 120}\n",
      "[35, 12, 155, 24, 88, 120]\n",
      "[12, 24, 35, 88, 120, 155]\n",
      "[12]\n",
      "None\n"
     ]
    }
   ],
   "source": [
    "print(remove_duplicates([12,24,35,24,88,120,155,88,120,155]))"
   ]
  },
  {
   "cell_type": "code",
   "execution_count": 65,
   "id": "2d6103f6",
   "metadata": {},
   "outputs": [
    {
     "name": "stdout",
     "output_type": "stream",
     "text": [
      "<class 'str'>\n",
      "<class 'int'>\n"
     ]
    }
   ],
   "source": [
    "data = '1234'\n",
    "print(type(data))\n",
    "data = 123\n",
    "print(type(data))"
   ]
  },
  {
   "cell_type": "markdown",
   "id": "5e4cc2ec",
   "metadata": {},
   "source": [
    "# Question 15"
   ]
  },
  {
   "cell_type": "raw",
   "id": "c630ee35",
   "metadata": {},
   "source": [
    "Q15) In this challenge, a farmer is asking you to tell him how many legs can be counted among\n",
    "all his animals. The farmer breeds three species:\n",
    "•chickens = 2 legs\n",
    "•cows = 4 legs\n",
    "•pigs = 4 legs\n",
    "The farmer has counted his animals and he gives you a subtotal for each species. You have to\n",
    "implement a function that returns the total number of legs of all the animals.\n",
    "Examples\n",
    "animals(2, 3, 5) ➞ 36\n",
    "animals(1, 2, 3) ➞ 22\n",
    "animals(5, 2, 8) ➞ 50"
   ]
  },
  {
   "cell_type": "code",
   "execution_count": 30,
   "id": "cc2408fa",
   "metadata": {},
   "outputs": [],
   "source": [
    "def animals(chickens, cows, pigs):\n",
    "        \n",
    "    return chickens*2 + cows*4 + pigs*4\n"
   ]
  },
  {
   "cell_type": "code",
   "execution_count": 31,
   "id": "4ffa722e",
   "metadata": {},
   "outputs": [
    {
     "name": "stdout",
     "output_type": "stream",
     "text": [
      "36\n",
      "22\n",
      "50\n"
     ]
    }
   ],
   "source": [
    "print(animals(2, 3, 5))\n",
    "print(animals(1, 2, 3))\n",
    "print(animals(5, 2, 8))"
   ]
  },
  {
   "cell_type": "code",
   "execution_count": null,
   "id": "fe9aeda0",
   "metadata": {},
   "outputs": [],
   "source": []
  },
  {
   "cell_type": "code",
   "execution_count": null,
   "id": "54ddf2ff",
   "metadata": {},
   "outputs": [],
   "source": []
  }
 ],
 "metadata": {
  "kernelspec": {
   "display_name": "Python 3 (ipykernel)",
   "language": "python",
   "name": "python3"
  },
  "language_info": {
   "codemirror_mode": {
    "name": "ipython",
    "version": 3
   },
   "file_extension": ".py",
   "mimetype": "text/x-python",
   "name": "python",
   "nbconvert_exporter": "python",
   "pygments_lexer": "ipython3",
   "version": "3.11.1"
  }
 },
 "nbformat": 4,
 "nbformat_minor": 5
}
