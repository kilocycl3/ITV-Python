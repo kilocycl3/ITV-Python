{
 "cells": [
  {
   "cell_type": "code",
   "execution_count": 44,
   "id": "f5d4ea2d",
   "metadata": {},
   "outputs": [],
   "source": [
    "Emp={'Anuj',101,'Thane',45000,1,30.5}"
   ]
  },
  {
   "cell_type": "code",
   "execution_count": 45,
   "id": "2df13adc",
   "metadata": {},
   "outputs": [
    {
     "name": "stdout",
     "output_type": "stream",
     "text": [
      "Given set is {1, 101, 30.5, 45000, 'Anuj', 'Thane'}\n"
     ]
    }
   ],
   "source": [
    "print(f\"Given set is {Emp}\")"
   ]
  },
  {
   "cell_type": "code",
   "execution_count": 46,
   "id": "e17a032c",
   "metadata": {},
   "outputs": [
    {
     "name": "stdout",
     "output_type": "stream",
     "text": [
      "\n",
      "Enter your designation: Developer\n",
      "\n",
      "Updated set after add designation: {'Developer', 1, 101, 30.5, 45000, 'Anuj', 'Thane'}\n"
     ]
    }
   ],
   "source": [
    "n = input(\"\\nEnter your designation: \")\n",
    "Emp.add(n)\n",
    "print(f\"\\nUpdated set after add designation: {Emp}\")"
   ]
  },
  {
   "cell_type": "code",
   "execution_count": 47,
   "id": "1d155282",
   "metadata": {},
   "outputs": [
    {
     "name": "stdout",
     "output_type": "stream",
     "text": [
      "\n",
      "First set is {'Developer', 1, 101, 30.5, 45000, 'Anuj', 'Thane'}\n",
      "Second set is {1, 30.5, 102, 'Amit', 45000, 'Mumbai'}\n",
      "Difference between both set is {'Developer', 'Anuj', 101, 'Thane'}\n"
     ]
    }
   ],
   "source": [
    "Emp1 = {'Amit', 102, 'Mumbai', 45000, 1, 30.5}\n",
    "\n",
    "print(f\"\\nFirst set is {Emp}\")\n",
    "print(f\"Second set is {Emp1}\")\n",
    "print(f\"Difference between both set is {Emp.difference(Emp1)}\")"
   ]
  },
  {
   "cell_type": "code",
   "execution_count": 48,
   "id": "6d6fa6c9",
   "metadata": {},
   "outputs": [
    {
     "name": "stdout",
     "output_type": "stream",
     "text": [
      "\n",
      "First set is {'Developer', 1, 101, 30.5, 45000, 'Anuj', 'Thane'}\n",
      "Second set is {1, 30.5, 102, 'Amit', 45000, 'Mumbai'}\n",
      "Name and location set is {'Anuj', 'Thane'}\n",
      "\n",
      "Is Name and location set is subset of first set? True\n",
      "Is First set is superset of name and location? True\n",
      "Is Name and location set disjoint of second set? True\n"
     ]
    }
   ],
   "source": [
    "name_loc = {'Anuj', 'Thane'}\n",
    "\n",
    "print(f\"\\nFirst set is {Emp}\")\n",
    "print(f\"Second set is {Emp1}\")\n",
    "print(f'Name and location set is {name_loc}')\n",
    "\n",
    "print(f\"\\nIs Name and location set is subset of first set? {name_loc.issubset(Emp)}\")\n",
    "print(f\"Is First set is superset of name and location? {Emp.issuperset(name_loc)}\")\n",
    "print(f\"Is Name and location set disjoint of second set? {name_loc.isdisjoint(Emp1)}\")"
   ]
  },
  {
   "cell_type": "code",
   "execution_count": 49,
   "id": "d074cde8",
   "metadata": {},
   "outputs": [
    {
     "name": "stdout",
     "output_type": "stream",
     "text": [
      "\n",
      "Remove the Developer from first Set\n",
      "\n",
      "Updated first set is {1, 101, 30.5, 45000, 'Anuj', 'Thane'}\n"
     ]
    }
   ],
   "source": [
    "print(\"\\nRemove the Developer from first Set\")\n",
    "Emp.discard('Developer')\n",
    "print(f\"\\nUpdated first set is {Emp}\")"
   ]
  },
  {
   "cell_type": "code",
   "execution_count": 50,
   "id": "6d3c4aa4",
   "metadata": {},
   "outputs": [
    {
     "name": "stdout",
     "output_type": "stream",
     "text": [
      "\n",
      "First set is {1, 101, 30.5, 45000, 'Anuj', 'Thane'}\n",
      "Second set is {1, 30.5, 102, 'Amit', 45000, 'Mumbai'}\n",
      "Common or intersection between first and second set is {45000, 1, 30.5}\n"
     ]
    }
   ],
   "source": [
    "print(f\"\\nFirst set is {Emp}\")\n",
    "print(f\"Second set is {Emp1}\")\n",
    "\n",
    "print(f\"Common or intersection between first and second set is {Emp.intersection(Emp1)}\")"
   ]
  },
  {
   "cell_type": "code",
   "execution_count": 51,
   "id": "1005f5bf",
   "metadata": {},
   "outputs": [
    {
     "name": "stdout",
     "output_type": "stream",
     "text": [
      "\n",
      "Pop an element from first set: 1\n",
      "\n",
      "Remove an element from second set: {30.5, 102, 'Amit', 45000, 'Mumbai'}\n"
     ]
    }
   ],
   "source": [
    "print(f\"\\nPop an element from first set: {Emp.pop()}\")\n",
    "Emp1.remove(1)\n",
    "print(f\"\\nSecond set after removing an element: {Emp1}\")"
   ]
  },
  {
   "cell_type": "code",
   "execution_count": 54,
   "id": "a9c63c1c",
   "metadata": {},
   "outputs": [
    {
     "name": "stdout",
     "output_type": "stream",
     "text": [
      "Union of first and second set is {101, 102, 'Amit', 45000, 'Thane', 'Mumbai', 'Anuj', 30.5}\n"
     ]
    }
   ],
   "source": [
    "print(f\"\\nUnion of first and second set is {Emp.union(Emp1)}\")"
   ]
  },
  {
   "cell_type": "code",
   "execution_count": 55,
   "id": "3344d342",
   "metadata": {},
   "outputs": [
    {
     "name": "stdout",
     "output_type": "stream",
     "text": [
      "\n",
      "Copy of first set is {101, 'Thane', 45000, 'Anuj', 30.5}\n"
     ]
    }
   ],
   "source": [
    "copied_Emp = Emp.copy()\n",
    "\n",
    "print(f\"\\nCopy of first set is {copied_Emp}\")"
   ]
  },
  {
   "cell_type": "code",
   "execution_count": 57,
   "id": "2338362b",
   "metadata": {},
   "outputs": [
    {
     "name": "stdout",
     "output_type": "stream",
     "text": [
      "\n",
      "Copy of first set after clearing the element: set()\n"
     ]
    }
   ],
   "source": [
    "copied_Emp.clear()\n",
    "\n",
    "print(f\"\\nCopy of first set after clearing the element: {copied_Emp}\")"
   ]
  },
  {
   "cell_type": "code",
   "execution_count": 1,
   "id": "0bbc2219",
   "metadata": {},
   "outputs": [],
   "source": [
    "s = set()"
   ]
  },
  {
   "cell_type": "code",
   "execution_count": null,
   "id": "8f413b18",
   "metadata": {},
   "outputs": [],
   "source": [
    "s."
   ]
  }
 ],
 "metadata": {
  "kernelspec": {
   "display_name": "Python 3 (ipykernel)",
   "language": "python",
   "name": "python3"
  },
  "language_info": {
   "codemirror_mode": {
    "name": "ipython",
    "version": 3
   },
   "file_extension": ".py",
   "mimetype": "text/x-python",
   "name": "python",
   "nbconvert_exporter": "python",
   "pygments_lexer": "ipython3",
   "version": "3.11.0"
  }
 },
 "nbformat": 4,
 "nbformat_minor": 5
}
