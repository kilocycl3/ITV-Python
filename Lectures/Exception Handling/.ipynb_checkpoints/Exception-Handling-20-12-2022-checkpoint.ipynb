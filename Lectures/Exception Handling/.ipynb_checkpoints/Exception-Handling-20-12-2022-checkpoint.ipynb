{
 "cells": [
  {
   "cell_type": "markdown",
   "id": "69545c85",
   "metadata": {},
   "source": [
    "# Exception Handling\n",
    "\n",
    "\n",
    "**try: Executable code**\n",
    "\n",
    "**except: Handle the error occured in try block**\n",
    "\n",
    "**else: Executable code if try block doesnt occured**\n",
    "\n",
    "**finally: This blocks always executes**"
   ]
  },
  {
   "cell_type": "code",
   "execution_count": null,
   "id": "2c0f6a2a",
   "metadata": {},
   "outputs": [],
   "source": []
  },
  {
   "cell_type": "code",
   "execution_count": 1,
   "id": "396ef939",
   "metadata": {},
   "outputs": [
    {
     "name": "stdout",
     "output_type": "stream",
     "text": [
      "Variable not defined\n"
     ]
    }
   ],
   "source": [
    "try:\n",
    "    print(s)\n",
    "except:\n",
    "    print(\"Variable not defined\")"
   ]
  },
  {
   "cell_type": "code",
   "execution_count": null,
   "id": "a9bdb3bf",
   "metadata": {},
   "outputs": [],
   "source": []
  },
  {
   "cell_type": "code",
   "execution_count": 2,
   "id": "2e0960f9",
   "metadata": {},
   "outputs": [
    {
     "name": "stdout",
     "output_type": "stream",
     "text": [
      "name 'name' is not defined\n"
     ]
    }
   ],
   "source": [
    "try:\n",
    "    print(name)\n",
    "except Exception as e:\n",
    "    print(e)"
   ]
  },
  {
   "cell_type": "code",
   "execution_count": null,
   "id": "fe36fb15",
   "metadata": {},
   "outputs": [],
   "source": []
  },
  {
   "cell_type": "code",
   "execution_count": null,
   "id": "3c2075c1",
   "metadata": {},
   "outputs": [],
   "source": []
  },
  {
   "cell_type": "code",
   "execution_count": 27,
   "id": "2437e6c3",
   "metadata": {},
   "outputs": [
    {
     "name": "stdout",
     "output_type": "stream",
     "text": [
      "name 's' is not defined\n"
     ]
    }
   ],
   "source": [
    "try:\n",
    "    l = [1,2,3]\n",
    "#     print(l[4])\n",
    "    print(s)\n",
    "except NameError as e1:\n",
    "    print(e1)\n",
    "except IndexError as e2:\n",
    "    print(e2)"
   ]
  },
  {
   "cell_type": "code",
   "execution_count": 28,
   "id": "c41aa4ef",
   "metadata": {},
   "outputs": [
    {
     "name": "stdout",
     "output_type": "stream",
     "text": [
      "list index out of range\n"
     ]
    }
   ],
   "source": [
    "try:\n",
    "    l = [1,2,3]\n",
    "    print(l[4])\n",
    "    print(s)\n",
    "except NameError as e1:\n",
    "    print(e1)\n",
    "except IndexError as e2:\n",
    "    print(e2)"
   ]
  },
  {
   "cell_type": "code",
   "execution_count": null,
   "id": "4b0f9948",
   "metadata": {},
   "outputs": [],
   "source": []
  },
  {
   "cell_type": "code",
   "execution_count": 41,
   "id": "4c820626",
   "metadata": {},
   "outputs": [
    {
     "name": "stdout",
     "output_type": "stream",
     "text": [
      "File Error: [Errno 2] No such file or directory: 'data.txt'\n"
     ]
    }
   ],
   "source": [
    "try:\n",
    "    with open('data.txt') as f:\n",
    "        print(f.read())\n",
    "        \n",
    "except FileNotFoundError as e1:\n",
    "    print(\"File Error:\",e1)"
   ]
  },
  {
   "cell_type": "code",
   "execution_count": 43,
   "id": "f23d9d0c",
   "metadata": {},
   "outputs": [
    {
     "name": "stdout",
     "output_type": "stream",
     "text": [
      "Folder Error: [WinError 183] Cannot create a file when that file already exists: 'Directory'\n"
     ]
    }
   ],
   "source": [
    "import os\n",
    "\n",
    "try:\n",
    "    os.mkdir(\"Directory\")\n",
    "    \n",
    "except FileExistsError as fe:\n",
    "    print(\"Folder Error:\",fe)"
   ]
  },
  {
   "cell_type": "code",
   "execution_count": null,
   "id": "959e4283",
   "metadata": {},
   "outputs": [],
   "source": []
  },
  {
   "cell_type": "code",
   "execution_count": null,
   "id": "05b44579",
   "metadata": {},
   "outputs": [],
   "source": []
  },
  {
   "cell_type": "code",
   "execution_count": null,
   "id": "79de2fd5",
   "metadata": {},
   "outputs": [],
   "source": []
  },
  {
   "cell_type": "code",
   "execution_count": null,
   "id": "5a3758a0",
   "metadata": {},
   "outputs": [],
   "source": []
  },
  {
   "cell_type": "code",
   "execution_count": null,
   "id": "78610d87",
   "metadata": {},
   "outputs": [],
   "source": []
  },
  {
   "cell_type": "code",
   "execution_count": null,
   "id": "6625b0d4",
   "metadata": {},
   "outputs": [],
   "source": []
  }
 ],
 "metadata": {
  "kernelspec": {
   "display_name": "archive",
   "language": "python",
   "name": "archive"
  },
  "language_info": {
   "codemirror_mode": {
    "name": "ipython",
    "version": 3
   },
   "file_extension": ".py",
   "mimetype": "text/x-python",
   "name": "python",
   "nbconvert_exporter": "python",
   "pygments_lexer": "ipython3",
   "version": "3.11.1"
  }
 },
 "nbformat": 4,
 "nbformat_minor": 5
}
