{
 "cells": [
  {
   "cell_type": "markdown",
   "id": "34e6d49b",
   "metadata": {},
   "source": [
    "# Functions"
   ]
  },
  {
   "cell_type": "markdown",
   "id": "8b7e5a9e",
   "metadata": {},
   "source": [
    "# Arbitrary parameters\n",
    "\n",
    "## "
   ]
  },
  {
   "cell_type": "code",
   "execution_count": 52,
   "id": "9ed47ead",
   "metadata": {},
   "outputs": [
    {
     "name": "stdout",
     "output_type": "stream",
     "text": [
      "13\n"
     ]
    }
   ],
   "source": [
    "add(10,3)"
   ]
  },
  {
   "cell_type": "code",
   "execution_count": 53,
   "id": "9e7def70",
   "metadata": {},
   "outputs": [
    {
     "name": "stdout",
     "output_type": "stream",
     "text": [
      "12\n"
     ]
    }
   ],
   "source": [
    "add(10)"
   ]
  },
  {
   "cell_type": "code",
   "execution_count": 54,
   "id": "cdecf0b4",
   "metadata": {},
   "outputs": [
    {
     "name": "stdout",
     "output_type": "stream",
     "text": [
      "3\n"
     ]
    }
   ],
   "source": [
    "add()"
   ]
  },
  {
   "cell_type": "code",
   "execution_count": null,
   "id": "dc88c89b",
   "metadata": {},
   "outputs": [],
   "source": []
  },
  {
   "cell_type": "code",
   "execution_count": 2,
   "id": "c6362f9a",
   "metadata": {},
   "outputs": [
    {
     "name": "stdout",
     "output_type": "stream",
     "text": [
      "3\n",
      "4\n"
     ]
    }
   ],
   "source": [
    "data = [1,2,[3,4]]\n",
    "\n",
    "for i in data:\n",
    "    if type(i) == list:\n",
    "        for j in i:\n",
    "            print(j)"
   ]
  },
  {
   "cell_type": "markdown",
   "id": "f2b9a4f8",
   "metadata": {},
   "source": [
    "# Closure Function"
   ]
  },
  {
   "cell_type": "code",
   "execution_count": 55,
   "id": "595b2831",
   "metadata": {},
   "outputs": [],
   "source": [
    "def func1():\n",
    "    \n",
    "    l = 1\n",
    "    def func2():\n",
    "        print(\"Inside function 2\")\n",
    "        \n",
    "    print(\"Inside function 1\")\n",
    "    \n",
    "    func2()"
   ]
  },
  {
   "cell_type": "code",
   "execution_count": 56,
   "id": "1f89071d",
   "metadata": {},
   "outputs": [
    {
     "name": "stdout",
     "output_type": "stream",
     "text": [
      "Inside function 1\n",
      "Inside function 2\n"
     ]
    }
   ],
   "source": [
    "func1()"
   ]
  },
  {
   "cell_type": "code",
   "execution_count": null,
   "id": "9fb164e8",
   "metadata": {},
   "outputs": [],
   "source": []
  },
  {
   "cell_type": "code",
   "execution_count": 65,
   "id": "b455e76a",
   "metadata": {},
   "outputs": [],
   "source": [
    "# def func2(n,*n1,**n2):\n",
    "    \n",
    "#     print(n)\n",
    "#     print(n1)\n",
    "#     print(n2)\n",
    "\n",
    "# def func2(*n1,**n2):\n",
    "    \n",
    "#     print(n)\n",
    "#     print(n1)\n",
    "#     print(n2)\n",
    "\n",
    "# def func2(*n1):\n",
    "    \n",
    "##     print(n)\n",
    "#     print(n1)\n",
    "#     print(n2)\n",
    "    \n",
    "def func2(**n2):\n",
    "    \n",
    "#     print(n)\n",
    "#     print(n1)\n",
    "    print(n2)"
   ]
  },
  {
   "cell_type": "code",
   "execution_count": 66,
   "id": "c6e578be",
   "metadata": {},
   "outputs": [
    {
     "name": "stdout",
     "output_type": "stream",
     "text": [
      "{'fname': 'Amit', 'lname': 'Sharma'}\n"
     ]
    }
   ],
   "source": [
    "func2(fname = 'Amit', lname = 'Sharma')"
   ]
  },
  {
   "cell_type": "code",
   "execution_count": 67,
   "id": "9f3243c9",
   "metadata": {},
   "outputs": [
    {
     "name": "stdout",
     "output_type": "stream",
     "text": [
      "{'fname': 'Amit'}\n"
     ]
    }
   ],
   "source": [
    "func2(fname = 'Amit')"
   ]
  },
  {
   "cell_type": "code",
   "execution_count": 42,
   "id": "4a7a4fc2",
   "metadata": {},
   "outputs": [
    {
     "name": "stdout",
     "output_type": "stream",
     "text": [
      "1\n",
      "(2, 3)\n",
      "{'fname': 'Amit'}\n"
     ]
    }
   ],
   "source": [
    "func2(1,2,3,fname = 'Amit')"
   ]
  },
  {
   "cell_type": "code",
   "execution_count": 48,
   "id": "bd5e5337",
   "metadata": {},
   "outputs": [
    {
     "name": "stdout",
     "output_type": "stream",
     "text": [
      "1\n",
      "(2, 3, 4)\n",
      "{'fname': 'Amit'}\n"
     ]
    }
   ],
   "source": [
    "func2(1,2,3,4,fname = 'Amit')"
   ]
  },
  {
   "cell_type": "code",
   "execution_count": null,
   "id": "a9d15d25",
   "metadata": {},
   "outputs": [],
   "source": []
  },
  {
   "cell_type": "code",
   "execution_count": null,
   "id": "1748c9db",
   "metadata": {},
   "outputs": [],
   "source": []
  },
  {
   "cell_type": "markdown",
   "id": "6b6d0d2c",
   "metadata": {},
   "source": [
    "# Nested closure function"
   ]
  },
  {
   "cell_type": "code",
   "execution_count": 70,
   "id": "b0e78396",
   "metadata": {},
   "outputs": [],
   "source": [
    "def func1():\n",
    "    \n",
    "    n1 = 10\n",
    "    \n",
    "    def func2():\n",
    "        \n",
    "        n2 = 20\n",
    "        \n",
    "        def func3():\n",
    "            \n",
    "            n3 = 30\n",
    "            \n",
    "            print(n1,n2,n3)\n",
    "            \n",
    "        func3()\n",
    "        \n",
    "    return func2()\n"
   ]
  },
  {
   "cell_type": "code",
   "execution_count": 71,
   "id": "3664c415",
   "metadata": {},
   "outputs": [
    {
     "name": "stdout",
     "output_type": "stream",
     "text": [
      "10 20 30\n"
     ]
    }
   ],
   "source": [
    "func1()"
   ]
  },
  {
   "cell_type": "code",
   "execution_count": null,
   "id": "3da7da71",
   "metadata": {},
   "outputs": [],
   "source": []
  },
  {
   "cell_type": "code",
   "execution_count": 88,
   "id": "5f137571",
   "metadata": {},
   "outputs": [],
   "source": [
    "addition = lambda a,*n : n*a"
   ]
  },
  {
   "cell_type": "code",
   "execution_count": 91,
   "id": "20220d5f",
   "metadata": {},
   "outputs": [
    {
     "data": {
      "text/plain": [
       "(3, 1, 2, 3, 1, 2)"
      ]
     },
     "execution_count": 91,
     "metadata": {},
     "output_type": "execute_result"
    }
   ],
   "source": [
    "addition(2,3,1,2)"
   ]
  },
  {
   "cell_type": "markdown",
   "id": "549046f8",
   "metadata": {},
   "source": [
    "\n",
    "# Map Function with and without lambda"
   ]
  },
  {
   "cell_type": "code",
   "execution_count": null,
   "id": "ca862672",
   "metadata": {},
   "outputs": [],
   "source": []
  },
  {
   "cell_type": "code",
   "execution_count": null,
   "id": "c9b291e8",
   "metadata": {},
   "outputs": [],
   "source": []
  },
  {
   "cell_type": "code",
   "execution_count": 92,
   "id": "a3fde261",
   "metadata": {},
   "outputs": [],
   "source": [
    "l = [1,2,3,4,5]"
   ]
  },
  {
   "cell_type": "code",
   "execution_count": 134,
   "id": "729ebfdf",
   "metadata": {},
   "outputs": [
    {
     "data": {
      "text/plain": [
       "[1, 2, 3, 4, 5]"
      ]
     },
     "execution_count": 134,
     "metadata": {},
     "output_type": "execute_result"
    }
   ],
   "source": [
    "l"
   ]
  },
  {
   "cell_type": "code",
   "execution_count": 141,
   "id": "6e93b4d0",
   "metadata": {},
   "outputs": [],
   "source": [
    "mapfunc1 = map(str,l)"
   ]
  },
  {
   "cell_type": "code",
   "execution_count": 142,
   "id": "51f7cb5d",
   "metadata": {},
   "outputs": [],
   "source": [
    "l2 = list(mapfunc1)"
   ]
  },
  {
   "cell_type": "code",
   "execution_count": 143,
   "id": "41627135",
   "metadata": {},
   "outputs": [
    {
     "data": {
      "text/plain": [
       "['1', '2', '3', '4', '5']"
      ]
     },
     "execution_count": 143,
     "metadata": {},
     "output_type": "execute_result"
    }
   ],
   "source": [
    "l2"
   ]
  },
  {
   "cell_type": "code",
   "execution_count": 144,
   "id": "484ef267",
   "metadata": {},
   "outputs": [],
   "source": [
    "for i in mapfunc1:\n",
    "    print(i)"
   ]
  },
  {
   "cell_type": "code",
   "execution_count": 7,
   "id": "1732349e",
   "metadata": {},
   "outputs": [
    {
     "data": {
      "text/plain": [
       "[1, 2, 3, 4]"
      ]
     },
     "execution_count": 7,
     "metadata": {},
     "output_type": "execute_result"
    }
   ],
   "source": [
    "l"
   ]
  },
  {
   "cell_type": "code",
   "execution_count": 28,
   "id": "b0821379",
   "metadata": {},
   "outputs": [],
   "source": [
    "mapfunc2 = map(lambda n : n**2,l)"
   ]
  },
  {
   "cell_type": "code",
   "execution_count": 29,
   "id": "21004ab2",
   "metadata": {},
   "outputs": [],
   "source": [
    "l3 = list(mapfunc2)"
   ]
  },
  {
   "cell_type": "code",
   "execution_count": 30,
   "id": "71b65b08",
   "metadata": {},
   "outputs": [
    {
     "data": {
      "text/plain": [
       "[1, 4, 9, 16]"
      ]
     },
     "execution_count": 30,
     "metadata": {},
     "output_type": "execute_result"
    }
   ],
   "source": [
    "l3"
   ]
  },
  {
   "cell_type": "code",
   "execution_count": 150,
   "id": "3653c898",
   "metadata": {},
   "outputs": [
    {
     "name": "stdout",
     "output_type": "stream",
     "text": [
      "1 1\n",
      "2 4\n",
      "3 9\n",
      "4 16\n",
      "5 25\n"
     ]
    }
   ],
   "source": [
    "for i,j in zip(l,l3):\n",
    "    print(i,j)"
   ]
  },
  {
   "cell_type": "markdown",
   "id": "ece75844",
   "metadata": {},
   "source": [
    "# Map for dictionaries"
   ]
  },
  {
   "cell_type": "code",
   "execution_count": null,
   "id": "fe0e208a",
   "metadata": {},
   "outputs": [],
   "source": []
  },
  {
   "cell_type": "code",
   "execution_count": 11,
   "id": "04b3f5ed",
   "metadata": {},
   "outputs": [],
   "source": [
    "d = dict(map(lambda i: (i,i**2),l))"
   ]
  },
  {
   "cell_type": "code",
   "execution_count": 12,
   "id": "b41ed998",
   "metadata": {},
   "outputs": [
    {
     "name": "stdout",
     "output_type": "stream",
     "text": [
      "(1, 1)\n",
      "(2, 4)\n",
      "(3, 9)\n",
      "(4, 16)\n"
     ]
    }
   ],
   "source": [
    "for k in d.items():\n",
    "    print(k)"
   ]
  },
  {
   "cell_type": "code",
   "execution_count": 13,
   "id": "413b9fbb",
   "metadata": {},
   "outputs": [],
   "source": [
    "d1 = {1:1, 2:2, 3:3, 4:4}"
   ]
  },
  {
   "cell_type": "code",
   "execution_count": 19,
   "id": "15938192",
   "metadata": {},
   "outputs": [
    {
     "data": {
      "text/plain": [
       "{1: 1, 2: 4, 3: 9, 4: 16}"
      ]
     },
     "execution_count": 19,
     "metadata": {},
     "output_type": "execute_result"
    }
   ],
   "source": [
    "dict(map(lambda i: (i,i**2),d1.keys()))"
   ]
  },
  {
   "cell_type": "code",
   "execution_count": 20,
   "id": "f6144280",
   "metadata": {},
   "outputs": [
    {
     "data": {
      "text/plain": [
       "{1: 1, 2: 4, 3: 9, 4: 16}"
      ]
     },
     "execution_count": 20,
     "metadata": {},
     "output_type": "execute_result"
    }
   ],
   "source": [
    "dict(map(lambda i: (i[0],i[1]**2),d1.items()))"
   ]
  },
  {
   "cell_type": "markdown",
   "id": "a6e16861",
   "metadata": {},
   "source": [
    "# Filter\n",
    "\n",
    "**Function specified in the filter return boolean values and the main filter inbuilt function filters it out the values which returned false and returns the true ones**"
   ]
  },
  {
   "cell_type": "code",
   "execution_count": null,
   "id": "e870d09b",
   "metadata": {},
   "outputs": [],
   "source": []
  },
  {
   "cell_type": "code",
   "execution_count": 34,
   "id": "9bd45347",
   "metadata": {},
   "outputs": [],
   "source": [
    "l = [i for i in range(31)]"
   ]
  },
  {
   "cell_type": "code",
   "execution_count": 35,
   "id": "9d873fe0",
   "metadata": {},
   "outputs": [
    {
     "data": {
      "text/plain": [
       "[0, 2, 4, 6, 8, 10, 12, 14, 16, 18, 20, 22, 24, 26, 28, 30]"
      ]
     },
     "execution_count": 35,
     "metadata": {},
     "output_type": "execute_result"
    }
   ],
   "source": [
    "list(filter(lambda n : n%2==0,l))"
   ]
  },
  {
   "cell_type": "code",
   "execution_count": 36,
   "id": "699fde40",
   "metadata": {},
   "outputs": [],
   "source": [
    "def filter_func(n):\n",
    "    \n",
    "    return n%2==0"
   ]
  },
  {
   "cell_type": "code",
   "execution_count": 37,
   "id": "098e3933",
   "metadata": {},
   "outputs": [
    {
     "data": {
      "text/plain": [
       "[0, 2, 4, 6, 8, 10, 12, 14, 16, 18, 20, 22, 24, 26, 28, 30]"
      ]
     },
     "execution_count": 37,
     "metadata": {},
     "output_type": "execute_result"
    }
   ],
   "source": [
    "list(filter(filter_func,l))"
   ]
  },
  {
   "cell_type": "code",
   "execution_count": null,
   "id": "396f518c",
   "metadata": {},
   "outputs": [],
   "source": []
  },
  {
   "cell_type": "code",
   "execution_count": 42,
   "id": "03c7e137",
   "metadata": {},
   "outputs": [],
   "source": [
    "city = {'mumbai','pune','chennai','delhi','pune'}"
   ]
  },
  {
   "cell_type": "code",
   "execution_count": 43,
   "id": "2e701e21",
   "metadata": {},
   "outputs": [
    {
     "data": {
      "text/plain": [
       "['mumbai', 'chennai']"
      ]
     },
     "execution_count": 43,
     "metadata": {},
     "output_type": "execute_result"
    }
   ],
   "source": [
    "list(filter(lambda s: len(s)>5,city))"
   ]
  },
  {
   "cell_type": "code",
   "execution_count": null,
   "id": "2c5c6837",
   "metadata": {},
   "outputs": [],
   "source": []
  },
  {
   "cell_type": "code",
   "execution_count": 44,
   "id": "0b7d5811",
   "metadata": {},
   "outputs": [],
   "source": [
    "country = [\n",
    "    ['India',300],\n",
    "    ['China',100],\n",
    "    ['Brazil',500],\n",
    "    ['Russia',600],\n",
    "    ['Mexico',700]\n",
    "]"
   ]
  },
  {
   "cell_type": "code",
   "execution_count": 45,
   "id": "b9c3b1d6",
   "metadata": {},
   "outputs": [
    {
     "data": {
      "text/plain": [
       "[['Russia', 600], ['Mexico', 700]]"
      ]
     },
     "execution_count": 45,
     "metadata": {},
     "output_type": "execute_result"
    }
   ],
   "source": [
    "list(filter(lambda item: item[1]>500,country))"
   ]
  },
  {
   "cell_type": "code",
   "execution_count": null,
   "id": "b7fa6706",
   "metadata": {},
   "outputs": [],
   "source": []
  },
  {
   "cell_type": "code",
   "execution_count": null,
   "id": "12a2b345",
   "metadata": {},
   "outputs": [],
   "source": []
  },
  {
   "cell_type": "code",
   "execution_count": null,
   "id": "0656faa9",
   "metadata": {},
   "outputs": [],
   "source": []
  },
  {
   "cell_type": "code",
   "execution_count": null,
   "id": "1d13fe67",
   "metadata": {},
   "outputs": [],
   "source": []
  },
  {
   "cell_type": "code",
   "execution_count": null,
   "id": "edab5dba",
   "metadata": {},
   "outputs": [],
   "source": []
  },
  {
   "cell_type": "code",
   "execution_count": null,
   "id": "46fbfd48",
   "metadata": {},
   "outputs": [],
   "source": []
  },
  {
   "cell_type": "code",
   "execution_count": null,
   "id": "7a275eb3",
   "metadata": {},
   "outputs": [],
   "source": []
  },
  {
   "cell_type": "markdown",
   "id": "0910d60c",
   "metadata": {},
   "source": [
    "# Reduce"
   ]
  },
  {
   "cell_type": "code",
   "execution_count": 51,
   "id": "8177b7bf",
   "metadata": {},
   "outputs": [],
   "source": [
    "def do_sum(x1, x2): \n",
    "    \n",
    "    x1, x2 = x1+1, x2+1\n",
    "    \n",
    "    return x1 + x2\n",
    "    "
   ]
  },
  {
   "cell_type": "code",
   "execution_count": 53,
   "id": "b3241862",
   "metadata": {},
   "outputs": [],
   "source": [
    "l = [i for i in range(11)]"
   ]
  },
  {
   "cell_type": "code",
   "execution_count": 54,
   "id": "d005e79f",
   "metadata": {},
   "outputs": [
    {
     "data": {
      "text/plain": [
       "75"
      ]
     },
     "execution_count": 54,
     "metadata": {},
     "output_type": "execute_result"
    }
   ],
   "source": [
    "from functools import reduce\n",
    "\n",
    "reduce(do_sum,l)"
   ]
  },
  {
   "cell_type": "code",
   "execution_count": 56,
   "id": "d89dce54",
   "metadata": {},
   "outputs": [
    {
     "data": {
      "text/plain": [
       "55"
      ]
     },
     "execution_count": 56,
     "metadata": {},
     "output_type": "execute_result"
    }
   ],
   "source": [
    "reduce(lambda i,j: i+j,l)"
   ]
  },
  {
   "cell_type": "code",
   "execution_count": 63,
   "id": "aac01385",
   "metadata": {},
   "outputs": [],
   "source": [
    "l1=[i for i in range(10)]\n",
    "l2=[i**2 for i in range(11)]"
   ]
  },
  {
   "cell_type": "code",
   "execution_count": 64,
   "id": "06a1c5b2",
   "metadata": {},
   "outputs": [],
   "source": [
    "d = {}"
   ]
  },
  {
   "cell_type": "code",
   "execution_count": 68,
   "id": "238da3a2",
   "metadata": {},
   "outputs": [
    {
     "data": {
      "text/plain": [
       "{0: 0, 1: 1, 2: 4, 3: 9, 4: 16, 5: 25, 6: 36, 7: 49, 8: 64, 9: 81}"
      ]
     },
     "execution_count": 68,
     "metadata": {},
     "output_type": "execute_result"
    }
   ],
   "source": [
    "dict(zip(l1,l2))"
   ]
  },
  {
   "cell_type": "code",
   "execution_count": 69,
   "id": "f20f1c9b",
   "metadata": {},
   "outputs": [
    {
     "data": {
      "text/plain": [
       "{0: 0, 1: 1, 2: 4, 3: 9, 4: 16, 5: 25, 6: 36, 7: 49, 8: 64, 9: 81}"
      ]
     },
     "execution_count": 69,
     "metadata": {},
     "output_type": "execute_result"
    }
   ],
   "source": [
    "{k:v for k,v in zip(l1,l2)}"
   ]
  },
  {
   "cell_type": "code",
   "execution_count": 66,
   "id": "5a15b135",
   "metadata": {},
   "outputs": [
    {
     "data": {
      "text/plain": [
       "{0: 0, 1: 1, 2: 4, 3: 9, 4: 16, 5: 25, 6: 36, 7: 49, 8: 64, 9: 81}"
      ]
     },
     "execution_count": 66,
     "metadata": {},
     "output_type": "execute_result"
    }
   ],
   "source": [
    "d"
   ]
  },
  {
   "cell_type": "code",
   "execution_count": null,
   "id": "6023426e",
   "metadata": {},
   "outputs": [],
   "source": []
  },
  {
   "cell_type": "code",
   "execution_count": null,
   "id": "a9396fd4",
   "metadata": {},
   "outputs": [],
   "source": []
  },
  {
   "cell_type": "code",
   "execution_count": null,
   "id": "fd18f488",
   "metadata": {},
   "outputs": [],
   "source": []
  },
  {
   "cell_type": "code",
   "execution_count": 15,
   "id": "a9cc13b2",
   "metadata": {},
   "outputs": [],
   "source": [
    "def sum_neg(n):\n",
    "    \n",
    "    count = 0\n",
    "    total = 0\n",
    "    for i in n:\n",
    "        \n",
    "        if i>0:\n",
    "            count+=1\n",
    "        else:\n",
    "            total+=i\n",
    "    \n",
    "    return [count,total]"
   ]
  },
  {
   "cell_type": "code",
   "execution_count": 16,
   "id": "a98be54e",
   "metadata": {},
   "outputs": [
    {
     "data": {
      "text/plain": [
       "[10, -65]"
      ]
     },
     "execution_count": 16,
     "metadata": {},
     "output_type": "execute_result"
    }
   ],
   "source": [
    "sum_neg([1,2,3,4,5,6,7,8,9,10,-11,-12,-13,-14,-15])"
   ]
  },
  {
   "cell_type": "code",
   "execution_count": 18,
   "id": "6efc9055",
   "metadata": {},
   "outputs": [
    {
     "data": {
      "text/plain": [
       "[7, -252]"
      ]
     },
     "execution_count": 18,
     "metadata": {},
     "output_type": "execute_result"
    }
   ],
   "source": [
    "sum_neg([92,6,73,-77,81,-90,99,8,-85,34])"
   ]
  },
  {
   "cell_type": "code",
   "execution_count": 19,
   "id": "db164596",
   "metadata": {},
   "outputs": [
    {
     "data": {
      "text/plain": [
       "[2, -105]"
      ]
     },
     "execution_count": 19,
     "metadata": {},
     "output_type": "execute_result"
    }
   ],
   "source": [
    "sum_neg([91,-4,80,-73,-28])"
   ]
  },
  {
   "cell_type": "code",
   "execution_count": null,
   "id": "99c5c4c5",
   "metadata": {},
   "outputs": [],
   "source": []
  },
  {
   "cell_type": "code",
   "execution_count": 27,
   "id": "a1713246",
   "metadata": {},
   "outputs": [],
   "source": [
    "def get_frequencies(data):\n",
    "    \n",
    "    d = {}\n",
    "    \n",
    "    for i in data:\n",
    "        \n",
    "#         if i in d.keys():\n",
    "#             d[i] += 1\n",
    "#         else:\n",
    "#             d[i] = 1\n",
    "\n",
    "        d[i] = data.count(i)\n",
    "            \n",
    "    return d"
   ]
  },
  {
   "cell_type": "code",
   "execution_count": null,
   "id": "ab60d3bf",
   "metadata": {},
   "outputs": [],
   "source": []
  },
  {
   "cell_type": "code",
   "execution_count": 28,
   "id": "09d5737c",
   "metadata": {},
   "outputs": [
    {
     "data": {
      "text/plain": [
       "{'A': 4, 'B': 1}"
      ]
     },
     "execution_count": 28,
     "metadata": {},
     "output_type": "execute_result"
    }
   ],
   "source": [
    "get_frequencies([\"A\",\"B\",\"A\",\"A\",\"A\",])"
   ]
  },
  {
   "cell_type": "code",
   "execution_count": 29,
   "id": "0837e9ea",
   "metadata": {},
   "outputs": [
    {
     "data": {
      "text/plain": [
       "{1: 1, 2: 2, 3: 2}"
      ]
     },
     "execution_count": 29,
     "metadata": {},
     "output_type": "execute_result"
    }
   ],
   "source": [
    "get_frequencies([1,2,3,3,2])"
   ]
  },
  {
   "cell_type": "code",
   "execution_count": 30,
   "id": "87d1e1bb",
   "metadata": {},
   "outputs": [
    {
     "data": {
      "text/plain": [
       "{True: 2, False: 3}"
      ]
     },
     "execution_count": 30,
     "metadata": {},
     "output_type": "execute_result"
    }
   ],
   "source": [
    "get_frequencies([True,False,True,False,False])"
   ]
  },
  {
   "cell_type": "code",
   "execution_count": 31,
   "id": "483e2034",
   "metadata": {},
   "outputs": [
    {
     "data": {
      "text/plain": [
       "{}"
      ]
     },
     "execution_count": 31,
     "metadata": {},
     "output_type": "execute_result"
    }
   ],
   "source": [
    "get_frequencies([])"
   ]
  },
  {
   "cell_type": "code",
   "execution_count": null,
   "id": "57b71102",
   "metadata": {},
   "outputs": [],
   "source": []
  },
  {
   "cell_type": "code",
   "execution_count": null,
   "id": "e4794903",
   "metadata": {},
   "outputs": [],
   "source": []
  },
  {
   "cell_type": "code",
   "execution_count": null,
   "id": "d9b4db41",
   "metadata": {},
   "outputs": [],
   "source": []
  }
 ],
 "metadata": {
  "kernelspec": {
   "display_name": "Python 3 (ipykernel)",
   "language": "python",
   "name": "python3"
  },
  "language_info": {
   "codemirror_mode": {
    "name": "ipython",
    "version": 3
   },
   "file_extension": ".py",
   "mimetype": "text/x-python",
   "name": "python",
   "nbconvert_exporter": "python",
   "pygments_lexer": "ipython3",
   "version": "3.11.0"
  }
 },
 "nbformat": 4,
 "nbformat_minor": 5
}
