{
 "cells": [
  {
   "cell_type": "code",
   "execution_count": 2,
   "id": "c0464d51",
   "metadata": {},
   "outputs": [
    {
     "name": "stdout",
     "output_type": "stream",
     "text": [
      "Enter a number: 5\n",
      "5\n",
      "<class 'int'>\n"
     ]
    }
   ],
   "source": [
    "n = int(input(\"Enter a number: \"))\n",
    "print(n)\n",
    "print(type(n))"
   ]
  },
  {
   "cell_type": "code",
   "execution_count": 9,
   "id": "c3001d1a",
   "metadata": {},
   "outputs": [
    {
     "name": "stdout",
     "output_type": "stream",
     "text": [
      "Enter your age: 18\n",
      "Enter the name of your city: MUMBAI\n",
      "Eligible to vote\n"
     ]
    }
   ],
   "source": [
    "inp_age = int(input(\"Enter your age: \"))\n",
    "inp_city = input('Enter the name of your city: ').lower()\n",
    "\n",
    "if(inp_age >= 18 and inp_city == 'mumbai'):\n",
    "    print(\"Eligible to get a license\")\n",
    "else:\n",
    "    print(\"Not Eligible to get a license\")"
   ]
  },
  {
   "cell_type": "code",
   "execution_count": null,
   "id": "e6136fa1",
   "metadata": {},
   "outputs": [],
   "source": []
  },
  {
   "cell_type": "code",
   "execution_count": 18,
   "id": "4a9dd450",
   "metadata": {},
   "outputs": [
    {
     "name": "stdout",
     "output_type": "stream",
     "text": [
      "Enter your percentage: 60\n",
      "First Class\n"
     ]
    }
   ],
   "source": [
    "inp_percentage = int(input(\"Enter your percentage: \"))\n",
    "\n",
    "if(inp_percentage >= 75 and inp_percentage <=100):\n",
    "    print(\"Distinction\")\n",
    "elif(inp_percentage >=60 and inp_percentage < 75):\n",
    "    print(\"First Class\")\n",
    "elif(inp_percentage >=45 and inp_percentage < 60):\n",
    "    print(\"Second Class\")\n",
    "elif(inp_percentage >=35 and inp_percentage < 45):\n",
    "    print(\"Pass Class\")\n",
    "elif(inp_percentage >=0 and inp_percentage < 35):\n",
    "    print(\"Fail\")\n",
    "else:\n",
    "    print(\"Invalid input\")\n",
    "    "
   ]
  },
  {
   "cell_type": "code",
   "execution_count": null,
   "id": "67a05dda",
   "metadata": {},
   "outputs": [],
   "source": []
  },
  {
   "cell_type": "code",
   "execution_count": 26,
   "id": "e5698c31",
   "metadata": {},
   "outputs": [
    {
     "name": "stdout",
     "output_type": "stream",
     "text": [
      "Enter number of cigars: 60\n",
      "Enter WE for weekend or WD for weekday: WD\n",
      "Party Successful\n"
     ]
    }
   ],
   "source": [
    "inp_cigars = int(input(\"Enter number of cigars: \"))\n",
    "is_day = input(\"Enter WE for weekend or WD for weekday: \")\n",
    "\n",
    "if((inp_cigars >=40 and inp_cigars <=60 and is_day == 'WD') or (inp_cigars >=40 and is_day == 'WE')):\n",
    "    print(\"Party Successful\")\n",
    "else:\n",
    "    print(\"Party Unsuccessful\")\n",
    "    "
   ]
  },
  {
   "cell_type": "code",
   "execution_count": 30,
   "id": "6ceea5a0",
   "metadata": {},
   "outputs": [
    {
     "name": "stdout",
     "output_type": "stream",
     "text": [
      "Enter number of cigars: 65\n",
      "Enter WE for weekend or WD for weekday: WD\n",
      "Party Unsuccessful\n"
     ]
    }
   ],
   "source": [
    "inp_cigars = int(input(\"Enter number of cigars: \"))\n",
    "is_day = input(\"Enter WE for weekend or WD for weekday: \")\n",
    "\n",
    "if(inp_cigars >=40 and inp_cigars <=60 and is_day == 'WD'):\n",
    "    print(\"Party Successful\")\n",
    "elif(inp_cigars >=40 and is_day == 'WE'):\n",
    "    print(\"Party Successful\")\n",
    "else:\n",
    "    print(\"Party Unsuccessful\")\n",
    "    "
   ]
  },
  {
   "cell_type": "code",
   "execution_count": null,
   "id": "976797b8",
   "metadata": {},
   "outputs": [],
   "source": []
  },
  {
   "cell_type": "code",
   "execution_count": 36,
   "id": "98a47788",
   "metadata": {},
   "outputs": [
    {
     "name": "stdout",
     "output_type": "stream",
     "text": [
      "Enter the day 0: Sunday, 1: Monday, 2: Tuesday, 3: Wednesday, 4: Thursday, 5: Friday, 6: Saturday => 0\n",
      "Vacation?: Yes or no: yes\n",
      "No alarm\n"
     ]
    }
   ],
   "source": [
    "inp_day = int(input(\"Enter the day 0: Sunday, 1: Monday, 2: Tuesday, 3: Wednesday, 4: Thursday, 5: Friday, 6: Saturday => \"))\n",
    "is_vacation = input(\"Vacation?: Yes or no: \")\n",
    "\n",
    "if(is_vacation == 'no'):\n",
    "    if(inp_day>=1 and inp_day <=5):\n",
    "        print(\"7:00\")\n",
    "    elif(inp_day == 0 or inp_day == 6):\n",
    "        print(\"10:00\")\n",
    "elif(is_vacation == 'yes'):\n",
    "    if(inp_day>=1 and inp_day <=5):\n",
    "        print(\"10:00\")\n",
    "    elif(inp_day == 0 or inp_day == 6):\n",
    "        print(\"No alarm\")"
   ]
  },
  {
   "cell_type": "code",
   "execution_count": 7,
   "id": "6ea26559",
   "metadata": {},
   "outputs": [
    {
     "name": "stdout",
     "output_type": "stream",
     "text": [
      "Enter the speed: 81\n",
      "Birthday? yes or noyes\n",
      "1\n"
     ]
    }
   ],
   "source": [
    "speed = int(input(\"Enter the speed: \"))\n",
    "is_birthday = input(\"Birthday? yes or no: \")\n",
    "\n",
    "if(is_birthday=='yes'):\n",
    "    if(speed<=60+5):\n",
    "        print(\"no ticket\")\n",
    "    elif(speed>=61+5 and speed <=80+5):\n",
    "        print(\"small ticket\")\n",
    "    else:\n",
    "        print(\"big ticket\")\n",
    "elif(is_birthday=='no'):\n",
    "    if(speed<=60):\n",
    "        print(\"no ticket\")\n",
    "    elif(speed>=61 and speed <=80):\n",
    "        print(\"small ticket\")\n",
    "    else:\n",
    "        print(\"big ticket\")"
   ]
  },
  {
   "cell_type": "code",
   "execution_count": 13,
   "id": "b49b2995",
   "metadata": {},
   "outputs": [
    {
     "ename": "SyntaxError",
     "evalue": "invalid syntax (735692077.py, line 2)",
     "output_type": "error",
     "traceback": [
      "\u001b[1;36m  Cell \u001b[1;32mIn [13], line 2\u001b[1;36m\u001b[0m\n\u001b[1;33m    if((abs(a-b)<=1 or abs(a-c)<=1) and (abs(a-b)>1 or abs(a-c)>1):\u001b[0m\n\u001b[1;37m                                                                  ^\u001b[0m\n\u001b[1;31mSyntaxError\u001b[0m\u001b[1;31m:\u001b[0m invalid syntax\n"
     ]
    }
   ],
   "source": [
    "def close_far(a, b, c):\n",
    "    if((abs(a-b)<=1 or abs(a-c)<=1) and (abs(a-b)>1 or abs(a-c)>1):\n",
    "        return True\n",
    "    else:\n",
    "        return False\n"
   ]
  },
  {
   "cell_type": "code",
   "execution_count": 35,
   "id": "6a2883e1",
   "metadata": {},
   "outputs": [
    {
     "name": "stdout",
     "output_type": "stream",
     "text": [
      "Enter a number: 11\n",
      "1: True or 0: False: 0\n",
      "False\n",
      "False\n"
     ]
    }
   ],
   "source": [
    "inp_num = int(input(\"Enter a number: \"))\n",
    "is_outside = bool(int(input(\"1: True or 0: False: \")))\n",
    "print(is_outside)\n",
    "\n",
    "def func(inp_num, is_outside):\n",
    "    if(is_outside):\n",
    "        if(inp_num<=1 or inp_num>=10):\n",
    "            return True\n",
    "        else:\n",
    "            return False\n",
    "    else:\n",
    "        if(inp_num>=1 and inp_num<=10):\n",
    "            print('Hi')\n",
    "            return True\n",
    "        else:\n",
    "            return False\n",
    "\n",
    "print(func(inp_num, is_outside))\n"
   ]
  },
  {
   "cell_type": "code",
   "execution_count": 41,
   "id": "ddbf9b0a",
   "metadata": {},
   "outputs": [
    {
     "name": "stdout",
     "output_type": "stream",
     "text": [
      "Enter you style from 0 - 10: 5\n",
      "Enter date style from 0 - 10: 1\n",
      "0 - no\n"
     ]
    }
   ],
   "source": [
    "you = int(input(\"Enter you style from 0 - 10: \"))\n",
    "date = int(input(\"Enter date style from 0 - 10: \"))\n",
    "\n",
    "if(you<=2 or date <=2):\n",
    "    print(\"0 - no\")\n",
    "elif(you>=8 or date>=8):\n",
    "    print(\"2 - yes\")\n",
    "else:\n",
    "    print(\"1 - maybe\")"
   ]
  },
  {
   "cell_type": "code",
   "execution_count": null,
   "id": "2c291a0b",
   "metadata": {},
   "outputs": [],
   "source": []
  },
  {
   "cell_type": "code",
   "execution_count": 53,
   "id": "5eea67af",
   "metadata": {},
   "outputs": [],
   "source": [
    "def make_chocolate(small, big, goal):\n",
    "    \n",
    "    remainder = goal%5\n",
    "    quotient = goal//5\n",
    "    bigC = big*5\n",
    "    \n",
    "    if(quotient-big==1):\n",
    "        if(remainder==small):\n",
    "            return small\n",
    "        elif(remainder<small):\n",
    "            if(remainder==0):\n",
    "                return -1\n",
    "            else:\n",
    "                return remainder\n",
    "        else:\n",
    "            return -1\n",
    "    elif(big>=1 or quotient == big):\n",
    "        if(remainder==small):\n",
    "            return small\n",
    "        elif(remainder<small):\n",
    "            return remainder\n",
    "        else:\n",
    "            return -1\n",
    "    else:\n",
    "        return -1"
   ]
  },
  {
   "cell_type": "code",
   "execution_count": 54,
   "id": "6910fb3f",
   "metadata": {},
   "outputs": [
    {
     "name": "stdout",
     "output_type": "stream",
     "text": [
      "True\n",
      "False\n",
      "0\n",
      "True\n",
      "True\n",
      "True\n",
      "True\n",
      "True\n",
      "True\n",
      "True\n",
      "True\n",
      "True\n",
      "True\n",
      "False\n",
      "False\n",
      "False\n",
      "False\n",
      "True\n",
      "True\n",
      "True\n",
      "False\n",
      "False\n",
      "False\n",
      "False\n",
      "True\n"
     ]
    }
   ],
   "source": [
    "print(make_chocolate(4, 1, 9) == 4)\n",
    "print(make_chocolate(4, 1, 10) == -1)\n",
    "print(make_chocolate(4, 1, 10))\n",
    "print(make_chocolate(4, 1, 7) == 2)\n",
    "print(make_chocolate(6, 2, 7) == 2)\n",
    "print(make_chocolate(4, 1, 5) == 0)\n",
    "print(make_chocolate(4, 1, 4) == 4)\n",
    "print(make_chocolate(5, 4, 9) == 4)\n",
    "print(make_chocolate(9, 3, 18) == 3)\n",
    "print(make_chocolate(3, 1, 9) == -1)\n",
    "print(make_chocolate(1, 2, 7) == -1)\n",
    "print(make_chocolate(1, 2, 6) == 1)\n",
    "print(make_chocolate(1, 2, 5) == 0)\n",
    "print(make_chocolate(6, 1, 10) == 5)\n",
    "print(make_chocolate(6, 1, 11) == 6)\n",
    "print(make_chocolate(6, 1, 12) == -1)\n",
    "print(make_chocolate(6, 1, 13) == -1)\n",
    "print(make_chocolate(6, 2, 10) == 0)\n",
    "print(make_chocolate(6, 2, 11) == 1)\n",
    "print(make_chocolate(6, 2, 12) == 2)\n",
    "print(make_chocolate(60, 100, 550) == 50)\n",
    "print(make_chocolate(1000, 1000000, 5000006) == 6)\n",
    "print(make_chocolate(7, 1, 12) == 7)\n",
    "print(make_chocolate(7, 1, 13) == -1)\n",
    "print(make_chocolate(7, 2, 13) == 3)"
   ]
  },
  {
   "cell_type": "code",
   "execution_count": null,
   "id": "67dfb046",
   "metadata": {},
   "outputs": [],
   "source": []
  },
  {
   "cell_type": "code",
   "execution_count": null,
   "id": "4114666a",
   "metadata": {},
   "outputs": [],
   "source": []
  }
 ],
 "metadata": {
  "kernelspec": {
   "display_name": "Python 3 (ipykernel)",
   "language": "python",
   "name": "python3"
  },
  "language_info": {
   "codemirror_mode": {
    "name": "ipython",
    "version": 3
   },
   "file_extension": ".py",
   "mimetype": "text/x-python",
   "name": "python",
   "nbconvert_exporter": "python",
   "pygments_lexer": "ipython3",
   "version": "3.11.0"
  }
 },
 "nbformat": 4,
 "nbformat_minor": 5
}
