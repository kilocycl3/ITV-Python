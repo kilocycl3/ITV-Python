{
 "cells": [
  {
   "cell_type": "markdown",
   "id": "114534cf",
   "metadata": {},
   "source": [
    "# OOPs (Object Oriented Programming)"
   ]
  },
  {
   "cell_type": "markdown",
   "id": "f034ff24",
   "metadata": {},
   "source": [
    "# Classes\n",
    "\n",
    "**Blueprint of the program which contains attributes and functions/methods**"
   ]
  },
  {
   "cell_type": "code",
   "execution_count": 34,
   "id": "8f012584",
   "metadata": {},
   "outputs": [],
   "source": [
    "class Program:\n",
    "    \n",
    "    def __init__(self,name,age):\n",
    "        self.name = name\n",
    "        self.age = age\n",
    "    \n",
    "    def disp(self):\n",
    "        \n",
    "        print(self.name,self.age)"
   ]
  },
  {
   "cell_type": "code",
   "execution_count": 35,
   "id": "56f58715",
   "metadata": {},
   "outputs": [],
   "source": [
    "p = Program(age = 23,name = 'Amit')"
   ]
  },
  {
   "cell_type": "code",
   "execution_count": 36,
   "id": "d73a0a50",
   "metadata": {},
   "outputs": [
    {
     "name": "stdout",
     "output_type": "stream",
     "text": [
      "Amit 23\n"
     ]
    }
   ],
   "source": [
    "p.disp()"
   ]
  },
  {
   "cell_type": "markdown",
   "id": "4a87482a",
   "metadata": {},
   "source": [
    "# Object\n",
    "**It is an instance of the class**\n",
    "\n",
    "**It has property(attributes/variables) and behaviour(functions/methods)**"
   ]
  },
  {
   "cell_type": "code",
   "execution_count": null,
   "id": "ebb80eb1",
   "metadata": {},
   "outputs": [],
   "source": []
  },
  {
   "cell_type": "code",
   "execution_count": 69,
   "id": "1780ce94",
   "metadata": {},
   "outputs": [],
   "source": [
    "class Employee:\n",
    "    \n",
    "    def  __init__(self, firstname, lastname, salary, designation, location):\n",
    "        \n",
    "#         self.fname = firstname     If you want to change the variable in which you're going to store the value.\n",
    "        \n",
    "        self.firstname = firstname\n",
    "        self.lastname = lastname\n",
    "        self.salary = salary\n",
    "        self.designation = designation\n",
    "        self.location = location\n",
    "        \n",
    "    def display_info(self):\n",
    "        \n",
    "        print(f'First Name: {self.firstname}\\nLast Name: {self.lastname}\\nSalary: {self.salary}\\nDesignation: {self.designation}\\nLocation: {self.location}')\n",
    "        \n",
    "        "
   ]
  },
  {
   "cell_type": "code",
   "execution_count": 70,
   "id": "f1423cac",
   "metadata": {},
   "outputs": [],
   "source": [
    "emp1 = Employee('Amit','Sharma',50000,'SDE','Mumbai')"
   ]
  },
  {
   "cell_type": "code",
   "execution_count": 71,
   "id": "5442cbc7",
   "metadata": {},
   "outputs": [
    {
     "name": "stdout",
     "output_type": "stream",
     "text": [
      "First Name: Amit\n",
      "Last Name: Sharma\n",
      "Salary: 50000\n",
      "Designation: SDE\n",
      "Location: Mumbai\n"
     ]
    }
   ],
   "source": [
    "emp1.display_info()"
   ]
  },
  {
   "cell_type": "markdown",
   "id": "f70731c3",
   "metadata": {},
   "source": [
    "## Class Variable\n",
    "\n",
    "**Variable declared inside the class but outside the constructor or methods**\n",
    "\n",
    "### classmethod decorator in used to change the values of the class variable to change it across all the new instances created since it is not good coding practice by directly change the values in the blueprint of the program\n",
    "\n"
   ]
  },
  {
   "cell_type": "code",
   "execution_count": 78,
   "id": "6de0ae89",
   "metadata": {},
   "outputs": [
    {
     "name": "stdout",
     "output_type": "stream",
     "text": [
      "4\n",
      "10\n",
      "10\n"
     ]
    }
   ],
   "source": [
    "n = 1234\n",
    "s = '1234'\n",
    "l = [1,2,3,4]\n",
    "t = (1,2,3,4)\n",
    "\n",
    "\n",
    "# print(sum(n))\n",
    "print((len(s)))\n",
    "print(sum(l))\n",
    "print(sum(t))"
   ]
  },
  {
   "cell_type": "code",
   "execution_count": null,
   "id": "57dc0baf",
   "metadata": {},
   "outputs": [],
   "source": []
  }
 ],
 "metadata": {
  "kernelspec": {
   "display_name": "archive",
   "language": "python",
   "name": "archive"
  },
  "language_info": {
   "codemirror_mode": {
    "name": "ipython",
    "version": 3
   },
   "file_extension": ".py",
   "mimetype": "text/x-python",
   "name": "python",
   "nbconvert_exporter": "python",
   "pygments_lexer": "ipython3",
   "version": "3.11.1"
  }
 },
 "nbformat": 4,
 "nbformat_minor": 5
}
