{
 "cells": [
  {
   "cell_type": "markdown",
   "id": "3a108592",
   "metadata": {},
   "source": [
    "\n",
    "# Database Connectivity"
   ]
  },
  {
   "cell_type": "code",
   "execution_count": 1,
   "id": "f194fa22",
   "metadata": {},
   "outputs": [],
   "source": [
    "import mysql.connector\n",
    "from mysql.connector import Error"
   ]
  },
  {
   "cell_type": "code",
   "execution_count": 2,
   "id": "bf4ac6a8",
   "metadata": {},
   "outputs": [],
   "source": [
    "def create_connection():\n",
    "    \n",
    "    \n",
    "    try:\n",
    "        con = mysql.connector.connect(host='localhost',username='root',password='pass',database='db_python')\n",
    "\n",
    "        if con.is_connected():\n",
    "            print(\"Database connected\")\n",
    "            return con\n",
    "\n",
    "    except Error as e:\n",
    "        print(\"Exception occurred\",e)\n",
    "\n",
    "\n",
    "def close_connection(con):\n",
    "    \n",
    "    con.close()\n",
    "    print(\"Database Disconnected\")\n",
    "# finally:\n",
    "#     if con.is_connected():\n",
    "#         con.close()"
   ]
  },
  {
   "cell_type": "markdown",
   "id": "aa2455c8",
   "metadata": {},
   "source": [
    "# If error occurred"
   ]
  },
  {
   "cell_type": "raw",
   "id": "a8fdadde",
   "metadata": {},
   "source": [
    "try:\n",
    "    con = mysql.connector.connect(host='localhost',username='root',password='pass',database='random_db')\n",
    "    \n",
    "    if con.is_connected():\n",
    "        print(\"Database connected\")\n",
    "    \n",
    "except Error as e:\n",
    "    print(\"Exception occurred\",e)\n",
    "    \n",
    "finally:\n",
    "    if con.is_connected():\n",
    "        con.close()"
   ]
  },
  {
   "cell_type": "code",
   "execution_count": null,
   "id": "63a79620",
   "metadata": {},
   "outputs": [],
   "source": []
  },
  {
   "cell_type": "markdown",
   "id": "1a49d632",
   "metadata": {},
   "source": [
    "# Create table"
   ]
  },
  {
   "cell_type": "code",
   "execution_count": null,
   "id": "3e4e3116",
   "metadata": {},
   "outputs": [],
   "source": [
    "con = create_connection()\n",
    "\n",
    "if con.is_connected():\n",
    "    cur = con.cursor()\n",
    "\n",
    "    create_table = '''  Create table student(\n",
    "                        id int not null,\n",
    "                        name varchar(255) not null,\n",
    "                        course varchar(255) not null,\n",
    "                        admission_date date not null,\n",
    "                        primary key(id)\n",
    "                        )'''\n",
    "\n",
    "    # create_table = '''drop table if exists student;\n",
    "    #                     Create table student(\n",
    "    #                     id int not null,\n",
    "    #                     name varchar(255) not null,\n",
    "    #                     course varchar(255) not null,\n",
    "    #                     admission_date date not null,\n",
    "    #                     primary key(id)\n",
    "    #                     )'''\n",
    "\n",
    "    try:\n",
    "        cur.execute(create_table)\n",
    "        print(\"Table created\")\n",
    "        close_connection(con)\n",
    "\n",
    "    except Error as e:\n",
    "        print(\"Exception occurred\",e)"
   ]
  },
  {
   "cell_type": "code",
   "execution_count": null,
   "id": "855067ea",
   "metadata": {},
   "outputs": [],
   "source": []
  },
  {
   "cell_type": "markdown",
   "id": "526bfba8",
   "metadata": {},
   "source": [
    "# Inserting into table"
   ]
  },
  {
   "cell_type": "code",
   "execution_count": null,
   "id": "c6e2d263",
   "metadata": {},
   "outputs": [],
   "source": [
    "con = create_connection()\n",
    "\n",
    "cur = con.cursor()\n",
    "\n",
    "insert_one = '''insert into student(id,name,course,admission_date)\n",
    "                values (1,'Amit',25000,'2022/12/27');\n",
    "                '''\n",
    "\n",
    "try:\n",
    "    cur.execute(insert_one)\n",
    "    con.commit()\n",
    "    print(\"Data inserted\")\n",
    "\n",
    "except Error as e:\n",
    "    print(\"Exception occurred\",e)\n",
    "\n"
   ]
  },
  {
   "cell_type": "code",
   "execution_count": null,
   "id": "14737eac",
   "metadata": {},
   "outputs": [],
   "source": []
  },
  {
   "cell_type": "markdown",
   "id": "216495fa",
   "metadata": {},
   "source": [
    "# Inserting multiple data into table"
   ]
  },
  {
   "cell_type": "code",
   "execution_count": null,
   "id": "b736bdc1",
   "metadata": {},
   "outputs": [],
   "source": [
    "con = create_connection()\n",
    "\n",
    "cur = con.cursor()\n",
    "\n",
    "insert_many = '''insert into student(id,name,course,admission_date)\n",
    "                values (%s,%s,%s,%s);\n",
    "                '''\n",
    "\n",
    "data = [\n",
    "    (2,'Arnav','Machine Learning','2022/12/5'),\n",
    "    (3,'Aman','Artificial Intelligence','2022/12/10'),\n",
    "    (4,'Sudhanshu','SQL Developer','2022/12/15'),\n",
    "]\n",
    "\n",
    "try:\n",
    "    cur.executemany(insert_many,data)\n",
    "    con.commit()\n",
    "    print(\"Data inserted\")\n",
    "\n",
    "except Error as e:\n",
    "    print(\"Exception occurred\",e)\n",
    "\n"
   ]
  },
  {
   "cell_type": "code",
   "execution_count": null,
   "id": "6d524f31",
   "metadata": {},
   "outputs": [],
   "source": []
  },
  {
   "cell_type": "markdown",
   "id": "6193cc19",
   "metadata": {},
   "source": [
    "# Retrieve data from database\n",
    "\n",
    "### cursor.fetchall() -> Retrieve all results -> Returns list of tuples\n",
    "\n",
    "### cursor.fetchmany() -> Retrieve no of records specified **If specified none then returns only one record** -> Returns list of tuples"
   ]
  },
  {
   "cell_type": "markdown",
   "id": "dac90009",
   "metadata": {},
   "source": [
    "## fetchall() example"
   ]
  },
  {
   "cell_type": "code",
   "execution_count": null,
   "id": "0a8c5440",
   "metadata": {},
   "outputs": [],
   "source": [
    "con = create_connection()\n",
    "\n",
    "cur = con.cursor()\n",
    "\n",
    "retrieve_query = '''Select * from student;'''\n",
    "\n",
    "cur.execute(retrieve_query)\n",
    "\n",
    "result = cur.fetchall()\n",
    "\n",
    "for record in result:\n",
    "    print(f'id: {record[0]}, name: {record[1]}, course: {record[2]}, date: {record[3]}')\n",
    "    \n",
    "close_connection(con)"
   ]
  },
  {
   "cell_type": "markdown",
   "id": "67dfe36b",
   "metadata": {},
   "source": [
    "## fetchmany() example"
   ]
  },
  {
   "cell_type": "code",
   "execution_count": null,
   "id": "27013a84",
   "metadata": {},
   "outputs": [],
   "source": [
    "con = create_connection()\n",
    "\n",
    "cur = con.cursor()\n",
    "\n",
    "retrieve_query = '''Select * from student'''\n",
    "\n",
    "cur.execute(retrieve_query)\n",
    "\n",
    "result = cur.fetchmany(2)\n",
    "\n",
    "print(result)\n",
    "\n",
    "close_connection(con)"
   ]
  },
  {
   "cell_type": "code",
   "execution_count": null,
   "id": "3474c3f0",
   "metadata": {},
   "outputs": [],
   "source": []
  },
  {
   "cell_type": "markdown",
   "id": "1329b8b9",
   "metadata": {},
   "source": [
    "# Update "
   ]
  },
  {
   "cell_type": "code",
   "execution_count": 3,
   "id": "d3ebac4f",
   "metadata": {},
   "outputs": [
    {
     "name": "stdout",
     "output_type": "stream",
     "text": [
      "Database connected\n",
      "1 record/s updated\n"
     ]
    }
   ],
   "source": [
    "con = create_connection()\n",
    "\n",
    "cur = con.cursor()\n",
    "\n",
    "update_query = '''Update student set course = \"Full Stack Developer\" where id = 1'''\n",
    "\n",
    "cur.execute(update_query)\n",
    "con.commit()\n",
    "print(f'{cur.rowcount} record/s updated')"
   ]
  },
  {
   "cell_type": "code",
   "execution_count": null,
   "id": "98266cb9",
   "metadata": {},
   "outputs": [],
   "source": []
  },
  {
   "cell_type": "markdown",
   "id": "f72a9789",
   "metadata": {},
   "source": [
    "# Delete"
   ]
  },
  {
   "cell_type": "code",
   "execution_count": 4,
   "id": "b6cb712c",
   "metadata": {},
   "outputs": [
    {
     "name": "stdout",
     "output_type": "stream",
     "text": [
      "1 record/s deleted\n"
     ]
    }
   ],
   "source": [
    "delete_query = 'delete from student where id = 5'\n",
    "\n",
    "cur.execute(delete_query)\n",
    "con.commit()\n",
    "print(f'{cur.rowcount} record/s deleted')"
   ]
  },
  {
   "cell_type": "code",
   "execution_count": null,
   "id": "ac552945",
   "metadata": {},
   "outputs": [],
   "source": []
  }
 ],
 "metadata": {
  "kernelspec": {
   "display_name": "archive",
   "language": "python",
   "name": "archive"
  },
  "language_info": {
   "codemirror_mode": {
    "name": "ipython",
    "version": 3
   },
   "file_extension": ".py",
   "mimetype": "text/x-python",
   "name": "python",
   "nbconvert_exporter": "python",
   "pygments_lexer": "ipython3",
   "version": "3.11.1"
  }
 },
 "nbformat": 4,
 "nbformat_minor": 5
}
