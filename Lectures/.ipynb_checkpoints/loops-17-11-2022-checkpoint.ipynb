{
 "cells": [
  {
   "cell_type": "markdown",
   "id": "35e3cd80",
   "metadata": {},
   "source": [
    "# Loops in python\n",
    "\n",
    "## 1. For:\n",
    "    \n",
    "   # Decrementing Loops Loops checks condition of the iteration before performing the current iteration and runs the loop if it is true"
   ]
  },
  {
   "cell_type": "code",
   "execution_count": 27,
   "id": "95e5461e",
   "metadata": {},
   "outputs": [
    {
     "name": "stdout",
     "output_type": "stream",
     "text": [
      "f\n",
      "r\n",
      "u\n",
      "i\n",
      "t\n"
     ]
    }
   ],
   "source": [
    "for i in \"fruit\":\n",
    "    print(i)"
   ]
  },
  {
   "cell_type": "code",
   "execution_count": 28,
   "id": "384d2a23",
   "metadata": {},
   "outputs": [
    {
     "name": "stdout",
     "output_type": "stream",
     "text": [
      "a\n",
      "p\n",
      "p\n",
      "l\n",
      "e\n"
     ]
    }
   ],
   "source": [
    "f = \"apple\"\n",
    "\n",
    "for i in f:\n",
    "    print(i)\n"
   ]
  },
  {
   "cell_type": "code",
   "execution_count": 37,
   "id": "c256fdc6",
   "metadata": {},
   "outputs": [],
   "source": [
    "f = \"pineapple\""
   ]
  },
  {
   "cell_type": "code",
   "execution_count": 49,
   "id": "cf345f02",
   "metadata": {},
   "outputs": [
    {
     "name": "stdout",
     "output_type": "stream",
     "text": [
      "i\n",
      "e\n",
      "a\n",
      "e\n"
     ]
    }
   ],
   "source": [
    "for i in range(len(f)):\n",
    "    if(f[i]=='a' or f[i]=='e' or f[i]=='i' or f[i]=='o' or f[i]=='u'):\n",
    "        print(f[i])"
   ]
  },
  {
   "cell_type": "code",
   "execution_count": 56,
   "id": "ff094bc4",
   "metadata": {},
   "outputs": [
    {
     "name": "stdout",
     "output_type": "stream",
     "text": [
      "i\n",
      "e\n",
      "a\n",
      "e\n"
     ]
    }
   ],
   "source": [
    "for i in f:\n",
    "    if(i=='a' or i=='e' \n",
    "       or i=='i' or i=='o' or i=='u'):\n",
    "        print(i)"
   ]
  },
  {
   "cell_type": "code",
   "execution_count": 62,
   "id": "d644b97f",
   "metadata": {},
   "outputs": [
    {
     "data": {
      "text/plain": [
       "['Amit', 0, 10.01]"
      ]
     },
     "execution_count": 62,
     "metadata": {},
     "output_type": "execute_result"
    }
   ],
   "source": [
    "s = ['Amit',0,10.01]\n",
    "s"
   ]
  },
  {
   "cell_type": "code",
   "execution_count": 68,
   "id": "3b17ad53",
   "metadata": {},
   "outputs": [
    {
     "name": "stdout",
     "output_type": "stream",
     "text": [
      "A\n",
      "m\n",
      "i\n",
      "t\n",
      "0\n",
      "10.01\n"
     ]
    }
   ],
   "source": [
    "for i in s:\n",
    "    if(type(i) == str):\n",
    "        for j in i:\n",
    "            print(j)\n",
    "    else:\n",
    "        print(i)"
   ]
  },
  {
   "cell_type": "code",
   "execution_count": 76,
   "id": "e279abe0",
   "metadata": {},
   "outputs": [
    {
     "name": "stdout",
     "output_type": "stream",
     "text": [
      "[1, 4, 9, 16, 25, 36, 49, 64, 81, 100]\n"
     ]
    }
   ],
   "source": [
    "square = []\n",
    "\n",
    "for i in range(1,11):\n",
    "    square.append(i**2)\n",
    "    \n",
    "print(square)"
   ]
  },
  {
   "cell_type": "code",
   "execution_count": null,
   "id": "a43f9c17",
   "metadata": {},
   "outputs": [],
   "source": []
  },
  {
   "cell_type": "code",
   "execution_count": 78,
   "id": "265063fd",
   "metadata": {},
   "outputs": [
    {
     "name": "stdout",
     "output_type": "stream",
     "text": [
      "[2, 4, 6, 8, 10, 12, 14, 16, 18, 20, 22, 24, 26, 28, 30, 32, 34, 36, 38, 40, 42, 44, 46, 48, 50, 52, 54, 56, 58, 60, 62, 64, 66, 68, 70, 72, 74, 76, 78, 80, 82, 84, 86, 88, 90, 92, 94, 96, 98, 100]\n"
     ]
    }
   ],
   "source": [
    "even = []\n",
    "\n",
    "for i in range(1,101):\n",
    "    \n",
    "    if i%2==0:\n",
    "        even.append(i)\n",
    "    \n",
    "print(even)"
   ]
  },
  {
   "cell_type": "code",
   "execution_count": null,
   "id": "72907895",
   "metadata": {},
   "outputs": [],
   "source": []
  },
  {
   "cell_type": "code",
   "execution_count": 100,
   "id": "d04416a3",
   "metadata": {},
   "outputs": [
    {
     "name": "stdout",
     "output_type": "stream",
     "text": [
      "Enter no of subject/s: 3\n",
      "Enter the marks: 33\n",
      "Enter the marks: 3\n",
      "Enter the marks: 64\n",
      "Average of the marks:  33.33\n"
     ]
    }
   ],
   "source": [
    "marks = []\n",
    "n = int(input(\"Enter no of subject/s: \"))\n",
    "\n",
    "for i in range(n):\n",
    "    m = int(input(\"Enter the marks: \"))\n",
    "    marks.append(m)\n",
    "    \n",
    "total = 0\n",
    "\n",
    "for i in marks:\n",
    "    total = total + i\n",
    "    \n",
    "print(f\"Average of the marks: {total/n}\")"
   ]
  },
  {
   "cell_type": "code",
   "execution_count": null,
   "id": "a2c12367",
   "metadata": {},
   "outputs": [],
   "source": []
  },
  {
   "cell_type": "code",
   "execution_count": 18,
   "id": "de397e26",
   "metadata": {},
   "outputs": [],
   "source": [
    "# n = int(input(\"Enter a number\"))\n",
    "# fact = i\n",
    "# for i in range(n, 0, -1):\n",
    "    \n",
    "#     fact *= i\n",
    "    \n",
    "# print(fact)"
   ]
  },
  {
   "cell_type": "code",
   "execution_count": null,
   "id": "f61982f4",
   "metadata": {},
   "outputs": [],
   "source": []
  },
  {
   "cell_type": "code",
   "execution_count": 26,
   "id": "be213524",
   "metadata": {},
   "outputs": [
    {
     "name": "stdout",
     "output_type": "stream",
     "text": [
      "Enter no of keys: 1\n",
      "Enter no of values: 1\n",
      "Enter the key: Age\n",
      "Enter the value: 23\n",
      "{'Age': '23'}\n"
     ]
    }
   ],
   "source": [
    "n = {}\n",
    "\n",
    "k = int(input(\"Enter no of keys: \"))\n",
    "v = int(input(\"Enter no of values: \"))\n",
    "\n",
    "if k==v:\n",
    "    \n",
    "    for i in range(k):\n",
    "        key = input(\"Enter the key: \")\n",
    "        value = input(\"Enter the value: \")\n",
    "        \n",
    "        n[key] = value\n",
    "        \n",
    "else:\n",
    "    print(\"Keys and values count should be same\")\n",
    "\n",
    "print(n)"
   ]
  },
  {
   "cell_type": "code",
   "execution_count": 25,
   "id": "9a2d91f2",
   "metadata": {},
   "outputs": [
    {
     "data": {
      "text/plain": [
       "dict_keys"
      ]
     },
     "execution_count": 25,
     "metadata": {},
     "output_type": "execute_result"
    }
   ],
   "source": [
    "n.update()"
   ]
  },
  {
   "cell_type": "code",
   "execution_count": 49,
   "id": "f20fcd5e",
   "metadata": {},
   "outputs": [
    {
     "name": "stdout",
     "output_type": "stream",
     "text": [
      "Enter a string: apple\n",
      "{'a': 1, 'p': 2, 'l': 1, 'e': 1}\n"
     ]
    }
   ],
   "source": [
    "d = {}\n",
    "\n",
    "s = input(\"Enter a string: \")\n",
    "\n",
    "# My Method\n",
    " \n",
    "for i in s:\n",
    "    if i in d.keys():\n",
    "        d[i] += 1\n",
    "    else:\n",
    "        d[i]=1\n",
    "\n",
    "# Inbuilt Functions method\n",
    "\n",
    "# for i in s:\n",
    "#     d[i] = s.count(i)\n",
    "\n",
    "    \n",
    "print(d)"
   ]
  },
  {
   "cell_type": "code",
   "execution_count": 52,
   "id": "8a34d48e",
   "metadata": {},
   "outputs": [
    {
     "name": "stdout",
     "output_type": "stream",
     "text": [
      "{1: 1, 2: 4, 3: 9, 4: 16, 5: 25, 6: 36, 7: 49, 8: 64, 9: 81, 10: 100}\n"
     ]
    }
   ],
   "source": [
    "d = {}\n",
    "\n",
    "for i in range(1,11):\n",
    "    d[i] = i**2\n",
    "    \n",
    "print(d)"
   ]
  },
  {
   "cell_type": "code",
   "execution_count": null,
   "id": "eda487de",
   "metadata": {},
   "outputs": [],
   "source": []
  },
  {
   "cell_type": "code",
   "execution_count": 65,
   "id": "024b0684",
   "metadata": {},
   "outputs": [
    {
     "name": "stdout",
     "output_type": "stream",
     "text": [
      "{2, 4, 6, 8, 10, 12, 14, 16, 18, 20}\n"
     ]
    }
   ],
   "source": [
    "set_even = set()\n",
    "\n",
    "for i in range(1,21):\n",
    "    if i%2 == 0:\n",
    "        set_even.add(i)\n",
    "        \n",
    "print(s_e)"
   ]
  },
  {
   "cell_type": "code",
   "execution_count": null,
   "id": "610d1e13",
   "metadata": {},
   "outputs": [],
   "source": []
  },
  {
   "cell_type": "code",
   "execution_count": 4,
   "id": "8eda6245",
   "metadata": {},
   "outputs": [
    {
     "name": "stdout",
     "output_type": "stream",
     "text": [
      "55\n"
     ]
    }
   ],
   "source": [
    "n = 1\n",
    "s = 0\n",
    "while(n<=10):\n",
    "    s+=n\n",
    "    n+=1\n",
    "    \n",
    "print(s)"
   ]
  },
  {
   "cell_type": "code",
   "execution_count": null,
   "id": "ef08eeed",
   "metadata": {},
   "outputs": [],
   "source": []
  },
  {
   "cell_type": "code",
   "execution_count": null,
   "id": "d6b99861",
   "metadata": {},
   "outputs": [],
   "source": [
    "s = input(\"Enter the email: \")\n",
    "\n",
    "# for i in s:\n",
    "    \n",
    "#     if i == '@':\n",
    "#         break\n",
    "#     elif(i.isaplha()):\n",
    "#         print(i,end='')\n",
    "\n",
    "for i in s:\n",
    "    \n",
    "    if (i == '@'):\n",
    "        break\n",
    "    elif((i>='a' and i<='z') or (i>='A' and i<='Z')):\n",
    "        print(i,end='')"
   ]
  },
  {
   "cell_type": "code",
   "execution_count": null,
   "id": "4d6fc846",
   "metadata": {},
   "outputs": [],
   "source": []
  },
  {
   "cell_type": "code",
   "execution_count": 12,
   "id": "5b7ae93f",
   "metadata": {},
   "outputs": [
    {
     "name": "stdout",
     "output_type": "stream",
     "text": [
      "1\t2\t3\t4\t5\t6\t7\t8\t9\t10\t\n",
      "2\t4\t6\t8\t10\t12\t14\t16\t18\t20\t\n",
      "3\t6\t9\t12\t15\t18\t21\t24\t27\t30\t\n",
      "4\t8\t12\t16\t20\t24\t28\t32\t36\t40\t\n",
      "5\t10\t15\t20\t25\t30\t35\t40\t45\t50\t\n",
      "6\t12\t18\t24\t30\t36\t42\t48\t54\t60\t\n",
      "7\t14\t21\t28\t35\t42\t49\t56\t63\t70\t\n",
      "8\t16\t24\t32\t40\t48\t56\t64\t72\t80\t\n",
      "9\t18\t27\t36\t45\t54\t63\t72\t81\t90\t\n",
      "10\t20\t30\t40\t50\t60\t70\t80\t90\t100\t\n"
     ]
    }
   ],
   "source": [
    "for i in range(1,11):\n",
    "    for j in range(1,11):\n",
    "        print(j*i,end='\\t')\n",
    "        \n",
    "    print()"
   ]
  },
  {
   "cell_type": "code",
   "execution_count": null,
   "id": "039edb8a",
   "metadata": {},
   "outputs": [],
   "source": []
  },
  {
   "cell_type": "code",
   "execution_count": 29,
   "id": "e89c1732",
   "metadata": {},
   "outputs": [
    {
     "name": "stdout",
     "output_type": "stream",
     "text": [
      "*\n",
      "**\n",
      "***\n",
      "****\n",
      "*****\n"
     ]
    }
   ],
   "source": [
    "for i in range(5):\n",
    "    for j in range(i+1):\n",
    "        print('*',end='')\n",
    "    print()\n"
   ]
  },
  {
   "cell_type": "code",
   "execution_count": 31,
   "id": "9a53dc77",
   "metadata": {},
   "outputs": [
    {
     "name": "stdout",
     "output_type": "stream",
     "text": [
      "*****\n",
      "****\n",
      "***\n",
      "**\n",
      "*\n"
     ]
    }
   ],
   "source": [
    "for i in range(5,0,-1):\n",
    "    for j in range(i):\n",
    "        print('*',end='')\n",
    "    print()\n"
   ]
  },
  {
   "cell_type": "code",
   "execution_count": null,
   "id": "ecb042cb",
   "metadata": {},
   "outputs": [],
   "source": []
  },
  {
   "cell_type": "code",
   "execution_count": 36,
   "id": "a9a6089f",
   "metadata": {},
   "outputs": [
    {
     "data": {
      "text/plain": [
       "[1, 4, 9, 16, 25, 36, 49, 64, 81, 100]"
      ]
     },
     "execution_count": 36,
     "metadata": {},
     "output_type": "execute_result"
    }
   ],
   "source": [
    "[i**2 for i in range(1,11)]"
   ]
  },
  {
   "cell_type": "code",
   "execution_count": 39,
   "id": "26854824",
   "metadata": {},
   "outputs": [
    {
     "data": {
      "text/plain": [
       "[1,\n",
       " 3,\n",
       " 5,\n",
       " 7,\n",
       " 9,\n",
       " 11,\n",
       " 13,\n",
       " 15,\n",
       " 17,\n",
       " 19,\n",
       " 21,\n",
       " 23,\n",
       " 25,\n",
       " 27,\n",
       " 29,\n",
       " 31,\n",
       " 33,\n",
       " 35,\n",
       " 37,\n",
       " 39,\n",
       " 41,\n",
       " 43,\n",
       " 45,\n",
       " 47,\n",
       " 49]"
      ]
     },
     "execution_count": 39,
     "metadata": {},
     "output_type": "execute_result"
    }
   ],
   "source": [
    "[i for i in range(1,51) if i%2!= 0]"
   ]
  },
  {
   "cell_type": "code",
   "execution_count": null,
   "id": "7d317034",
   "metadata": {},
   "outputs": [],
   "source": []
  },
  {
   "cell_type": "code",
   "execution_count": 40,
   "id": "a36d9af6",
   "metadata": {},
   "outputs": [],
   "source": [
    "city = ['pune','chennai','mumbai','delhi','ahemdabad']"
   ]
  },
  {
   "cell_type": "code",
   "execution_count": 42,
   "id": "ff87752c",
   "metadata": {},
   "outputs": [
    {
     "data": {
      "text/plain": [
       "[4, 7, 6, 5, 9]"
      ]
     },
     "execution_count": 42,
     "metadata": {},
     "output_type": "execute_result"
    }
   ],
   "source": [
    "[len(i) for i in city]"
   ]
  },
  {
   "cell_type": "code",
   "execution_count": null,
   "id": "841a3716",
   "metadata": {},
   "outputs": [],
   "source": []
  },
  {
   "cell_type": "code",
   "execution_count": 44,
   "id": "db6a44e7",
   "metadata": {},
   "outputs": [
    {
     "data": {
      "text/plain": [
       "{1: 1, 2: 4, 3: 9, 4: 16, 5: 25, 6: 36, 7: 49, 8: 64, 9: 81, 10: 100}"
      ]
     },
     "execution_count": 44,
     "metadata": {},
     "output_type": "execute_result"
    }
   ],
   "source": [
    "{i:i**2 for i in range(1,11)}"
   ]
  },
  {
   "cell_type": "code",
   "execution_count": null,
   "id": "9554b3f0",
   "metadata": {},
   "outputs": [],
   "source": []
  },
  {
   "cell_type": "code",
   "execution_count": 45,
   "id": "ce1e204b",
   "metadata": {},
   "outputs": [],
   "source": [
    "d = {'a':1, 'b': 2, 'c':3, 'd':4}"
   ]
  },
  {
   "cell_type": "code",
   "execution_count": 47,
   "id": "f94c098b",
   "metadata": {},
   "outputs": [
    {
     "data": {
      "text/plain": [
       "{'a': 1, 'b': 8, 'c': 27, 'd': 64}"
      ]
     },
     "execution_count": 47,
     "metadata": {},
     "output_type": "execute_result"
    }
   ],
   "source": [
    "{k:v**3 for k,v in d.items()}"
   ]
  },
  {
   "cell_type": "code",
   "execution_count": null,
   "id": "7cffb8f3",
   "metadata": {},
   "outputs": [],
   "source": []
  },
  {
   "cell_type": "markdown",
   "id": "15cdcdbc",
   "metadata": {},
   "source": [
    "# Tuple creates a generator object instead of creating a tuple\n",
    "# Generator object deletes it from the memory after extraction"
   ]
  },
  {
   "cell_type": "code",
   "execution_count": 51,
   "id": "371493bc",
   "metadata": {},
   "outputs": [
    {
     "data": {
      "text/plain": [
       "(1, 2, 3, 4, 5, 6, 7, 8, 9, 10)"
      ]
     },
     "execution_count": 51,
     "metadata": {},
     "output_type": "execute_result"
    }
   ],
   "source": [
    "tuple(i for i in range(1,11))"
   ]
  },
  {
   "cell_type": "code",
   "execution_count": null,
   "id": "73f080f8",
   "metadata": {},
   "outputs": [],
   "source": []
  },
  {
   "cell_type": "code",
   "execution_count": 11,
   "id": "395ccc3f",
   "metadata": {},
   "outputs": [
    {
     "name": "stdout",
     "output_type": "stream",
     "text": [
      "Prime numbers are 2 3 4 5 7 11 13 17 19 23 29 31 37 41 43 47 53 59 61 67 71 73 79 83 89 97 101 103 107 109 113 127 131 137 139 149 151 157 163 167 173 179 181 191 193 197 199 211 223 227 229 233 239 241 251 257 263 269 271 277 281 283 293 307 311 313 317 331 337 347 349 353 359 367 373 379 383 389 397 401 409 419 421 431 433 439 443 449 457 461 463 467 479 487 491 499 503 509 521 523 541 547 557 563 569 571 577 587 593 599 601 607 613 617 619 631 641 643 647 653 659 661 673 677 683 691 701 709 719 727 733 739 743 751 757 761 769 773 787 797 809 811 821 823 827 829 839 853 857 859 863 877 881 883 887 907 911 919 929 937 941 947 953 967 971 977 983 991 997 "
     ]
    }
   ],
   "source": [
    "print(\"Prime numbers are \",end='')\n",
    "for i in range(2,1000):\n",
    "    flag = True\n",
    "    for j in range(2,i//2):\n",
    "        if(i%j==0):\n",
    "            flag = False\n",
    "            break\n",
    "    if(flag):\n",
    "        print(f\"{i}\",end=' ')"
   ]
  },
  {
   "cell_type": "code",
   "execution_count": null,
   "id": "0d809949",
   "metadata": {},
   "outputs": [],
   "source": []
  },
  {
   "cell_type": "code",
   "execution_count": 1,
   "id": "94ecd745",
   "metadata": {},
   "outputs": [],
   "source": [
    "s = 'Amit'"
   ]
  },
  {
   "cell_type": "code",
   "execution_count": null,
   "id": "0cbd8578",
   "metadata": {},
   "outputs": [],
   "source": []
  }
 ],
 "metadata": {
  "kernelspec": {
   "display_name": "Python 3 (ipykernel)",
   "language": "python",
   "name": "python3"
  },
  "language_info": {
   "codemirror_mode": {
    "name": "ipython",
    "version": 3
   },
   "file_extension": ".py",
   "mimetype": "text/x-python",
   "name": "python",
   "nbconvert_exporter": "python",
   "pygments_lexer": "ipython3",
   "version": "3.11.0"
  }
 },
 "nbformat": 4,
 "nbformat_minor": 5
}
