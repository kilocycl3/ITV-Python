{
 "cells": [
  {
   "cell_type": "code",
   "execution_count": 1,
   "id": "4fc79987",
   "metadata": {},
   "outputs": [],
   "source": [
    "s = set()\n",
    "\n",
    "s.add(10)"
   ]
  },
  {
   "cell_type": "code",
   "execution_count": null,
   "id": "c03cbe59",
   "metadata": {},
   "outputs": [],
   "source": []
  },
  {
   "cell_type": "code",
   "execution_count": null,
   "id": "acc1c53c",
   "metadata": {},
   "outputs": [],
   "source": []
  },
  {
   "cell_type": "raw",
   "id": "3840e6a1",
   "metadata": {},
   "source": [
    "1\n",
    "23\n",
    "456\n",
    "78910"
   ]
  },
  {
   "cell_type": "code",
   "execution_count": 4,
   "id": "b01b4467",
   "metadata": {},
   "outputs": [
    {
     "name": "stdout",
     "output_type": "stream",
     "text": [
      "1\n",
      "23\n",
      "456\n",
      "78910\n"
     ]
    }
   ],
   "source": [
    "k = 1\n",
    "\n",
    "for i in range(4):\n",
    "    for j in range(i+1):\n",
    "        print(k,end='')\n",
    "        k+=1\n",
    "    print()"
   ]
  },
  {
   "cell_type": "markdown",
   "id": "0d0ff6bf",
   "metadata": {},
   "source": [
    "# 1. Right angled Traingle"
   ]
  },
  {
   "cell_type": "raw",
   "id": "5f0fadfd",
   "metadata": {},
   "source": [
    "*\n",
    "**\n",
    "***\n",
    "****\n",
    "*****\n"
   ]
  },
  {
   "cell_type": "code",
   "execution_count": 6,
   "id": "cf6f9885",
   "metadata": {},
   "outputs": [
    {
     "name": "stdout",
     "output_type": "stream",
     "text": [
      "Enter a number: 6\n",
      "*\n",
      "**\n",
      "***\n",
      "****\n",
      "*****\n",
      "******\n"
     ]
    }
   ],
   "source": [
    "n = int(input(\"Enter a number: \"))\n",
    "\n",
    "for i in range(n):\n",
    "    \n",
    "    for j in range(i+1):\n",
    "        print(\"*\", end='')\n",
    "        \n",
    "    print()"
   ]
  },
  {
   "cell_type": "markdown",
   "id": "f08ec5ae",
   "metadata": {},
   "source": [
    "# 2. Left Triangle Star Pattern"
   ]
  },
  {
   "cell_type": "raw",
   "id": "b2b3895f",
   "metadata": {},
   "source": [
    "     *\n",
    "    **\n",
    "   ***\n",
    "  ****\n",
    " *****\n",
    "******"
   ]
  },
  {
   "cell_type": "code",
   "execution_count": 12,
   "id": "60911a93",
   "metadata": {},
   "outputs": [
    {
     "name": "stdout",
     "output_type": "stream",
     "text": [
      "Enter a number: 7\n",
      "      *\n",
      "     **\n",
      "    ***\n",
      "   ****\n",
      "  *****\n",
      " ******\n",
      "*******\n"
     ]
    }
   ],
   "source": [
    "n = int(input(\"Enter a number: \"))\n",
    "\n",
    "for i in range(n):\n",
    "    \n",
    "    for j in range(n,i+1,-1):\n",
    "        print(\" \", end='')\n",
    "    \n",
    "    for j in range(i+1):\n",
    "        print(\"*\", end='')\n",
    "        \n",
    "    print()"
   ]
  },
  {
   "cell_type": "markdown",
   "id": "6a6ec93d",
   "metadata": {},
   "source": [
    "# 3. Pyramid Star Pattern"
   ]
  },
  {
   "cell_type": "raw",
   "id": "b63d7e29",
   "metadata": {},
   "source": [
    "     *\n",
    "    * *\n",
    "   * * *\n",
    "  * * * *\n",
    " * * * * *\n",
    "* * * * * *"
   ]
  },
  {
   "cell_type": "code",
   "execution_count": 14,
   "id": "36eac5c1",
   "metadata": {},
   "outputs": [
    {
     "name": "stdout",
     "output_type": "stream",
     "text": [
      "Enter a number: 6\n",
      "     * \n",
      "    * * \n",
      "   * * * \n",
      "  * * * * \n",
      " * * * * * \n",
      "* * * * * * \n"
     ]
    }
   ],
   "source": [
    "n = int(input(\"Enter a number: \"))\n",
    "\n",
    "for i in range(n):\n",
    "    \n",
    "    for j in range(n,i+1,-1):\n",
    "        print(\" \", end='')\n",
    "    \n",
    "    for j in range(i+1):\n",
    "        print(\"*\", end=' ')\n",
    "    \n",
    "    print()"
   ]
  },
  {
   "cell_type": "markdown",
   "id": "ac1f7b0f",
   "metadata": {},
   "source": [
    "# 4. Diamond Shape Pattern"
   ]
  },
  {
   "cell_type": "raw",
   "id": "4a170dd9",
   "metadata": {},
   "source": [
    "    *\n",
    "   ***\n",
    "  *****\n",
    " *******\n",
    "*********\n",
    " *******\n",
    "  *****\n",
    "   ***\n",
    "    *"
   ]
  },
  {
   "cell_type": "code",
   "execution_count": 24,
   "id": "be97d763",
   "metadata": {},
   "outputs": [
    {
     "name": "stdout",
     "output_type": "stream",
     "text": [
      "Enter a number: 5\n",
      "    *\n",
      "   ***\n",
      "  *****\n",
      " *******\n",
      "*********\n",
      " *******\n",
      "  *****\n",
      "   ***\n",
      "    *\n"
     ]
    }
   ],
   "source": [
    "n = int(input(\"Enter a number: \"))\n",
    "\n",
    "for i in range(n):\n",
    "    \n",
    "    for j in range(n,i+1,-1):\n",
    "        print(\" \", end='')\n",
    "    \n",
    "    for j in range(2*i+1):\n",
    "        print(\"*\", end='')\n",
    "        \n",
    "    print()\n",
    "    \n",
    "for i in range(n-1):\n",
    "    \n",
    "    for j in range(i+1):\n",
    "        print(\" \", end='')\n",
    "        \n",
    "    for j in range(2*(n-i)-3):\n",
    "        print(\"*\", end='')\n",
    "        \n",
    "    print()"
   ]
  },
  {
   "cell_type": "markdown",
   "id": "6cfa1851",
   "metadata": {},
   "source": [
    "# 5. Downward Triangle Pattern"
   ]
  },
  {
   "cell_type": "raw",
   "id": "2126407e",
   "metadata": {},
   "source": [
    "*****\n",
    "****\n",
    "***\n",
    "**\n",
    "*"
   ]
  },
  {
   "cell_type": "code",
   "execution_count": 26,
   "id": "bb083b9a",
   "metadata": {},
   "outputs": [
    {
     "name": "stdout",
     "output_type": "stream",
     "text": [
      "Enter a number: 5\n",
      "*****\n",
      "****\n",
      "***\n",
      "**\n",
      "*\n"
     ]
    }
   ],
   "source": [
    "n = int(input(\"Enter a number: \"))\n",
    "\n",
    "for i in range(n,0,-1):\n",
    "    \n",
    "    for j in range(i):\n",
    "        print(\"*\", end='')\n",
    "    \n",
    "    print()"
   ]
  },
  {
   "cell_type": "markdown",
   "id": "4f44052e",
   "metadata": {},
   "source": [
    "# 6. Mirrored Right angled triangle"
   ]
  },
  {
   "cell_type": "raw",
   "id": "95e269c5",
   "metadata": {},
   "source": [
    "    *\n",
    "   **\n",
    "  ***\n",
    " ****\n",
    "*****"
   ]
  },
  {
   "cell_type": "code",
   "execution_count": 34,
   "id": "4b40d3e2",
   "metadata": {},
   "outputs": [
    {
     "name": "stdout",
     "output_type": "stream",
     "text": [
      "Enter a number: 5\n",
      "    \n",
      "   *\n",
      "  **\n",
      " ***\n",
      "****\n",
      "*****\n"
     ]
    }
   ],
   "source": [
    "n = int(input(\"Enter a number: \"))\n",
    "\n",
    "for i in range(n+1):\n",
    "    \n",
    "    for j in range(n,i+1,-1):\n",
    "        print(\" \", end='')\n",
    "        \n",
    "    for j in range(i):\n",
    "        print(\"*\", end='')\n",
    "        \n",
    "    print()"
   ]
  },
  {
   "cell_type": "code",
   "execution_count": null,
   "id": "fdd6e79f",
   "metadata": {},
   "outputs": [],
   "source": []
  }
 ],
 "metadata": {
  "kernelspec": {
   "display_name": "Python 3 (ipykernel)",
   "language": "python",
   "name": "python3"
  },
  "language_info": {
   "codemirror_mode": {
    "name": "ipython",
    "version": 3
   },
   "file_extension": ".py",
   "mimetype": "text/x-python",
   "name": "python",
   "nbconvert_exporter": "python",
   "pygments_lexer": "ipython3",
   "version": "3.11.0"
  }
 },
 "nbformat": 4,
 "nbformat_minor": 5
}
