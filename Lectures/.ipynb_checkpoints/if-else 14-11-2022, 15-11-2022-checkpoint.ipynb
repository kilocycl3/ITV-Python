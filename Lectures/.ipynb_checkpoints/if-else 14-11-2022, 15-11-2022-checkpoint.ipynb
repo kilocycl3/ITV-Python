{
 "cells": [
  {
   "cell_type": "code",
   "execution_count": 2,
   "id": "c0464d51",
   "metadata": {},
   "outputs": [
    {
     "name": "stdout",
     "output_type": "stream",
     "text": [
      "Enter a number: 5\n",
      "5\n",
      "<class 'int'>\n"
     ]
    }
   ],
   "source": [
    "n = int(input(\"Enter a number: \"))\n",
    "print(n)\n",
    "print(type(n))"
   ]
  },
  {
   "cell_type": "code",
   "execution_count": 9,
   "id": "c3001d1a",
   "metadata": {},
   "outputs": [
    {
     "name": "stdout",
     "output_type": "stream",
     "text": [
      "Enter your age: 18\n",
      "Enter the name of your city: MUMBAI\n",
      "Eligible to vote\n"
     ]
    }
   ],
   "source": [
    "inp_age = int(input(\"Enter your age: \"))\n",
    "inp_city = input('Enter the name of your city: ').lower()\n",
    "\n",
    "if(inp_age >= 18 and inp_city == 'mumbai'):\n",
    "    print(\"Eligible to get a license\")\n",
    "else:\n",
    "    print(\"Not Eligible to get a license\")"
   ]
  },
  {
   "cell_type": "code",
   "execution_count": null,
   "id": "e6136fa1",
   "metadata": {},
   "outputs": [],
   "source": []
  },
  {
   "cell_type": "code",
   "execution_count": 18,
   "id": "4a9dd450",
   "metadata": {},
   "outputs": [
    {
     "name": "stdout",
     "output_type": "stream",
     "text": [
      "Enter your percentage: 60\n",
      "First Class\n"
     ]
    }
   ],
   "source": [
    "inp_percentage = int(input(\"Enter your percentage: \"))\n",
    "\n",
    "if(inp_percentage >= 75 and inp_percentage <=100):\n",
    "    print(\"Distinction\")\n",
    "elif(inp_percentage >=60 and inp_percentage < 75):\n",
    "    print(\"First Class\")\n",
    "elif(inp_percentage >=45 and inp_percentage < 60):\n",
    "    print(\"Second Class\")\n",
    "elif(inp_percentage >=35 and inp_percentage < 45):\n",
    "    print(\"Pass Class\")\n",
    "elif(inp_percentage >=0 and inp_percentage < 35):\n",
    "    print(\"Fail\")\n",
    "else:\n",
    "    print(\"Invalid input\")\n",
    "    "
   ]
  },
  {
   "cell_type": "code",
   "execution_count": null,
   "id": "67a05dda",
   "metadata": {},
   "outputs": [],
   "source": []
  },
  {
   "cell_type": "code",
   "execution_count": 26,
   "id": "e5698c31",
   "metadata": {},
   "outputs": [
    {
     "name": "stdout",
     "output_type": "stream",
     "text": [
      "Enter number of cigars: 60\n",
      "Enter WE for weekend or WD for weekday: WD\n",
      "Party Successful\n"
     ]
    }
   ],
   "source": [
    "inp_cigars = int(input(\"Enter number of cigars: \"))\n",
    "is_day = input(\"Enter WE for weekend or WD for weekday: \")\n",
    "\n",
    "if((inp_cigars >=40 and inp_cigars <=60 and is_day == 'WD') or (inp_cigars >=40 and is_day == 'WE')):\n",
    "    print(\"Party Successful\")\n",
    "else:\n",
    "    print(\"Party Unsuccessful\")\n",
    "    "
   ]
  },
  {
   "cell_type": "code",
   "execution_count": 30,
   "id": "6ceea5a0",
   "metadata": {},
   "outputs": [
    {
     "name": "stdout",
     "output_type": "stream",
     "text": [
      "Enter number of cigars: 65\n",
      "Enter WE for weekend or WD for weekday: WD\n",
      "Party Unsuccessful\n"
     ]
    }
   ],
   "source": [
    "inp_cigars = int(input(\"Enter number of cigars: \"))\n",
    "is_day = input(\"Enter WE for weekend or WD for weekday: \")\n",
    "\n",
    "if(inp_cigars >=40 and inp_cigars <=60 and is_day == 'WD'):\n",
    "    print(\"Party Successful\")\n",
    "elif(inp_cigars >=40 and is_day == 'WE'):\n",
    "    print(\"Party Successful\")\n",
    "else:\n",
    "    print(\"Party Unsuccessful\")\n",
    "    "
   ]
  },
  {
   "cell_type": "code",
   "execution_count": null,
   "id": "976797b8",
   "metadata": {},
   "outputs": [],
   "source": []
  },
  {
   "cell_type": "code",
   "execution_count": 36,
   "id": "98a47788",
   "metadata": {},
   "outputs": [
    {
     "name": "stdout",
     "output_type": "stream",
     "text": [
      "Enter the day 0: Sunday, 1: Monday, 2: Tuesday, 3: Wednesday, 4: Thursday, 5: Friday, 6: Saturday => 0\n",
      "Vacation?: Yes or no: yes\n",
      "No alarm\n"
     ]
    }
   ],
   "source": [
    "inp_day = int(input(\"Enter the day 0: Sunday, 1: Monday, 2: Tuesday, 3: Wednesday, 4: Thursday, 5: Friday, 6: Saturday => \"))\n",
    "is_vacation = input(\"Vacation?: Yes or no: \")\n",
    "\n",
    "if(is_vacation == 'no'):\n",
    "    if(inp_day>=1 and inp_day <=5):\n",
    "        print(\"7:00\")\n",
    "    elif(inp_day == 0 or inp_day == 6):\n",
    "        print(\"10:00\")\n",
    "elif(is_vacation == 'yes'):\n",
    "    if(inp_day>=1 and inp_day <=5):\n",
    "        print(\"10:00\")\n",
    "    elif(inp_day == 0 or inp_day == 6):\n",
    "        print(\"No alarm\")"
   ]
  },
  {
   "cell_type": "code",
   "execution_count": 7,
   "id": "6ea26559",
   "metadata": {},
   "outputs": [
    {
     "name": "stdout",
     "output_type": "stream",
     "text": [
      "Enter the speed: 81\n",
      "Birthday? yes or noyes\n",
      "1\n"
     ]
    }
   ],
   "source": [
    "speed = int(input(\"Enter the speed: \"))\n",
    "is_birthday = input(\"Birthday? yes or no\")\n",
    "\n",
    "if(is_birthday=='yes'):\n",
    "    if(speed<=60+5):\n",
    "        print(\"no ticket\")\n",
    "    elif(speed>=61+5 and speed <=80+5):\n",
    "        print(\"small ticket\")\n",
    "    else:\n",
    "        print(\"big ticket\")\n",
    "elif(is_birthday=='no'):\n",
    "    if(speed<=60):\n",
    "        print(\"no ticket\")\n",
    "    elif(speed>=61 and speed <=80):\n",
    "        print(\"small ticket\")\n",
    "    else:\n",
    "        print(\"big ticket\")"
   ]
  }
 ],
 "metadata": {
  "kernelspec": {
   "display_name": "Python 3 (ipykernel)",
   "language": "python",
   "name": "python3"
  },
  "language_info": {
   "codemirror_mode": {
    "name": "ipython",
    "version": 3
   },
   "file_extension": ".py",
   "mimetype": "text/x-python",
   "name": "python",
   "nbconvert_exporter": "python",
   "pygments_lexer": "ipython3",
   "version": "3.11.0"
  }
 },
 "nbformat": 4,
 "nbformat_minor": 5
}
