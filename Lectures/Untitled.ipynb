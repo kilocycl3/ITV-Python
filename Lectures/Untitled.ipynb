{
 "cells": [
  {
   "cell_type": "markdown",
   "id": "008985e9",
   "metadata": {},
   "source": [
    "Sum of Odd and Even Numbers\n",
    "\n",
    "Write a function that takes a list of numbers and returns a list with two elements:\n",
    "\n",
    "The first element should be the sum of all even numbers in the list.\n",
    "The second element should be the sum of all odd numbers in the list.\n",
    "\n",
    "Example\n",
    "sum_odd_and_even([1, 2, 3, 4, 5, 6]) ➞ [12, 9]\n",
    "# 2 + 4 + 6 = 12 and 1 + 3 + 5 = 9\n",
    "\n",
    "sum_odd_and_even([-1, -2, -3, -4, -5, -6]) ➞ [-12, -9])\n",
    "\n",
    "sum_odd_and_even([0, 0]) ➞ [0, 0])\n"
   ]
  },
  {
   "cell_type": "code",
   "execution_count": 4,
   "id": "0f9430cc",
   "metadata": {},
   "outputs": [
    {
     "name": "stdout",
     "output_type": "stream",
     "text": [
      "(12, 9)\n",
      "(-12, -9)\n",
      "(0, 0)\n"
     ]
    }
   ],
   "source": [
    "def sum_odd_and_even(l):\n",
    "    \n",
    "    sum_odd = 0\n",
    "    sum_even = 0\n",
    "    \n",
    "    for i in l:\n",
    "        if i%2==0:\n",
    "            sum_even+=i\n",
    "        else:\n",
    "            sum_odd+=i\n",
    "            \n",
    "    return (sum_even, sum_odd)\n",
    "\n",
    "print(sum_odd_and_even([1, 2, 3, 4, 5, 6]))\n",
    "print(sum_odd_and_even([-1, -2, -3, -4, -5, -6]))\n",
    "print(sum_odd_and_even([0, 0]))"
   ]
  },
  {
   "cell_type": "code",
   "execution_count": null,
   "id": "77b786b8",
   "metadata": {},
   "outputs": [],
   "source": []
  },
  {
   "cell_type": "markdown",
   "id": "94e5ebb4",
   "metadata": {},
   "source": [
    "Cricket Balls to Overs!\n",
    "\n",
    "In cricket, an over consists of six deliveries a bowler bowls from one end. Create a function that takes the number of balls bowled by a bowler and calculates the number of overs and balls bowled by him/her. Return the value as a float, in the format overs.balls.\n",
    "\n",
    "Examples\n",
    "total_overs(2400) ➞ 400\n",
    "\n",
    "total_overs(164) ➞ 27.2\n",
    "# 27 overs and 2 balls were bowled by the bowler.\n",
    "\n",
    "total_overs(945) ➞ 157.3\n",
    "# 157 overs and 3 balls were bowled by the bowler.\n",
    "\n",
    "total_overs(5) ➞ 0.5\n"
   ]
  },
  {
   "cell_type": "code",
   "execution_count": 7,
   "id": "db39e5e2",
   "metadata": {},
   "outputs": [],
   "source": [
    "def total_overs(bowled):\n",
    "    \n",
    "    over = bowled//6\n",
    "    balls = bowled%6\n",
    "    \n",
    "    return (int(str(over)+str(balls))) if balls!=0 else over"
   ]
  },
  {
   "cell_type": "code",
   "execution_count": 8,
   "id": "599b3023",
   "metadata": {},
   "outputs": [
    {
     "name": "stdout",
     "output_type": "stream",
     "text": [
      "400\n"
     ]
    }
   ],
   "source": [
    "print(total_overs(2400))\n",
    "print(total_overs(164))\n",
    "print(total_overs(945))\n",
    "print(total_overs(5))"
   ]
  },
  {
   "cell_type": "code",
   "execution_count": null,
   "id": "2f059ec0",
   "metadata": {},
   "outputs": [],
   "source": []
  }
 ],
 "metadata": {
  "kernelspec": {
   "display_name": "Python 3 (ipykernel)",
   "language": "python",
   "name": "python3"
  },
  "language_info": {
   "codemirror_mode": {
    "name": "ipython",
    "version": 3
   },
   "file_extension": ".py",
   "mimetype": "text/x-python",
   "name": "python",
   "nbconvert_exporter": "python",
   "pygments_lexer": "ipython3",
   "version": "3.11.0"
  }
 },
 "nbformat": 4,
 "nbformat_minor": 5
}
