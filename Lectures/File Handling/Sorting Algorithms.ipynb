{
 "cells": [
  {
   "cell_type": "code",
   "execution_count": 57,
   "id": "407c097b",
   "metadata": {},
   "outputs": [],
   "source": [
    "arr = [64, 34, 25, 12, 22, 11, 90]"
   ]
  },
  {
   "cell_type": "markdown",
   "id": "db1025ba",
   "metadata": {},
   "source": [
    "# Bubble Sort"
   ]
  },
  {
   "cell_type": "code",
   "execution_count": 5,
   "id": "85aa1edc",
   "metadata": {},
   "outputs": [
    {
     "name": "stdout",
     "output_type": "stream",
     "text": [
      "[11, 12, 22, 25, 34, 64, 90]\n"
     ]
    }
   ],
   "source": [
    "arr = [64, 34, 25, 12, 22, 11, 90]\n",
    "\n",
    "def bubsort(arr):\n",
    "    n = len(arr)\n",
    "    \n",
    "    for i in range(n):\n",
    "        for j in range(n-i-1):\n",
    "            if(arr[j]>arr[j+1]):\n",
    "                arr[j], arr[j+1] = arr[j+1], arr[j]\n",
    "#             print(arr)\n",
    "    print(arr)\n",
    "\n",
    "        \n",
    "bubsort(arr)"
   ]
  },
  {
   "cell_type": "markdown",
   "id": "d5ed0266",
   "metadata": {},
   "source": [
    "# Insertion Sort"
   ]
  },
  {
   "cell_type": "code",
   "execution_count": 37,
   "id": "fe68ad31",
   "metadata": {},
   "outputs": [
    {
     "name": "stdout",
     "output_type": "stream",
     "text": [
      "[90, 90, 90, 90, 90, 64, 90]\n"
     ]
    }
   ],
   "source": [
    "arr = [64, 34, 25, 12, 22, 11, 90]\n",
    "\n",
    "def insertionsort(arr):\n",
    "    \n",
    "    for i in range(1,len(arr)):\n",
    "        print(arr)\n",
    "        key = arr[i]\n",
    "        \n",
    "        j = i-1\n",
    "        \n",
    "        while j>=0 and key < arr[j]:\n",
    "            arr[j+1] = arr[j]\n",
    "            j-=1\n",
    "        arr[j+1]=key\n",
    "        \n",
    "    print(arr)\n",
    "    \n",
    "insertionsort(arr)"
   ]
  },
  {
   "cell_type": "markdown",
   "id": "21d8976e",
   "metadata": {},
   "source": [
    "# Merge Sort"
   ]
  },
  {
   "cell_type": "code",
   "execution_count": 72,
   "id": "01e44bff",
   "metadata": {},
   "outputs": [
    {
     "name": "stdout",
     "output_type": "stream",
     "text": [
      "[11, 12, 22, 25, 64, 90, 343]\n"
     ]
    }
   ],
   "source": [
    "# def merge(arr,l,m,r):\n",
    "    \n",
    "    \n",
    "    \n",
    "    \n",
    "arr = [64, 343, 25, 12, 22, 11, 90]\n",
    "    \n",
    "def mergesort(arr):\n",
    "    if len(arr)>1:\n",
    "        m = len(arr)//2\n",
    "        \n",
    "        \n",
    "        \n",
    "        L = arr[:m]\n",
    "        R = arr[m:]\n",
    "        \n",
    "        mergesort(L)\n",
    "        mergesort(R)\n",
    "\n",
    "        i=j=k=0\n",
    "\n",
    "        while(i<len(L) and j<len(R)):\n",
    "            if(L[i]<R[j]):\n",
    "                arr[k] = L[i]\n",
    "                i+=1\n",
    "            else:\n",
    "                arr[k] = R[j]\n",
    "                j+=1\n",
    "            k+=1\n",
    "\n",
    "        while (i<len(L)):\n",
    "            arr[k] = L[i]\n",
    "            i+=1\n",
    "            k+=1\n",
    "\n",
    "        while (j<len(R)):\n",
    "            arr[k] = R[j]\n",
    "            j+=1\n",
    "            k+=1\n",
    "mergesort(arr)\n",
    "print(arr)\n",
    "\n"
   ]
  },
  {
   "cell_type": "markdown",
   "id": "32df2f46",
   "metadata": {},
   "source": [
    "# Quick Sort"
   ]
  },
  {
   "cell_type": "code",
   "execution_count": 27,
   "id": "f4a8e970",
   "metadata": {},
   "outputs": [
    {
     "name": "stdout",
     "output_type": "stream",
     "text": [
      "Sorted array: [11, 12, 22, 25, 64, 343, 90]\n"
     ]
    }
   ],
   "source": [
    "def partition(start,end,array):\n",
    "    \n",
    "    \n",
    "    p_index = start\n",
    "    pivot = array[p_index]\n",
    "    \n",
    "    while start < end:\n",
    "        \n",
    "        while start < len(array) and pivot >= array[start]:\n",
    "            start+=1\n",
    "        \n",
    "        while pivot < array[end]:\n",
    "            end-=1\n",
    "            \n",
    "        if(start < end):\n",
    "            array[start], array[end] = array[end], array[start]\n",
    "            \n",
    "        array[end],array[p_index] = array[p_index], array[end]\n",
    "        \n",
    "    return end\n",
    "\n",
    "\n",
    "def quicksort(start,end,array):\n",
    "    \n",
    "    if(start< end):\n",
    "        \n",
    "        p = partition(start,end,array)\n",
    "        \n",
    "        quicksort(0,p-1,array)\n",
    "        quicksort(p+1,end,array)\n",
    "        \n",
    "array = [ 10, 7, 8, 9, 1, 5 ]\n",
    "quicksort(0, len(array) - 1, array)\n",
    " \n",
    "print(f'Sorted array: {array}')"
   ]
  },
  {
   "cell_type": "markdown",
   "id": "b169f6a2",
   "metadata": {},
   "source": [
    "# Selection Sort"
   ]
  },
  {
   "cell_type": "code",
   "execution_count": 8,
   "id": "36cf8e6f",
   "metadata": {},
   "outputs": [
    {
     "name": "stdout",
     "output_type": "stream",
     "text": [
      "[1, 5, 7, 8, 9, 10]\n"
     ]
    }
   ],
   "source": [
    "def selectsort(arr):\n",
    "    \n",
    "    for i in range(len(arr)):\n",
    "        index = i\n",
    "        \n",
    "        for j in range(i+1,len(arr)):\n",
    "            if(arr[j]<arr[index]):\n",
    "                index=j\n",
    "                \n",
    "        arr[i],arr[index] = arr[index],arr[i]\n",
    "    \n",
    "    print(arr)\n",
    "        \n",
    "array = [ 10, 7, 8, 9, 1, 5 ]\n",
    "selectsort(array)\n"
   ]
  },
  {
   "cell_type": "code",
   "execution_count": 59,
   "id": "f9e96b69",
   "metadata": {},
   "outputs": [
    {
     "name": "stdout",
     "output_type": "stream",
     "text": [
      "5 is at index: None\n"
     ]
    }
   ],
   "source": [
    "def binarysearch(arr,left,right,key):\n",
    "    \n",
    "    if right>=left:\n",
    "\n",
    "        mid = left+(right-1) // 2\n",
    "\n",
    "        if(key==arr[mid]):\n",
    "            return mid\n",
    "        elif(key<arr[mid]):\n",
    "            binsearch(arr,left,mid-1,key)\n",
    "        else:\n",
    "            binsearch(arr,mid+1,right,key)\n",
    "    else:\n",
    "        return -1\n",
    "            \n",
    "def binarySearch(arr, l, r, x):\n",
    " \n",
    "    # Check base case\n",
    "    if r >= l:\n",
    " \n",
    "        mid = l + (r - l) // 2\n",
    " \n",
    "        # If element is present at the middle itself\n",
    "        if arr[mid] == x:\n",
    "            return mid\n",
    " \n",
    "        # If element is smaller than mid, then it\n",
    "        # can only be present in left subarray\n",
    "        elif arr[mid] > x:\n",
    "            return binarySearch(arr, l, mid-1, x)\n",
    " \n",
    "        # Else the element can only be present\n",
    "        # in right subarray\n",
    "        else:\n",
    "            return binarySearch(arr, mid + 1, r, x)\n",
    " \n",
    "    else:\n",
    "        # Element is not present in the array\n",
    "        return -1\n",
    "key = 5\n",
    "print(f'{key} is at index: {binarysearch(array,0,len(array)-1,key)}')"
   ]
  },
  {
   "cell_type": "code",
   "execution_count": 3,
   "id": "d968461d",
   "metadata": {},
   "outputs": [
    {
     "name": "stdout",
     "output_type": "stream",
     "text": [
      "4\n"
     ]
    }
   ],
   "source": [
    "left = 2\n",
    "\n",
    "right = 5\n",
    "\n",
    "mid = left + (right)//2\n",
    "print(mid)"
   ]
  },
  {
   "cell_type": "code",
   "execution_count": null,
   "id": "ac8156d2",
   "metadata": {},
   "outputs": [],
   "source": []
  }
 ],
 "metadata": {
  "kernelspec": {
   "display_name": "Python (py_ds)",
   "language": "python",
   "name": "py_ds"
  },
  "language_info": {
   "codemirror_mode": {
    "name": "ipython",
    "version": 3
   },
   "file_extension": ".py",
   "mimetype": "text/x-python",
   "name": "python",
   "nbconvert_exporter": "python",
   "pygments_lexer": "ipython3",
   "version": "3.8.13"
  }
 },
 "nbformat": 4,
 "nbformat_minor": 5
}
