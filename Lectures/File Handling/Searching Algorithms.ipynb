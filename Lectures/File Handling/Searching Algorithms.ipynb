{
 "cells": [
  {
   "cell_type": "markdown",
   "id": "d91246df",
   "metadata": {},
   "source": [
    "# Binary Search"
   ]
  },
  {
   "cell_type": "code",
   "execution_count": 9,
   "id": "5ff38112",
   "metadata": {},
   "outputs": [
    {
     "name": "stdout",
     "output_type": "stream",
     "text": [
      "Number at index: -1\n"
     ]
    }
   ],
   "source": [
    "def binary_search(arr,low,high,x):\n",
    "    if high >= low:\n",
    "\n",
    "            mid = (high + low) // 2\n",
    "\n",
    "            # If element is present at the middle itself\n",
    "            if arr[mid] == x:\n",
    "                return mid\n",
    "\n",
    "            # If element is smaller than mid, then it can only\n",
    "            # be present in left subarray\n",
    "            elif arr[mid] > x:\n",
    "                return binary_search(arr, low, mid - 1, x)\n",
    "\n",
    "            # Else the element can only be present in right subarray\n",
    "            else:\n",
    "                return binary_search(arr, mid + 1, high, x)\n",
    "\n",
    "    else:\n",
    "            # Element is not present in the array\n",
    "        return -1\n",
    "    \n",
    "arr=[1,2,3,4,5,6]\n",
    "s = 100\n",
    "\n",
    "print(f'Number at index: {binary_search(arr,0,len(arr)-1,s)}')\n"
   ]
  },
  {
   "cell_type": "markdown",
   "id": "aa46813f",
   "metadata": {},
   "source": [
    "# Linear Search"
   ]
  },
  {
   "cell_type": "code",
   "execution_count": 7,
   "id": "ecc410e7",
   "metadata": {},
   "outputs": [
    {
     "name": "stdout",
     "output_type": "stream",
     "text": [
      "3\n"
     ]
    }
   ],
   "source": [
    "arr=[1,2,3,4,5,6]\n",
    "s = 2\n",
    "\n",
    "for i in range(0,len(arr)):\n",
    "    if i == s:\n",
    "        print(arr[i])"
   ]
  },
  {
   "cell_type": "code",
   "execution_count": 3,
   "id": "bf018e71",
   "metadata": {},
   "outputs": [
    {
     "name": "stdout",
     "output_type": "stream",
     "text": [
      "6\n"
     ]
    }
   ],
   "source": [
    "print(5) if (5>6) else print(6)"
   ]
  },
  {
   "cell_type": "code",
   "execution_count": null,
   "id": "e76567bd",
   "metadata": {},
   "outputs": [],
   "source": []
  }
 ],
 "metadata": {
  "kernelspec": {
   "display_name": "Python 3 (ipykernel)",
   "language": "python",
   "name": "python3"
  },
  "language_info": {
   "codemirror_mode": {
    "name": "ipython",
    "version": 3
   },
   "file_extension": ".py",
   "mimetype": "text/x-python",
   "name": "python",
   "nbconvert_exporter": "python",
   "pygments_lexer": "ipython3",
   "version": "3.11.1"
  }
 },
 "nbformat": 4,
 "nbformat_minor": 5
}
