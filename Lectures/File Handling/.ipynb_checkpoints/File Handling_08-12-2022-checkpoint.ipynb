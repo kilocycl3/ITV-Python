{
 "cells": [
  {
   "cell_type": "code",
   "execution_count": 1,
   "id": "abc869c3",
   "metadata": {},
   "outputs": [],
   "source": [
    "n465666161 = 1"
   ]
  },
  {
   "cell_type": "code",
   "execution_count": 2,
   "id": "33119d73",
   "metadata": {},
   "outputs": [
    {
     "data": {
      "text/plain": [
       "1"
      ]
     },
     "execution_count": 2,
     "metadata": {},
     "output_type": "execute_result"
    }
   ],
   "source": [
    "n465666161"
   ]
  },
  {
   "cell_type": "code",
   "execution_count": 8,
   "id": "90ea3a46",
   "metadata": {},
   "outputs": [
    {
     "data": {
      "application/json": {
       "cell": {
        "!": "OSMagics",
        "HTML": "Other",
        "SVG": "Other",
        "bash": "Other",
        "capture": "ExecutionMagics",
        "cmd": "Other",
        "debug": "ExecutionMagics",
        "file": "Other",
        "html": "DisplayMagics",
        "javascript": "DisplayMagics",
        "js": "DisplayMagics",
        "latex": "DisplayMagics",
        "markdown": "DisplayMagics",
        "perl": "Other",
        "prun": "ExecutionMagics",
        "pypy": "Other",
        "python": "Other",
        "python2": "Other",
        "python3": "Other",
        "ruby": "Other",
        "script": "ScriptMagics",
        "sh": "Other",
        "svg": "DisplayMagics",
        "sx": "OSMagics",
        "system": "OSMagics",
        "time": "ExecutionMagics",
        "timeit": "ExecutionMagics",
        "writefile": "OSMagics"
       },
       "line": {
        "alias": "OSMagics",
        "alias_magic": "BasicMagics",
        "autoawait": "AsyncMagics",
        "autocall": "AutoMagics",
        "automagic": "AutoMagics",
        "autosave": "KernelMagics",
        "bookmark": "OSMagics",
        "cd": "OSMagics",
        "clear": "KernelMagics",
        "cls": "KernelMagics",
        "colors": "BasicMagics",
        "conda": "PackagingMagics",
        "config": "ConfigMagics",
        "connect_info": "KernelMagics",
        "copy": "Other",
        "ddir": "Other",
        "debug": "ExecutionMagics",
        "dhist": "OSMagics",
        "dirs": "OSMagics",
        "doctest_mode": "BasicMagics",
        "echo": "Other",
        "ed": "Other",
        "edit": "KernelMagics",
        "env": "OSMagics",
        "gui": "BasicMagics",
        "hist": "Other",
        "history": "HistoryMagics",
        "killbgscripts": "ScriptMagics",
        "ldir": "Other",
        "less": "KernelMagics",
        "load": "CodeMagics",
        "load_ext": "ExtensionMagics",
        "loadpy": "CodeMagics",
        "logoff": "LoggingMagics",
        "logon": "LoggingMagics",
        "logstart": "LoggingMagics",
        "logstate": "LoggingMagics",
        "logstop": "LoggingMagics",
        "ls": "Other",
        "lsmagic": "BasicMagics",
        "macro": "ExecutionMagics",
        "magic": "BasicMagics",
        "matplotlib": "PylabMagics",
        "mkdir": "Other",
        "more": "KernelMagics",
        "notebook": "BasicMagics",
        "page": "BasicMagics",
        "pastebin": "CodeMagics",
        "pdb": "ExecutionMagics",
        "pdef": "NamespaceMagics",
        "pdoc": "NamespaceMagics",
        "pfile": "NamespaceMagics",
        "pinfo": "NamespaceMagics",
        "pinfo2": "NamespaceMagics",
        "pip": "PackagingMagics",
        "popd": "OSMagics",
        "pprint": "BasicMagics",
        "precision": "BasicMagics",
        "prun": "ExecutionMagics",
        "psearch": "NamespaceMagics",
        "psource": "NamespaceMagics",
        "pushd": "OSMagics",
        "pwd": "OSMagics",
        "pycat": "OSMagics",
        "pylab": "PylabMagics",
        "qtconsole": "KernelMagics",
        "quickref": "BasicMagics",
        "recall": "HistoryMagics",
        "rehashx": "OSMagics",
        "reload_ext": "ExtensionMagics",
        "ren": "Other",
        "rep": "Other",
        "rerun": "HistoryMagics",
        "reset": "NamespaceMagics",
        "reset_selective": "NamespaceMagics",
        "rmdir": "Other",
        "run": "ExecutionMagics",
        "save": "CodeMagics",
        "sc": "OSMagics",
        "set_env": "OSMagics",
        "store": "StoreMagics",
        "sx": "OSMagics",
        "system": "OSMagics",
        "tb": "ExecutionMagics",
        "time": "ExecutionMagics",
        "timeit": "ExecutionMagics",
        "unalias": "OSMagics",
        "unload_ext": "ExtensionMagics",
        "who": "NamespaceMagics",
        "who_ls": "NamespaceMagics",
        "whos": "NamespaceMagics",
        "xdel": "NamespaceMagics",
        "xmode": "BasicMagics"
       }
      },
      "text/plain": [
       "Available line magics:\n",
       "%alias  %alias_magic  %autoawait  %autocall  %automagic  %autosave  %bookmark  %cd  %clear  %cls  %colors  %conda  %config  %connect_info  %copy  %ddir  %debug  %dhist  %dirs  %doctest_mode  %echo  %ed  %edit  %env  %gui  %hist  %history  %killbgscripts  %ldir  %less  %load  %load_ext  %loadpy  %logoff  %logon  %logstart  %logstate  %logstop  %ls  %lsmagic  %macro  %magic  %matplotlib  %mkdir  %more  %notebook  %page  %pastebin  %pdb  %pdef  %pdoc  %pfile  %pinfo  %pinfo2  %pip  %popd  %pprint  %precision  %prun  %psearch  %psource  %pushd  %pwd  %pycat  %pylab  %qtconsole  %quickref  %recall  %rehashx  %reload_ext  %ren  %rep  %rerun  %reset  %reset_selective  %rmdir  %run  %save  %sc  %set_env  %store  %sx  %system  %tb  %time  %timeit  %unalias  %unload_ext  %who  %who_ls  %whos  %xdel  %xmode\n",
       "\n",
       "Available cell magics:\n",
       "%%!  %%HTML  %%SVG  %%bash  %%capture  %%cmd  %%debug  %%file  %%html  %%javascript  %%js  %%latex  %%markdown  %%perl  %%prun  %%pypy  %%python  %%python2  %%python3  %%ruby  %%script  %%sh  %%svg  %%sx  %%system  %%time  %%timeit  %%writefile\n",
       "\n",
       "Automagic is ON, % prefix IS NOT needed for line magics."
      ]
     },
     "execution_count": 8,
     "metadata": {},
     "output_type": "execute_result"
    }
   ],
   "source": [
    "%lsmagic"
   ]
  },
  {
   "cell_type": "code",
   "execution_count": 114,
   "id": "f7b91852",
   "metadata": {},
   "outputs": [
    {
     "data": {
      "text/html": [
       "\n",
       "<html>\n",
       "<head>\n",
       "<style>\n",
       "\n",
       "body{\n",
       "    background-image: url(\"file:///C:/Users/HP/Downloads/99.jpg\")\n",
       "}\n",
       "\n",
       ".div1{\n",
       "    display:flex;\n",
       "    margin-left: 10vw;\n",
       "}\n",
       "\n",
       "\n",
       ".str1{\n",
       "    font-size: 2em;\n",
       "#     background: blue;\n",
       "}\n",
       "\n",
       "</style>\n",
       "</head>\n",
       "<body>\n",
       "<strong class='str1'>Python Programming</strong>\n",
       "<div class=\"div1\">This is content</div>\n",
       "</body>\n",
       "\n",
       "</html>\n"
      ],
      "text/plain": [
       "<IPython.core.display.HTML object>"
      ]
     },
     "metadata": {},
     "output_type": "display_data"
    }
   ],
   "source": [
    "%%HTML\n",
    "\n",
    "<html>\n",
    "<head>\n",
    "<style>\n",
    "\n",
    "body{\n",
    "    background-image: url(\"file:///C:/Users/HP/Downloads/99.jpg\")\n",
    "}\n",
    "\n",
    ".div1{\n",
    "    display:flex;\n",
    "    margin-left: 10vw;\n",
    "}\n",
    "\n",
    "\n",
    ".str1{\n",
    "    font-size: 2em;\n",
    "#     background: blue;\n",
    "}\n",
    "\n",
    "</style>\n",
    "</head>\n",
    "<body>\n",
    "<strong class='str1'>Python Programming</strong>\n",
    "<div class=\"div1\">This is content</div>\n",
    "</body>\n",
    "\n",
    "</html>"
   ]
  },
  {
   "cell_type": "markdown",
   "id": "b60c51c4",
   "metadata": {},
   "source": [
    "# File Handling"
   ]
  },
  {
   "cell_type": "markdown",
   "id": "1f655a3d",
   "metadata": {},
   "source": [
    "### File Read"
   ]
  },
  {
   "cell_type": "code",
   "execution_count": 65,
   "id": "d62c60a2",
   "metadata": {},
   "outputs": [
    {
     "name": "stdout",
     "output_type": "stream",
     "text": [
      "This is a line\n",
      "This is next line\n",
      "This is a sentence\n",
      "Whatever\n",
      "<_io.TextIOWrapper name='random.txt' mode='r' encoding='cp1252'>\n"
     ]
    }
   ],
   "source": [
    "f = open('random.txt', 'r')\n",
    "\n",
    "print(f.read())\n",
    "print(f)\n",
    "f.close()"
   ]
  },
  {
   "cell_type": "code",
   "execution_count": 66,
   "id": "1c9f2604",
   "metadata": {},
   "outputs": [
    {
     "name": "stdout",
     "output_type": "stream",
     "text": [
      "This is a line\n",
      "This is next line\n",
      "This is a sentence\n",
      "Whatever\n",
      "File closed\n"
     ]
    }
   ],
   "source": [
    "with open('random.txt', 'r') as f:\n",
    "    f1 = f.read()\n",
    "    print(f1)\n",
    "\n",
    "if f.closed:\n",
    "    print(\"File closed\")\n",
    "else:\n",
    "    print(\"File open\")"
   ]
  },
  {
   "cell_type": "code",
   "execution_count": null,
   "id": "86e91276",
   "metadata": {},
   "outputs": [],
   "source": []
  },
  {
   "cell_type": "markdown",
   "id": "d3cf9a8d",
   "metadata": {},
   "source": [
    "### File readline"
   ]
  },
  {
   "cell_type": "code",
   "execution_count": 72,
   "id": "00b93065",
   "metadata": {},
   "outputs": [
    {
     "name": "stdout",
     "output_type": "stream",
     "text": [
      "<class 'str'>\n"
     ]
    }
   ],
   "source": [
    "with open('random.txt', 'r') as f:\n",
    "    print(type(f.readline()))"
   ]
  },
  {
   "cell_type": "code",
   "execution_count": 76,
   "id": "772b7dd4",
   "metadata": {},
   "outputs": [
    {
     "name": "stdout",
     "output_type": "stream",
     "text": [
      "This is a line\n",
      "\n"
     ]
    }
   ],
   "source": [
    "with open('random.txt', 'r') as f:\n",
    "    print(f.readline())"
   ]
  },
  {
   "cell_type": "code",
   "execution_count": 77,
   "id": "665fd81a",
   "metadata": {},
   "outputs": [
    {
     "name": "stdout",
     "output_type": "stream",
     "text": [
      "This is a line\n",
      "\n",
      "This is next line\n",
      "\n"
     ]
    }
   ],
   "source": [
    "with open('random.txt', 'r') as f:\n",
    "    print(f.readline())\n",
    "    print(f.readline())\n",
    "    "
   ]
  },
  {
   "cell_type": "markdown",
   "id": "e80ebf29",
   "metadata": {},
   "source": [
    "### File Readlines"
   ]
  },
  {
   "cell_type": "code",
   "execution_count": null,
   "id": "148c4e58",
   "metadata": {},
   "outputs": [],
   "source": []
  },
  {
   "cell_type": "code",
   "execution_count": 83,
   "id": "21c6a6ec",
   "metadata": {},
   "outputs": [
    {
     "name": "stdout",
     "output_type": "stream",
     "text": [
      "['This is a line\\n', 'This is next line\\n', 'This is a sentence\\n', 'Whatever']\n"
     ]
    }
   ],
   "source": [
    "with open('random.txt', 'r') as f:\n",
    "    print(f.readlines())"
   ]
  },
  {
   "cell_type": "code",
   "execution_count": 84,
   "id": "48e9f1f3",
   "metadata": {},
   "outputs": [
    {
     "name": "stdout",
     "output_type": "stream",
     "text": [
      "This is a line\n",
      "\n",
      "This is next line\n",
      "\n",
      "This is a sentence\n",
      "\n",
      "Whatever\n"
     ]
    }
   ],
   "source": [
    "with open('random.txt', 'r') as f:\n",
    "    for i in f.readlines():\n",
    "        print(i)"
   ]
  },
  {
   "cell_type": "code",
   "execution_count": null,
   "id": "8b781546",
   "metadata": {},
   "outputs": [],
   "source": []
  },
  {
   "cell_type": "markdown",
   "id": "ff71b129",
   "metadata": {},
   "source": [
    "# File writing"
   ]
  },
  {
   "cell_type": "code",
   "execution_count": 1,
   "id": "6f2e564f",
   "metadata": {},
   "outputs": [],
   "source": [
    "with open(\"data.txt\", \"w\") as f:\n",
    "    f.write(\"Hello world\\n\")\n",
    "    f.write(\"This text is created using file handling in python\")"
   ]
  },
  {
   "cell_type": "code",
   "execution_count": 14,
   "id": "cfe4b7f6",
   "metadata": {},
   "outputs": [
    {
     "name": "stdout",
     "output_type": "stream",
     "text": [
      "Hello world\n",
      "Writeline method to insert data\n",
      "This takes list as an input\n",
      "\n"
     ]
    }
   ],
   "source": [
    "with open('data.txt', 'r') as f:\n",
    "    print(f.read())"
   ]
  },
  {
   "cell_type": "code",
   "execution_count": null,
   "id": "fad4e60e",
   "metadata": {},
   "outputs": [],
   "source": []
  },
  {
   "cell_type": "markdown",
   "id": "f3b4963d",
   "metadata": {},
   "source": [
    "# Writelines\n",
    "\n",
    "### This takes list as an input and dumps the whole list at the current cursor of the text document\n"
   ]
  },
  {
   "cell_type": "code",
   "execution_count": 26,
   "id": "5b1845dd",
   "metadata": {},
   "outputs": [],
   "source": [
    "data = ['Hello world\\n', 'Writeline method to insert data\\n', 'This takes list as an input\\n']"
   ]
  },
  {
   "cell_type": "code",
   "execution_count": 44,
   "id": "99a1e878",
   "metadata": {},
   "outputs": [],
   "source": [
    "with open('data.txt', 'w') as f:\n",
    "    \n",
    "    f.writelines(data)"
   ]
  },
  {
   "cell_type": "code",
   "execution_count": 45,
   "id": "66d6b6bb",
   "metadata": {},
   "outputs": [
    {
     "name": "stdout",
     "output_type": "stream",
     "text": [
      "Hello world\n",
      "Writeline method to insert data\n",
      "This takes list as an input\n",
      "\n"
     ]
    }
   ],
   "source": [
    "with open('data.txt', 'r') as f:\n",
    "    print(f.read())"
   ]
  },
  {
   "cell_type": "code",
   "execution_count": null,
   "id": "f6c06d7f",
   "metadata": {},
   "outputs": [],
   "source": []
  },
  {
   "cell_type": "markdown",
   "id": "07c44d03",
   "metadata": {},
   "source": [
    "# Drawback of write and writelines mode"
   ]
  },
  {
   "cell_type": "code",
   "execution_count": 34,
   "id": "b38aa786",
   "metadata": {},
   "outputs": [],
   "source": [
    "with open('data.txt','w') as f:\n",
    "    f.write(\"Hello\")"
   ]
  },
  {
   "cell_type": "code",
   "execution_count": 35,
   "id": "5a1f035d",
   "metadata": {},
   "outputs": [
    {
     "name": "stdout",
     "output_type": "stream",
     "text": [
      "Hello\n"
     ]
    }
   ],
   "source": [
    "with open('data.txt', 'r') as f:\n",
    "    print(f.read())"
   ]
  },
  {
   "cell_type": "code",
   "execution_count": null,
   "id": "24852cbc",
   "metadata": {},
   "outputs": [],
   "source": []
  },
  {
   "cell_type": "markdown",
   "id": "b448fbf9",
   "metadata": {},
   "source": [
    "# Append\n",
    "\n",
    "### To retain the previous data in the file\n",
    "### This takes input or list as an input and dumps data at the current cursor of the text document"
   ]
  },
  {
   "cell_type": "code",
   "execution_count": null,
   "id": "fbb75bd0",
   "metadata": {},
   "outputs": [],
   "source": []
  },
  {
   "cell_type": "code",
   "execution_count": 36,
   "id": "722470f7",
   "metadata": {},
   "outputs": [],
   "source": [
    "with open('data.txt', 'a') as f:\n",
    "    f.write(\"Append mode\")"
   ]
  },
  {
   "cell_type": "code",
   "execution_count": 37,
   "id": "73e29bd5",
   "metadata": {},
   "outputs": [
    {
     "name": "stdout",
     "output_type": "stream",
     "text": [
      "HelloAppend mode\n"
     ]
    }
   ],
   "source": [
    "with open('data.txt', 'r') as f:\n",
    "    print(f.read())"
   ]
  },
  {
   "cell_type": "code",
   "execution_count": null,
   "id": "7e483e6a",
   "metadata": {},
   "outputs": [],
   "source": []
  },
  {
   "cell_type": "code",
   "execution_count": 46,
   "id": "642d4285",
   "metadata": {},
   "outputs": [],
   "source": [
    "with open('data.txt', 'a') as f:\n",
    "    f.write(\"Append mode\\n\")"
   ]
  },
  {
   "cell_type": "code",
   "execution_count": 47,
   "id": "dac7bd65",
   "metadata": {},
   "outputs": [
    {
     "name": "stdout",
     "output_type": "stream",
     "text": [
      "Hello world\n",
      "Writeline method to insert data\n",
      "This takes list as an input\n",
      "Append mode\n",
      "\n"
     ]
    }
   ],
   "source": [
    "with open('data.txt', 'r') as f:\n",
    "    print(f.read())"
   ]
  },
  {
   "cell_type": "code",
   "execution_count": null,
   "id": "9dd009d0",
   "metadata": {},
   "outputs": [],
   "source": []
  },
  {
   "cell_type": "code",
   "execution_count": 61,
   "id": "21915a31",
   "metadata": {},
   "outputs": [],
   "source": [
    "with open('append+.txt', 'a') as f:\n",
    "    \n",
    "    f.writelines(data)"
   ]
  },
  {
   "cell_type": "code",
   "execution_count": 62,
   "id": "fde88066",
   "metadata": {},
   "outputs": [
    {
     "name": "stdout",
     "output_type": "stream",
     "text": [
      "Hello world\n",
      "Writeline method to insert data\n",
      "This takes list as an input\n",
      "\n"
     ]
    }
   ],
   "source": [
    "with open('append+.txt', 'r') as f:\n",
    "    print(f.read())"
   ]
  },
  {
   "cell_type": "code",
   "execution_count": null,
   "id": "497a64e8",
   "metadata": {},
   "outputs": [],
   "source": []
  },
  {
   "cell_type": "markdown",
   "id": "0da132ff",
   "metadata": {},
   "source": [
    "# Append and read (a+)\n"
   ]
  },
  {
   "cell_type": "markdown",
   "id": "3443b135",
   "metadata": {},
   "source": [
    "### Seek mode in a+ mode for reading\n",
    "\n",
    "### Tell mode can give the current index of the cursor"
   ]
  },
  {
   "cell_type": "code",
   "execution_count": 63,
   "id": "62a03a1d",
   "metadata": {},
   "outputs": [
    {
     "name": "stdout",
     "output_type": "stream",
     "text": [
      "\n"
     ]
    }
   ],
   "source": [
    "with open('append+.txt', 'a+') as f:\n",
    "    f.write(\"Append+ mode\\n\")\n",
    "    print(f.read())"
   ]
  },
  {
   "cell_type": "code",
   "execution_count": 89,
   "id": "a062d3a6",
   "metadata": {},
   "outputs": [
    {
     "name": "stdout",
     "output_type": "stream",
     "text": [
      "Hello world\n",
      "\n",
      "32\n",
      "46\n",
      "Hello world\n",
      "Writeline method to insert data\n",
      "This takes list as an input\n",
      "Append+ mode\n",
      "Append+ mode with seek mode\n",
      "Append+ mode with seek mode\n",
      "Append+ mode with seek mode\n",
      "\n",
      "176\n"
     ]
    }
   ],
   "source": [
    "with open('append+.txt', 'a+') as f:\n",
    "#     f.write(\"Append+ mode with seek mode\\n\")\n",
    "    \n",
    "    f.seek(0)\n",
    "    print(f.readline())\n",
    "    print(len(f.readline()))\n",
    "    print(f.tell())\n",
    "    f.seek(0) # Add the index from where you want to read or write\n",
    "    print(f.read())\n",
    "    print(f.tell())"
   ]
  },
  {
   "cell_type": "code",
   "execution_count": null,
   "id": "a0064853",
   "metadata": {},
   "outputs": [],
   "source": []
  },
  {
   "cell_type": "markdown",
   "id": "9439d076",
   "metadata": {},
   "source": [
    "# Write odd numbers from 1 to 50 in odddata.txt"
   ]
  },
  {
   "cell_type": "code",
   "execution_count": 1,
   "id": "e17f3edb",
   "metadata": {},
   "outputs": [],
   "source": [
    "with open('odddata.txt', 'w') as odddata:\n",
    "    \n",
    "    for i in range(1,51):\n",
    "        \n",
    "        if(i%2!=0):\n",
    "            odddata.write(f'{i}\\n')"
   ]
  },
  {
   "cell_type": "code",
   "execution_count": 2,
   "id": "5ca8d276",
   "metadata": {},
   "outputs": [
    {
     "name": "stdout",
     "output_type": "stream",
     "text": [
      "1\n",
      "3\n",
      "5\n",
      "7\n",
      "9\n",
      "11\n",
      "13\n",
      "15\n",
      "17\n",
      "19\n",
      "21\n",
      "23\n",
      "25\n",
      "27\n",
      "29\n",
      "31\n",
      "33\n",
      "35\n",
      "37\n",
      "39\n",
      "41\n",
      "43\n",
      "45\n",
      "47\n",
      "49\n",
      "\n"
     ]
    }
   ],
   "source": [
    "with open('odddata.txt', 'r') as odddata_read:\n",
    "    print(odddata_read.read())"
   ]
  },
  {
   "cell_type": "code",
   "execution_count": null,
   "id": "b0f5c641",
   "metadata": {},
   "outputs": [],
   "source": []
  },
  {
   "cell_type": "markdown",
   "id": "eba44498",
   "metadata": {},
   "source": [
    "# Copy data from one file to other file"
   ]
  },
  {
   "cell_type": "code",
   "execution_count": 3,
   "id": "c74d4bc4",
   "metadata": {},
   "outputs": [],
   "source": [
    "with open('data.txt', 'r') as data_read:\n",
    "    with open('copy_data.txt', 'w') as copy_data_write:\n",
    "        copy_data_write.write(data_read.read())"
   ]
  },
  {
   "cell_type": "code",
   "execution_count": 8,
   "id": "20c47913",
   "metadata": {},
   "outputs": [
    {
     "name": "stdout",
     "output_type": "stream",
     "text": [
      "Hello world\n",
      "Writeline method to insert data\n",
      "This takes list as an input\n",
      "Append mode\n",
      "Hello world\n",
      "Writeline method to insert data\n",
      "This takes list as an input\n",
      "\n"
     ]
    }
   ],
   "source": [
    "with open('copy_data.txt', 'r') as copy_data_read:\n",
    "    print(copy_data_read.read())"
   ]
  },
  {
   "cell_type": "code",
   "execution_count": null,
   "id": "e27a44ff",
   "metadata": {},
   "outputs": [],
   "source": []
  },
  {
   "cell_type": "markdown",
   "id": "6736c0ab",
   "metadata": {},
   "source": [
    "# OS Module"
   ]
  },
  {
   "cell_type": "markdown",
   "id": "d705059f",
   "metadata": {},
   "source": [
    "* os.getcwd() -> Get Current working directory/folder\n",
    "* os.chdir() -> Change directory/folder "
   ]
  },
  {
   "cell_type": "code",
   "execution_count": 16,
   "id": "1f4a3586",
   "metadata": {},
   "outputs": [
    {
     "name": "stdout",
     "output_type": "stream",
     "text": [
      "C:\\Users\\zeust\\OneDrive\\Documents\\ITV\\Python\\Lectures\\File Handling\n",
      "Folder 1 already created\n"
     ]
    }
   ],
   "source": [
    "import os\n",
    "print(os.getcwd())\n",
    "os.getcwd()\n",
    "os.listdir()\n",
    "try:\n",
    "    \n",
    "    os.mkdir(\"Folder 1\")\n",
    "    \n",
    "except:\n",
    "    print(\"Folder 1 already created\")\n",
    "# os.mkdir(\"Folder 1\\Folder 2\")"
   ]
  },
  {
   "cell_type": "code",
   "execution_count": 6,
   "id": "73486ddf",
   "metadata": {},
   "outputs": [],
   "source": [
    "# os.listdir()\n",
    "\n",
    "os.chdir(r'C:\\Users\\zeust\\OneDrive\\Documents\\ITV\\Python\\Lectures')\n",
    "os.chdir('File Handling')"
   ]
  },
  {
   "cell_type": "code",
   "execution_count": 7,
   "id": "6f6fd128",
   "metadata": {},
   "outputs": [
    {
     "data": {
      "text/plain": [
       "'C:\\\\Users\\\\zeust\\\\OneDrive\\\\Documents\\\\ITV\\\\Python\\\\Lectures\\\\File Handling'"
      ]
     },
     "execution_count": 7,
     "metadata": {},
     "output_type": "execute_result"
    }
   ],
   "source": [
    "os.getcwd()"
   ]
  },
  {
   "cell_type": "code",
   "execution_count": 26,
   "id": "ac635db5",
   "metadata": {},
   "outputs": [
    {
     "name": "stdout",
     "output_type": "stream",
     "text": [
      ".ipynb_checkpoints\n",
      "append+.txt\n",
      "copy_data.txt\n",
      "data.txt\n",
      "dump.txt\n",
      "File Handling_08-12-2022.ipynb\n",
      "file_handling.py\n",
      "Folder 1\n",
      "odddata.txt\n"
     ]
    }
   ],
   "source": [
    "for i in os.listdir():\n",
    "    \n",
    "    if i.count('.')>0:\n",
    "        print(i)"
   ]
  },
  {
   "cell_type": "code",
   "execution_count": 23,
   "id": "20f0f4ca",
   "metadata": {},
   "outputs": [
    {
     "name": "stdout",
     "output_type": "stream",
     "text": [
      "False\n"
     ]
    }
   ],
   "source": [
    "if 0:\n",
    "    print(True)\n",
    "else:\n",
    "    print(False)"
   ]
  }
 ],
 "metadata": {
  "kernelspec": {
   "display_name": "Python 3 (ipykernel)",
   "language": "python",
   "name": "python3"
  },
  "language_info": {
   "codemirror_mode": {
    "name": "ipython",
    "version": 3
   },
   "file_extension": ".py",
   "mimetype": "text/x-python",
   "name": "python",
   "nbconvert_exporter": "python",
   "pygments_lexer": "ipython3",
   "version": "3.11.1"
  }
 },
 "nbformat": 4,
 "nbformat_minor": 5
}
