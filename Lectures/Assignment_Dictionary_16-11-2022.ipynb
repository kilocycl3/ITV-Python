{
 "cells": [
  {
   "cell_type": "code",
   "execution_count": 22,
   "id": "f5d4ea2d",
   "metadata": {},
   "outputs": [
    {
     "name": "stdout",
     "output_type": "stream",
     "text": [
      "Given dictionary is {'name': 'John', 1: [2, 4, 3], 'sal': 38000, 'location': 'mumbai'}\n"
     ]
    }
   ],
   "source": [
    "my_dict = {'name': 'John', 1: [2, 4, 3],\"sal\":38000,\"location\":'mumbai'}\n",
    "\n",
    "print(f\"Given dictionary is {my_dict}\")"
   ]
  },
  {
   "cell_type": "code",
   "execution_count": 23,
   "id": "b20c5a46",
   "metadata": {},
   "outputs": [
    {
     "name": "stdout",
     "output_type": "stream",
     "text": [
      "\n",
      "Get all keys from dictionary: dict_keys(['name', 1, 'sal', 'location'])\n"
     ]
    }
   ],
   "source": [
    "print(f\"\\nGet all keys from dictionary: {my_dict.keys()}\")"
   ]
  },
  {
   "cell_type": "code",
   "execution_count": 24,
   "id": "fbbfeef1",
   "metadata": {},
   "outputs": [
    {
     "name": "stdout",
     "output_type": "stream",
     "text": [
      "\n",
      "Get all values from dictionary: dict_values(['John', [2, 4, 3], 38000, 'mumbai'])\n"
     ]
    }
   ],
   "source": [
    "print(f\"\\nGet all values from dictionary: {my_dict.values()}\")"
   ]
  },
  {
   "cell_type": "code",
   "execution_count": 25,
   "id": "5df71212",
   "metadata": {},
   "outputs": [
    {
     "name": "stdout",
     "output_type": "stream",
     "text": [
      "\n",
      "Get all key: values pairs from dictionary: dict_items([('name', 'John'), (1, [2, 4, 3]), ('sal', 38000), ('location', 'mumbai')])\n"
     ]
    }
   ],
   "source": [
    "print(f\"\\nGet all key: values pairs from dictionary: {my_dict.items()}\")"
   ]
  },
  {
   "cell_type": "code",
   "execution_count": 26,
   "id": "7c89a532",
   "metadata": {},
   "outputs": [
    {
     "name": "stdout",
     "output_type": "stream",
     "text": [
      "\n",
      "Updated dictionary after inserting pincode is {'name': 'John', 1: [2, 4, 3], 'sal': 38000, 'location': 'mumbai', 'pincode': 400093}\n"
     ]
    }
   ],
   "source": [
    "my_dict.update({\"pincode\": 400093})\n",
    "print(f\"\\nUpdated dictionary after inserting pincode is {my_dict}\")"
   ]
  },
  {
   "cell_type": "code",
   "execution_count": 27,
   "id": "0d9ce990",
   "metadata": {},
   "outputs": [
    {
     "name": "stdout",
     "output_type": "stream",
     "text": [
      "\n",
      "Upadating the name from `John` to `Amit` in the dictonary: {'name': 'Amit', 1: [2, 4, 3], 'sal': 38000, 'location': 'mumbai', 'pincode': 400093}\n"
     ]
    }
   ],
   "source": [
    "my_dict.update({\"name\": \"Amit\"})\n",
    "print(f\"\\nUpadating the name from `John` to `Amit` in the dictonary: {my_dict}\")"
   ]
  },
  {
   "cell_type": "code",
   "execution_count": 28,
   "id": "4a9beb33",
   "metadata": {},
   "outputs": [
    {
     "name": "stdout",
     "output_type": "stream",
     "text": [
      "\n",
      "Popping the salary from dictonary: 38000\n"
     ]
    }
   ],
   "source": [
    "print(f\"\\nPopping the salary from dictonary: {my_dict.pop('sal')}\")"
   ]
  },
  {
   "cell_type": "code",
   "execution_count": 29,
   "id": "a04216cc",
   "metadata": {},
   "outputs": [
    {
     "name": "stdout",
     "output_type": "stream",
     "text": [
      "\n",
      "Popping last element from dictonary: ('pincode', 400093)\n"
     ]
    }
   ],
   "source": [
    "print(f\"\\nPopping key-value pair from dictonary: {my_dict.popitem()}\")"
   ]
  },
  {
   "cell_type": "code",
   "execution_count": 31,
   "id": "99ac992f",
   "metadata": {},
   "outputs": [
    {
     "name": "stdout",
     "output_type": "stream",
     "text": [
      "\n",
      "Given dictonary is {'name': 'Amit', 1: [2, 4, 3], 'location': 'mumbai'}\n",
      "Accessing the second element from list in the dictonary: 4\n"
     ]
    }
   ],
   "source": [
    "print(f'\\nGiven dictonary is {my_dict}')\n",
    "print(f\"Accessing the second element from list in the dictonary: {my_dict[1][1]}\")"
   ]
  },
  {
   "cell_type": "code",
   "execution_count": 32,
   "id": "f55af4d2",
   "metadata": {},
   "outputs": [
    {
     "name": "stdout",
     "output_type": "stream",
     "text": [
      "\n",
      " Copy of dictionary is {'name': 'Amit', 1: [2, 4, 3], 'location': 'mumbai'}\n"
     ]
    }
   ],
   "source": [
    "copied_dict = my_dict.copy()\n",
    "\n",
    "print(f\"\\n Copy of dictionary is {copied_dict}\")"
   ]
  },
  {
   "cell_type": "code",
   "execution_count": 33,
   "id": "61f27d97",
   "metadata": {},
   "outputs": [
    {
     "name": "stdout",
     "output_type": "stream",
     "text": [
      "\n",
      " Copy of dictionary after removing all elements: {}\n"
     ]
    }
   ],
   "source": [
    "copied_dict.clear()\n",
    "\n",
    "print(f\"\\n Copy of dictionary after removing all elements: {copied_dict}\")"
   ]
  },
  {
   "cell_type": "code",
   "execution_count": 7,
   "id": "a2b26509",
   "metadata": {},
   "outputs": [],
   "source": [
    "s = {\n",
    "    'name':'Amit',\n",
    "    'age': 23\n",
    "}\n"
   ]
  },
  {
   "cell_type": "code",
   "execution_count": 8,
   "id": "16df0c5c",
   "metadata": {},
   "outputs": [
    {
     "data": {
      "text/plain": [
       "{'name': None}"
      ]
     },
     "execution_count": 8,
     "metadata": {},
     "output_type": "execute_result"
    }
   ],
   "source": [
    "s.fromkeys({'name':'S'})"
   ]
  },
  {
   "cell_type": "code",
   "execution_count": 9,
   "id": "9f4edda6",
   "metadata": {},
   "outputs": [
    {
     "data": {
      "text/plain": [
       "{'name': 'Amit', 'age': 23}"
      ]
     },
     "execution_count": 9,
     "metadata": {},
     "output_type": "execute_result"
    }
   ],
   "source": [
    "s"
   ]
  },
  {
   "cell_type": "code",
   "execution_count": null,
   "id": "081d360d",
   "metadata": {},
   "outputs": [],
   "source": []
  }
 ],
 "metadata": {
  "kernelspec": {
   "display_name": "Python 3 (ipykernel)",
   "language": "python",
   "name": "python3"
  },
  "language_info": {
   "codemirror_mode": {
    "name": "ipython",
    "version": 3
   },
   "file_extension": ".py",
   "mimetype": "text/x-python",
   "name": "python",
   "nbconvert_exporter": "python",
   "pygments_lexer": "ipython3",
   "version": "3.11.0"
  }
 },
 "nbformat": 4,
 "nbformat_minor": 5
}
