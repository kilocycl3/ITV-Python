{
 "cells": [
  {
   "cell_type": "code",
   "execution_count": 17,
   "id": "23b5ff1e",
   "metadata": {},
   "outputs": [],
   "source": [
    "mydata = {1,2,3,4,5,6,7,8}"
   ]
  },
  {
   "cell_type": "code",
   "execution_count": 18,
   "id": "6857a34a",
   "metadata": {},
   "outputs": [],
   "source": [
    "mydata.add('Mumbai')"
   ]
  },
  {
   "cell_type": "code",
   "execution_count": 12,
   "id": "abbd30f8",
   "metadata": {},
   "outputs": [
    {
     "data": {
      "text/plain": [
       "{1, 2, 3, 4, 5, 6, 7, 8, 'Mumbai'}"
      ]
     },
     "execution_count": 12,
     "metadata": {},
     "output_type": "execute_result"
    }
   ],
   "source": [
    "mydata"
   ]
  },
  {
   "cell_type": "code",
   "execution_count": 13,
   "id": "4eb38781",
   "metadata": {},
   "outputs": [],
   "source": [
    "mydata.clear()"
   ]
  },
  {
   "cell_type": "code",
   "execution_count": 15,
   "id": "1c705e67",
   "metadata": {},
   "outputs": [],
   "source": [
    "mydata = set()"
   ]
  },
  {
   "cell_type": "code",
   "execution_count": 16,
   "id": "8aef70e8",
   "metadata": {},
   "outputs": [
    {
     "data": {
      "text/plain": [
       "set()"
      ]
     },
     "execution_count": 16,
     "metadata": {},
     "output_type": "execute_result"
    }
   ],
   "source": [
    "mydata"
   ]
  },
  {
   "cell_type": "code",
   "execution_count": 53,
   "id": "04387b9d",
   "metadata": {},
   "outputs": [],
   "source": [
    "mydata1 = mydata.copy()"
   ]
  },
  {
   "cell_type": "code",
   "execution_count": 46,
   "id": "2907883a",
   "metadata": {},
   "outputs": [
    {
     "data": {
      "text/plain": [
       "{1, 2, 3, 4, 5, 6, 7, 8, 'Mumbai'}"
      ]
     },
     "execution_count": 46,
     "metadata": {},
     "output_type": "execute_result"
    }
   ],
   "source": [
    "mydata1"
   ]
  },
  {
   "cell_type": "code",
   "execution_count": 47,
   "id": "1cc4a7cc",
   "metadata": {},
   "outputs": [
    {
     "data": {
      "text/plain": [
       "1"
      ]
     },
     "execution_count": 47,
     "metadata": {},
     "output_type": "execute_result"
    }
   ],
   "source": [
    "mydata1.pop()"
   ]
  },
  {
   "cell_type": "code",
   "execution_count": 55,
   "id": "7cd8deb0",
   "metadata": {},
   "outputs": [],
   "source": [
    "mydata1.remove('Mumbai')"
   ]
  },
  {
   "cell_type": "code",
   "execution_count": 56,
   "id": "e7badf7f",
   "metadata": {},
   "outputs": [
    {
     "data": {
      "text/plain": [
       "{1, 2, 3, 4, 5, 6, 7, 8}"
      ]
     },
     "execution_count": 56,
     "metadata": {},
     "output_type": "execute_result"
    }
   ],
   "source": [
    "mydata1"
   ]
  },
  {
   "cell_type": "code",
   "execution_count": 57,
   "id": "ee8b6b7c",
   "metadata": {},
   "outputs": [
    {
     "data": {
      "text/plain": [
       "{1, 2, 3, 4, 5, 6, 7, 8, 'Mumbai'}"
      ]
     },
     "execution_count": 57,
     "metadata": {},
     "output_type": "execute_result"
    }
   ],
   "source": [
    "mydata1.union(mydata)"
   ]
  },
  {
   "cell_type": "code",
   "execution_count": 58,
   "id": "ad5d9a58",
   "metadata": {},
   "outputs": [
    {
     "data": {
      "text/plain": [
       "False"
      ]
     },
     "execution_count": 58,
     "metadata": {},
     "output_type": "execute_result"
    }
   ],
   "source": [
    "mydata.isdisjoint(mydata1)"
   ]
  },
  {
   "cell_type": "code",
   "execution_count": 67,
   "id": "9cfedd06",
   "metadata": {},
   "outputs": [
    {
     "data": {
      "text/plain": [
       "False"
      ]
     },
     "execution_count": 67,
     "metadata": {},
     "output_type": "execute_result"
    }
   ],
   "source": [
    "mydata.isdisjoint({7})"
   ]
  },
  {
   "cell_type": "code",
   "execution_count": null,
   "id": "97bd2044",
   "metadata": {},
   "outputs": [],
   "source": []
  },
  {
   "cell_type": "code",
   "execution_count": null,
   "id": "b7af8675",
   "metadata": {},
   "outputs": [],
   "source": []
  }
 ],
 "metadata": {
  "kernelspec": {
   "display_name": "Python 3 (ipykernel)",
   "language": "python",
   "name": "python3"
  },
  "language_info": {
   "codemirror_mode": {
    "name": "ipython",
    "version": 3
   },
   "file_extension": ".py",
   "mimetype": "text/x-python",
   "name": "python",
   "nbconvert_exporter": "python",
   "pygments_lexer": "ipython3",
   "version": "3.11.0"
  }
 },
 "nbformat": 4,
 "nbformat_minor": 5
}
