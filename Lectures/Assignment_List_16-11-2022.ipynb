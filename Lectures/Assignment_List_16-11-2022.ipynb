{
 "cells": [
  {
   "cell_type": "code",
   "execution_count": 2,
   "id": "6ce5d460",
   "metadata": {},
   "outputs": [
    {
     "name": "stdout",
     "output_type": "stream",
     "text": [
      "Enter name, age, salary respectively Amit 23 100000\n"
     ]
    }
   ],
   "source": [
    "l = input(\"Enter name, age, salary respectively \").split(' ')"
   ]
  },
  {
   "cell_type": "code",
   "execution_count": 3,
   "id": "9debfb88",
   "metadata": {},
   "outputs": [
    {
     "name": "stdout",
     "output_type": "stream",
     "text": [
      "['Amit', '23', '100000']\n"
     ]
    }
   ],
   "source": [
    "print(l)"
   ]
  },
  {
   "cell_type": "code",
   "execution_count": 4,
   "id": "87b49d99",
   "metadata": {},
   "outputs": [],
   "source": [
    "l[1], l[2] = int(l[1]), int(l[2])"
   ]
  },
  {
   "cell_type": "code",
   "execution_count": 5,
   "id": "a763fcd5",
   "metadata": {},
   "outputs": [
    {
     "name": "stdout",
     "output_type": "stream",
     "text": [
      "['Amit', 23, 100000]\n"
     ]
    }
   ],
   "source": [
    "print(l)"
   ]
  },
  {
   "cell_type": "code",
   "execution_count": 6,
   "id": "aa7bd5ee",
   "metadata": {},
   "outputs": [
    {
     "name": "stdout",
     "output_type": "stream",
     "text": [
      "Enter your profession: Developer\n"
     ]
    }
   ],
   "source": [
    "designation = input(\"Enter your profession: \")"
   ]
  },
  {
   "cell_type": "code",
   "execution_count": 7,
   "id": "e7792dae",
   "metadata": {},
   "outputs": [],
   "source": [
    "l.append(designation)"
   ]
  },
  {
   "cell_type": "code",
   "execution_count": 8,
   "id": "b75058c0",
   "metadata": {},
   "outputs": [
    {
     "name": "stdout",
     "output_type": "stream",
     "text": [
      "['Amit', 23, 100000, 'Developer']\n"
     ]
    }
   ],
   "source": [
    "print(l)"
   ]
  },
  {
   "cell_type": "code",
   "execution_count": 12,
   "id": "292e406f",
   "metadata": {},
   "outputs": [
    {
     "name": "stdout",
     "output_type": "stream",
     "text": [
      "Count of name: Amit in the list: 1\n"
     ]
    }
   ],
   "source": [
    "print(f\"Count of name: Amit in the list: {l.count('Amit')}\")"
   ]
  },
  {
   "cell_type": "code",
   "execution_count": 15,
   "id": "3916e3c8",
   "metadata": {},
   "outputs": [
    {
     "name": "stdout",
     "output_type": "stream",
     "text": [
      "Index of age: 1\n"
     ]
    }
   ],
   "source": [
    "print(f\"Index of age: {l.index(23)}\")"
   ]
  },
  {
   "cell_type": "code",
   "execution_count": 16,
   "id": "978afac9",
   "metadata": {},
   "outputs": [
    {
     "name": "stdout",
     "output_type": "stream",
     "text": [
      "Pop the last element: Developer\n"
     ]
    }
   ],
   "source": [
    "print(f\"Pop the last element: {l.pop()}\")"
   ]
  },
  {
   "cell_type": "code",
   "execution_count": 17,
   "id": "a2962ef2",
   "metadata": {},
   "outputs": [
    {
     "name": "stdout",
     "output_type": "stream",
     "text": [
      "Updated List: ['Amit', 23, 100000]\n"
     ]
    }
   ],
   "source": [
    "print(f\"Updated List: {l}\")"
   ]
  },
  {
   "cell_type": "code",
   "execution_count": 18,
   "id": "38262653",
   "metadata": {},
   "outputs": [
    {
     "name": "stdout",
     "output_type": "stream",
     "text": [
      "Enter your profession: Developer\n",
      "Inserted the element at index 2: ['Amit', 23, 'Developer', 100000]\n"
     ]
    }
   ],
   "source": [
    "designation = input(\"Enter your profession: \")\n",
    "l.insert(2,designation)\n",
    "print(f\"Inserted the element at index 2: {l}\")"
   ]
  },
  {
   "cell_type": "code",
   "execution_count": 22,
   "id": "4c96a573",
   "metadata": {},
   "outputs": [
    {
     "name": "stdout",
     "output_type": "stream",
     "text": [
      "Remove the salary from the list\n",
      "Updated List: ['Amit', 23, 'Developer']\n"
     ]
    }
   ],
   "source": [
    "print(\"Remove the salary from the list\")\n",
    "l.remove(100000)\n",
    "print(f\"Updated List: {l}\")"
   ]
  },
  {
   "cell_type": "code",
   "execution_count": 27,
   "id": "4c8f25b9",
   "metadata": {},
   "outputs": [
    {
     "name": "stdout",
     "output_type": "stream",
     "text": [
      "new list: [2, 35, 6, 677, 86, 453, 7452, 54]\n",
      "sorted list: [2, 6, 35, 54, 86, 453, 677, 7452]\n"
     ]
    }
   ],
   "source": [
    "sL = [2,35,6,677,86,453,7452,54]\n",
    "print(f\"new list: {sL}\")\n",
    "sL.sort()\n",
    "print(f\"sorted list: {sL}\")"
   ]
  },
  {
   "cell_type": "code",
   "execution_count": 32,
   "id": "3e124928",
   "metadata": {},
   "outputs": [
    {
     "name": "stdout",
     "output_type": "stream",
     "text": [
      "First List: [1, 2, 4, 5, 6]\n",
      "Second List[45, 566, 23]\n",
      "Extended List: [1, 2, 4, 5, 6, 45, 566, 23]\n"
     ]
    }
   ],
   "source": [
    "l1 = [1,2,4,5,6]\n",
    "l2 = [45,566,23]\n",
    "\n",
    "print(f\"First List: {l1}\\nSecond List{l2}\")\n",
    "l1.extend(l2)\n",
    "\n",
    "print(f\"Extended List: {l1}\")"
   ]
  },
  {
   "cell_type": "code",
   "execution_count": 34,
   "id": "1e86a1ae",
   "metadata": {},
   "outputs": [
    {
     "name": "stdout",
     "output_type": "stream",
     "text": [
      "Emptied the second list: []\n"
     ]
    }
   ],
   "source": [
    "l2.clear()\n",
    "print(f\"Emptied the second list: {l2}\")"
   ]
  },
  {
   "cell_type": "code",
   "execution_count": 35,
   "id": "d2fc2181",
   "metadata": {},
   "outputs": [
    {
     "name": "stdout",
     "output_type": "stream",
     "text": [
      "Copy of list: ['Amit', 23, 'Developer']\n"
     ]
    }
   ],
   "source": [
    "l_copy = l.copy()\n",
    "\n",
    "print(f\"Copy of list: {l_copy}\")"
   ]
  },
  {
   "cell_type": "code",
   "execution_count": null,
   "id": "b7ec180a",
   "metadata": {},
   "outputs": [],
   "source": []
  }
 ],
 "metadata": {
  "kernelspec": {
   "display_name": "Python 3 (ipykernel)",
   "language": "python",
   "name": "python3"
  },
  "language_info": {
   "codemirror_mode": {
    "name": "ipython",
    "version": 3
   },
   "file_extension": ".py",
   "mimetype": "text/x-python",
   "name": "python",
   "nbconvert_exporter": "python",
   "pygments_lexer": "ipython3",
   "version": "3.11.0"
  }
 },
 "nbformat": 4,
 "nbformat_minor": 5
}
