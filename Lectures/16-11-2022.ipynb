{
 "cells": [
  {
   "cell_type": "code",
   "execution_count": 8,
   "id": "6fbf68b2",
   "metadata": {},
   "outputs": [
    {
     "name": "stdout",
     "output_type": "stream",
     "text": [
      "Enter your age: 30\n",
      "Break? yes or no: yes\n",
      "No serving for you\n"
     ]
    }
   ],
   "source": [
    "inp_age = int(input(\"Enter your age: \"))\n",
    "is_break = input(\"Break? yes or no: \")\n",
    "\n",
    "if(is_break == 'no'):\n",
    "    if(inp_age >=18):\n",
    "        print(\"You're served\")\n",
    "    else:\n",
    "        print(\"No serving for you\")\n",
    "else:\n",
    "    print(\"No serving for you\")"
   ]
  },
  {
   "cell_type": "code",
   "execution_count": 18,
   "id": "5e8c760e",
   "metadata": {},
   "outputs": [
    {
     "name": "stdout",
     "output_type": "stream",
     "text": [
      "Enter the fruit: apple\n",
      "Enter the quantity: 500ml\n",
      "APP500\n"
     ]
    }
   ],
   "source": [
    "fruit = input(\"Enter the fruit: \")\n",
    "quan = input(\"Enter the quantity: \")\n",
    "\n",
    "fl = fruit.split(' ')\n",
    "name = ''\n",
    "for i in fl:\n",
    "    name = name+i[:3].upper()\n",
    "    \n",
    "print(name+quan[:-2])\n"
   ]
  },
  {
   "cell_type": "code",
   "execution_count": null,
   "id": "d913fc0e",
   "metadata": {},
   "outputs": [],
   "source": []
  },
  {
   "cell_type": "code",
   "execution_count": 27,
   "id": "b963cb26",
   "metadata": {},
   "outputs": [
    {
     "name": "stdout",
     "output_type": "stream",
     "text": [
      "Enter your age: 14\n",
      "Parental Supervision? yes or no: no\n",
      "Cannot watch\n"
     ]
    }
   ],
   "source": [
    "inp_age = int(input(\"Enter your age: \"))\n",
    "sv = input(\"Parental Supervision? yes or no: \")\n",
    "\n",
    "if(sv == 'yes' and inp_age<15):\n",
    "    print(\"Can watch\")\n",
    "elif(sv == 'no' and inp_age<15):\n",
    "    print(\"Cannot watch\")\n",
    "else:\n",
    "    print(\"Can watch\")"
   ]
  },
  {
   "cell_type": "code",
   "execution_count": null,
   "id": "d8b6ffd4",
   "metadata": {},
   "outputs": [],
   "source": []
  },
  {
   "cell_type": "code",
   "execution_count": 34,
   "id": "e4df517c",
   "metadata": {},
   "outputs": [
    {
     "name": "stdout",
     "output_type": "stream",
     "text": [
      "Enter first number: 0\n",
      "Enter second number: 0\n",
      "True\n"
     ]
    }
   ],
   "source": [
    "num1 = int(input(\"Enter first number: \"))\n",
    "num2 = int(input(\"Enter second number: \"))\n",
    "\n",
    "if((num1<0 and num2<0) or (num1>0 and num2>0) or (num1==0 and num2==0)):\n",
    "    print(True)\n",
    "else:\n",
    "    print(False)"
   ]
  },
  {
   "cell_type": "code",
   "execution_count": null,
   "id": "0b05a3e7",
   "metadata": {},
   "outputs": [],
   "source": []
  },
  {
   "cell_type": "code",
   "execution_count": null,
   "id": "2ccefb8d",
   "metadata": {},
   "outputs": [],
   "source": []
  }
 ],
 "metadata": {
  "kernelspec": {
   "display_name": "Python 3 (ipykernel)",
   "language": "python",
   "name": "python3"
  },
  "language_info": {
   "codemirror_mode": {
    "name": "ipython",
    "version": 3
   },
   "file_extension": ".py",
   "mimetype": "text/x-python",
   "name": "python",
   "nbconvert_exporter": "python",
   "pygments_lexer": "ipython3",
   "version": "3.11.0"
  }
 },
 "nbformat": 4,
 "nbformat_minor": 5
}
